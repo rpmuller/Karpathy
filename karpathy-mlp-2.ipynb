{
 "cells": [
  {
   "cell_type": "code",
   "execution_count": 5,
   "metadata": {},
   "outputs": [],
   "source": [
    "using Flux, StatsBase, Random\n",
    "using Flux: onehotbatch, onecold, logitcrossentropy, throttle, params\n",
    "using Flux.Data: DataLoader"
   ]
  },
  {
   "cell_type": "code",
   "execution_count": 6,
   "metadata": {},
   "outputs": [
    {
     "data": {
      "text/plain": [
       "32033-element Vector{SubString{String}}:\n",
       " \"nahlani\"\n",
       " \"adaora\"\n",
       " \"neziah\"\n",
       " \"adyson\"\n",
       " \"venna\"\n",
       " \"chozyn\"\n",
       " \"gillian\"\n",
       " \"maliah\"\n",
       " \"breylon\"\n",
       " \"christie\"\n",
       " ⋮\n",
       " \"lauriana\"\n",
       " \"aynoor\"\n",
       " \"aamiya\"\n",
       " \"tyheem\"\n",
       " \"lathan\"\n",
       " \"ashby\"\n",
       " \"arleigh\"\n",
       " \"consuelo\"\n",
       " \"aneesh\""
      ]
     },
     "metadata": {},
     "output_type": "display_data"
    }
   ],
   "source": [
    "words = split(read(\"names.txt\",String),\"\\n\")\n",
    "words[1:10]\n",
    "shuffle!(words)"
   ]
  },
  {
   "cell_type": "code",
   "execution_count": 7,
   "metadata": {},
   "outputs": [
    {
     "data": {
      "text/plain": [
       "Dict{Int64, Char} with 27 entries:\n",
       "  5  => 'd'\n",
       "  16 => 'o'\n",
       "  20 => 's'\n",
       "  12 => 'k'\n",
       "  24 => 'w'\n",
       "  8  => 'g'\n",
       "  17 => 'p'\n",
       "  1  => '.'\n",
       "  19 => 'r'\n",
       "  22 => 'u'\n",
       "  23 => 'v'\n",
       "  6  => 'e'\n",
       "  11 => 'j'\n",
       "  9  => 'h'\n",
       "  14 => 'm'\n",
       "  3  => 'b'\n",
       "  7  => 'f'\n",
       "  25 => 'x'\n",
       "  4  => 'c'\n",
       "  ⋮  => ⋮"
      ]
     },
     "metadata": {},
     "output_type": "display_data"
    }
   ],
   "source": [
    "# Create character embeddings. We're going to do this a little\n",
    "# differently, so that we can have the same embeddings AK uses.\n",
    "# I.e. the index of \".\" is 0\n",
    "chars = \".abcdefghijklmnopqrstuvwxyz\"\n",
    "stoi = Dict( s => i for (i,s) in enumerate(chars))\n",
    "itos = Dict( i => s for (i,s) in enumerate(chars))\n",
    "vocab_size = length(chars)\n",
    "itos"
   ]
  },
  {
   "cell_type": "code",
   "execution_count": 8,
   "metadata": {},
   "outputs": [
    {
     "data": {
      "text/plain": [
       "((228146, 3), (228146,))"
      ]
     },
     "metadata": {},
     "output_type": "display_data"
    }
   ],
   "source": [
    "# Compile dataset for neural net:\n",
    "block_size = 3 # context length: how many chars to we use to predict next one?\n",
    "Xi,Y = [],[]\n",
    "\n",
    "for w in words\n",
    "    #println(w)\n",
    "    context = ones(Int64,block_size)\n",
    "    for ch in string(w,\".\")\n",
    "        ix = stoi[ch]\n",
    "        push!(Xi,context)\n",
    "        push!(Y,ix)\n",
    "        #println(join(itos[i] for i in context),\" ---> \", itos[ix])\n",
    "        context = vcat(context[2:end],[ix])\n",
    "    end\n",
    "end\n",
    "\n",
    "\n",
    "# Make into a multidimensional array\n",
    "nrows,ncols = length(Xi),length(Xi[1])\n",
    "X = zeros(Int64,nrows,ncols)\n",
    "for i in 1:nrows\n",
    "    X[i,:] = Xi[i]\n",
    "end\n",
    "\n",
    "ntrial = nrows\n",
    "\n",
    "size(X), size(Y)\n"
   ]
  },
  {
   "cell_type": "code",
   "execution_count": 9,
   "metadata": {},
   "outputs": [
    {
     "data": {
      "text/plain": [
       "28829:32033"
      ]
     },
     "metadata": {},
     "output_type": "display_data"
    }
   ],
   "source": [
    "# break the code into training, development, and testing sets\n",
    "nw = length(words)\n",
    "n1 = 8*nw÷10\n",
    "n2 = 9*nw÷10\n",
    "\n",
    "# Ranges are\n",
    "train = 1:n1\n",
    "dev = n1:n2\n",
    "test = n2:nw"
   ]
  },
  {
   "cell_type": "code",
   "execution_count": 10,
   "metadata": {},
   "outputs": [
    {
     "data": {
      "text/plain": [
       "801-element DataLoader(::Tuple{Base.ReshapedArray{Bool, 2, OneHotArrays.OneHotArray{UInt32, 2, 3, Matrix{UInt32}}, Tuple{Base.MultiplicativeInverses.SignedMultiplicativeInverse{Int64}, Base.MultiplicativeInverses.SignedMultiplicativeInverse{Int64}}}, OneHotArrays.OneHotMatrix{UInt32, Vector{UInt32}}}, batchsize=32)\n",
       "  with first element:\n",
       "  (81×32 Matrix{Bool}, 27×32 OneHotMatrix(::Vector{UInt32}) with eltype Bool,)"
      ]
     },
     "metadata": {},
     "output_type": "display_data"
    }
   ],
   "source": [
    "Xoh = reshape(onehotbatch(X[train,:]',1:27),81,:)\n",
    "Yoh = onehotbatch(Y[train],1:27)\n",
    "\n",
    "# If you don't want to use a smaller batchsize, you can just use an array\n",
    "# for data:\n",
    "#data = [(Xoh,Yoh)]\n",
    "data = DataLoader((Xoh,Yoh), batchsize=32)\n"
   ]
  },
  {
   "cell_type": "code",
   "execution_count": 12,
   "metadata": {},
   "outputs": [
    {
     "data": {
      "text/plain": [
       "Chain(\n",
       "  Dense(81 => 200, tanh),               \u001b[90m# 16_400 parameters\u001b[39m\n",
       "  Dense(200 => 27),                     \u001b[90m# 5_427 parameters\u001b[39m\n",
       "  NNlib.softmax,\n",
       ") \u001b[90m                  # Total: 4 arrays, \u001b[39m21_827 parameters, 85.512 KiB."
      ]
     },
     "metadata": {},
     "output_type": "display_data"
    }
   ],
   "source": [
    "loss(X,Y) = logitcrossentropy(model(X),Y)\n",
    "\n",
    "n_hidden = 200\n",
    "\n",
    "model = Chain(\n",
    "    Dense(block_size*vocab_size => n_hidden, tanh),\n",
    "    Dense(n_hidden => vocab_size),\n",
    "    softmax\n",
    ")"
   ]
  },
  {
   "cell_type": "code",
   "execution_count": 13,
   "metadata": {},
   "outputs": [
    {
     "data": {
      "text/plain": [
       "Adam(0.0003, (0.9, 0.999), 1.0e-8, IdDict{Any, Any}())"
      ]
     },
     "metadata": {},
     "output_type": "display_data"
    }
   ],
   "source": [
    "rate = 3e-4\n",
    "opt = Adam(rate)"
   ]
  },
  {
   "cell_type": "code",
   "execution_count": 14,
   "metadata": {},
   "outputs": [
    {
     "name": "stdout",
     "output_type": "stream",
     "text": [
      "Loss 3.295593\n",
      "Loss 3.1253734\n",
      "Loss 3.1054192\n",
      "Loss 3.096839\n",
      "Loss 3.0929964\n",
      "Loss 3.090013\n",
      "Loss 3.0882595\n",
      "Loss 3.0868058\n",
      "Loss 3.0837357\n",
      "Loss 3.077503\n",
      "Loss 3.0744653\n",
      "Loss 3.0723398\n",
      "Loss 3.0708168\n",
      "Loss 3.069632\n",
      "Loss 3.0686553\n",
      "Loss 3.067742\n",
      "Loss 3.0661857\n",
      "Loss 3.065304\n",
      "Loss 3.0646229\n",
      "Loss 3.064015\n",
      "Loss 3.0634098\n"
     ]
    }
   ],
   "source": [
    "println(\"Loss $(loss(Xoh,Yoh))\")\n",
    "epochs=20\n",
    "for epoch in 1:epochs\n",
    "    Flux.train!(loss,params(model),data,opt)\n",
    "    println(\"Loss $(loss(Xoh,Yoh))\")\n",
    "\n",
    "end\n",
    "\n",
    "\n"
   ]
  },
  {
   "cell_type": "code",
   "execution_count": 17,
   "metadata": {},
   "outputs": [
    {
     "data": {
      "text/plain": [
       "\"aria.\""
      ]
     },
     "metadata": {},
     "output_type": "display_data"
    }
   ],
   "source": [
    "out = []\n",
    "context = ones(Int64,block_size)\n",
    "while true\n",
    "    Xoh = reshape(onehotbatch(context',1:vocab_size),block_size*vocab_size,:)\n",
    "    Yoh = model(Xoh)\n",
    "    ix = wsample(1:27,vec(Yoh))\n",
    "    push!(out,itos[ix])\n",
    "    context = vcat(context[2:end],[ix])\n",
    "    if ix == 1 break end\n",
    "end\n",
    "join(out)\n"
   ]
  },
  {
   "cell_type": "code",
   "execution_count": 67,
   "metadata": {},
   "outputs": [
    {
     "data": {
      "text/plain": [
       "(27, 1)"
      ]
     },
     "metadata": {},
     "output_type": "display_data"
    }
   ],
   "source": [
    "size(Yoh)"
   ]
  },
  {
   "cell_type": "code",
   "execution_count": 18,
   "metadata": {},
   "outputs": [],
   "source": []
  },
  {
   "cell_type": "code",
   "execution_count": 19,
   "metadata": {},
   "outputs": [],
   "source": []
  },
  {
   "cell_type": "code",
   "execution_count": null,
   "metadata": {},
   "outputs": [],
   "source": []
  }
 ],
 "metadata": {
  "kernelspec": {
   "display_name": "Julia 1.10.3",
   "language": "julia",
   "name": "julia-1.10"
  },
  "language_info": {
   "file_extension": ".jl",
   "mimetype": "application/julia",
   "name": "julia",
   "version": "1.10.3"
  }
 },
 "nbformat": 4,
 "nbformat_minor": 2
}
