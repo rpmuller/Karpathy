{
 "cells": [
  {
   "cell_type": "markdown",
   "metadata": {},
   "source": [
    "# Karpathy Makemore using MLP\n",
    "\n",
    "[Video](https://www.youtube.com/watch?v=TCH_1BHY58I&t=10s)\n",
    "\n",
    "Paper [A neural probabilistic language model](https://jmlr.org/papers/volume3/bengio03a/bengio03a.pdf). Bengio et al, 2003.\n",
    "\n",
    "The paper uses three previous words to predict a fourth word. It uses a vocabulary of 17k words, implemented in a 30-dimensional space.\n"
   ]
  },
  {
   "cell_type": "code",
   "execution_count": 1,
   "metadata": {},
   "outputs": [],
   "source": [
    "using Plots\n",
    "using Flux\n",
    "using Flux: onehotbatch\n",
    "using Statistics\n"
   ]
  },
  {
   "cell_type": "code",
   "execution_count": 2,
   "metadata": {},
   "outputs": [
    {
     "data": {
      "text/plain": [
       "10-element Vector{SubString{String}}:\n",
       " \"emma\"\n",
       " \"olivia\"\n",
       " \"ava\"\n",
       " \"isabella\"\n",
       " \"sophia\"\n",
       " \"charlotte\"\n",
       " \"mia\"\n",
       " \"amelia\"\n",
       " \"harper\"\n",
       " \"evelyn\""
      ]
     },
     "metadata": {},
     "output_type": "display_data"
    }
   ],
   "source": [
    "# Read names.txt into words array:\n",
    "f = open(\"names.txt\",\"r\")\n",
    "    s = read(f,String)\n",
    "close(f)\n",
    "words = split(s,\"\\n\")\n",
    "words[1:10]"
   ]
  },
  {
   "cell_type": "code",
   "execution_count": 9,
   "metadata": {},
   "outputs": [
    {
     "data": {
      "text/plain": [
       "'.': ASCII/Unicode U+002E (category Po: Punctuation, other)"
      ]
     },
     "metadata": {},
     "output_type": "display_data"
    }
   ],
   "source": [
    "# Create character embeddings. We're going to do this a little\n",
    "# differently, so that we can have the same embeddings AK uses.\n",
    "# I.e. the index of \".\" is 0\n",
    "chars = \"abcdefghijklmnopqrstuvwxyz\"\n",
    "stoi = Dict( s => i for (i,s) in enumerate(chars))\n",
    "stoi['.'] = 0\n",
    "itos = Dict( i => s for (i,s) in enumerate(chars))\n",
    "itos[0] = '.'\n"
   ]
  },
  {
   "cell_type": "code",
   "execution_count": 10,
   "metadata": {},
   "outputs": [
    {
     "name": "stdout",
     "output_type": "stream",
     "text": [
      "emma\n",
      "... ---> e\n",
      "..e ---> m\n",
      ".em ---> m\n",
      "emm ---> a\n",
      "mma ---> .\n",
      "olivia\n",
      "... ---> o\n",
      "..o ---> l\n",
      ".ol ---> i\n",
      "oli ---> v\n",
      "liv ---> i\n",
      "ivi ---> a\n",
      "via ---> .\n",
      "ava\n",
      "... ---> a\n",
      "..a ---> v\n",
      ".av ---> a\n",
      "ava ---> .\n",
      "isabella\n",
      "... ---> i\n",
      "..i ---> s\n",
      ".is ---> a\n",
      "isa ---> b\n",
      "sab ---> e\n",
      "abe ---> l\n",
      "bel ---> l\n",
      "ell ---> a\n",
      "lla ---> .\n",
      "sophia\n",
      "... ---> s\n",
      "..s ---> o\n",
      ".so ---> p\n",
      "sop ---> h\n",
      "oph ---> i\n",
      "phi ---> a\n",
      "hia ---> .\n"
     ]
    }
   ],
   "source": [
    "# Compile dataset for neural net:\n",
    "block_size = 3 # context length: how many chars to we use to predict next one?\n",
    "X,Y = [],[]\n",
    "\n",
    "for w in words[1:5]\n",
    "    println(w)\n",
    "    context = zeros(Int64,block_size)\n",
    "    for ch in string(w,\".\")\n",
    "        ix = stoi[ch]\n",
    "        push!(X,context)\n",
    "        push!(Y,ix)\n",
    "        println(join(itos[i] for i in context),\" ---> \", itos[ix])\n",
    "        context = vcat(context[2:end],[ix])\n",
    "    end\n",
    "end\n"
   ]
  },
  {
   "cell_type": "code",
   "execution_count": 13,
   "metadata": {},
   "outputs": [
    {
     "data": {
      "text/plain": [
       "27×2 Matrix{Float64}:\n",
       " -1.8697    -0.286131\n",
       "  1.32779   -0.640141\n",
       "  0.270252  -0.0124062\n",
       " -0.552227   0.479913\n",
       " -1.23392   -0.460708\n",
       " -1.54253   -0.602456\n",
       " -0.564617   0.67428\n",
       "  1.38063    0.104041\n",
       "  0.61998    1.28132\n",
       "  0.299722   0.376024\n",
       "  ⋮         \n",
       "  1.30014   -0.759306\n",
       "  1.10377    1.30924\n",
       "  0.39772    0.3565\n",
       "  1.18114    0.296153\n",
       "  0.493363  -1.17184\n",
       "  0.941814  -1.33601\n",
       "  2.04603    0.216104\n",
       "  0.739047  -0.721043\n",
       " -0.146573   0.36737"
      ]
     },
     "metadata": {},
     "output_type": "display_data"
    }
   ],
   "source": [
    "# Build embedding lookup table C.\n",
    "C = randn(27,2)"
   ]
  },
  {
   "cell_type": "code",
   "execution_count": null,
   "metadata": {},
   "outputs": [],
   "source": []
  }
 ],
 "metadata": {
  "kernelspec": {
   "display_name": "Julia 1.10.2",
   "language": "julia",
   "name": "julia-1.10"
  },
  "language_info": {
   "file_extension": ".jl",
   "mimetype": "application/julia",
   "name": "julia",
   "version": "1.10.2"
  }
 },
 "nbformat": 4,
 "nbformat_minor": 2
}
