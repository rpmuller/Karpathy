{
 "cells": [
  {
   "cell_type": "markdown",
   "metadata": {},
   "source": [
    "# Karpathy Makemore using MLP\n",
    "\n",
    "[Video](https://www.youtube.com/watch?v=TCH_1BHY58I&t=10s)\n",
    "\n",
    "Paper [A neural probabilistic language model](https://jmlr.org/papers/volume3/bengio03a/bengio03a.pdf). Bengio et al, 2003.\n",
    "\n",
    "The paper uses three previous words to predict a fourth word. It uses a vocabulary of 17k words, implemented in a 30-dimensional space.\n"
   ]
  },
  {
   "cell_type": "code",
   "execution_count": 3,
   "metadata": {},
   "outputs": [],
   "source": [
    "using Plots\n",
    "using Flux\n",
    "using Flux: softmax, crossentropy\n",
    "using Statistics\n"
   ]
  },
  {
   "cell_type": "code",
   "execution_count": 115,
   "metadata": {},
   "outputs": [
    {
     "data": {
      "text/plain": [
       "10-element Vector{SubString{String}}:\n",
       " \"emma\"\n",
       " \"olivia\"\n",
       " \"ava\"\n",
       " \"isabella\"\n",
       " \"sophia\"\n",
       " \"charlotte\"\n",
       " \"mia\"\n",
       " \"amelia\"\n",
       " \"harper\"\n",
       " \"evelyn\""
      ]
     },
     "metadata": {},
     "output_type": "display_data"
    }
   ],
   "source": [
    "# Read names.txt into words array:\n",
    "f = open(\"names.txt\",\"r\")\n",
    "    s = read(f,String)\n",
    "close(f)\n",
    "words = split(s,\"\\n\")\n",
    "words[1:10]"
   ]
  },
  {
   "cell_type": "code",
   "execution_count": 116,
   "metadata": {},
   "outputs": [
    {
     "data": {
      "text/plain": [
       "Dict{Int64, Char} with 27 entries:\n",
       "  5  => 'd'\n",
       "  16 => 'o'\n",
       "  20 => 's'\n",
       "  12 => 'k'\n",
       "  24 => 'w'\n",
       "  8  => 'g'\n",
       "  17 => 'p'\n",
       "  1  => '.'\n",
       "  19 => 'r'\n",
       "  22 => 'u'\n",
       "  23 => 'v'\n",
       "  6  => 'e'\n",
       "  11 => 'j'\n",
       "  9  => 'h'\n",
       "  14 => 'm'\n",
       "  3  => 'b'\n",
       "  7  => 'f'\n",
       "  25 => 'x'\n",
       "  4  => 'c'\n",
       "  ⋮  => ⋮"
      ]
     },
     "metadata": {},
     "output_type": "display_data"
    }
   ],
   "source": [
    "# Create character embeddings.\n",
    "chars = \".abcdefghijklmnopqrstuvwxyz\"\n",
    "stoi = Dict( s => i for (i,s) in enumerate(chars))\n",
    "itos = Dict( i => s for (i,s) in enumerate(chars))\n"
   ]
  },
  {
   "cell_type": "markdown",
   "metadata": {},
   "source": [
    "We're going to follow what Karpathy does pretty closely. The section of the FluxML docs called [Building Simple Models](https://fluxml.ai/Flux.jl/stable/models/basics/#Building-Simple-Models) gives a good foundation for doing this."
   ]
  },
  {
   "cell_type": "code",
   "execution_count": 117,
   "metadata": {},
   "outputs": [
    {
     "name": "stdout",
     "output_type": "stream",
     "text": [
      "emma\n",
      "... ---> e\n",
      "..e ---> m\n",
      ".em ---> m\n",
      "emm ---> a\n",
      "mma ---> .\n",
      "olivia\n",
      "... ---> o\n",
      "..o ---> l\n",
      ".ol ---> i\n",
      "oli ---> v\n",
      "liv ---> i\n",
      "ivi ---> a\n",
      "via ---> .\n",
      "ava\n",
      "... ---> a\n",
      "..a ---> v\n",
      ".av ---> a\n",
      "ava ---> .\n",
      "isabella\n",
      "... ---> i\n",
      "..i ---> s\n",
      ".is ---> a\n",
      "isa ---> b\n",
      "sab ---> e\n",
      "abe ---> l\n",
      "bel ---> l\n",
      "ell ---> a\n",
      "lla ---> .\n",
      "sophia\n",
      "... ---> s\n",
      "..s ---> o\n",
      ".so ---> p\n",
      "sop ---> h\n",
      "oph ---> i\n",
      "phi ---> a\n",
      "hia ---> .\n"
     ]
    }
   ],
   "source": [
    "# Compile dataset for neural net:\n",
    "block_size = 3 # context length: how many chars to we use to predict next one?\n",
    "X0,Y = [],[]\n",
    "\n",
    "for w in words[1:5]\n",
    "    println(w)\n",
    "    context = ones(Int64,block_size)\n",
    "    for ch in string(w,\".\")\n",
    "        ix = stoi[ch]\n",
    "        push!(X0,context)\n",
    "        push!(Y,ix)\n",
    "        println(join(itos[i] for i in context),\" ---> \", itos[ix])\n",
    "        context = vcat(context[2:end],[ix])\n",
    "    end\n",
    "end\n",
    "\n",
    "# Repack X0 matrix\n",
    "nrows = length(X0)\n",
    "ncols = length(X0[1])\n",
    "X = zeros(Int64,nrows,ncols)\n",
    "for i in 1:nrows\n",
    "    X[i,:] = X0[i]\n",
    "end\n"
   ]
  },
  {
   "cell_type": "code",
   "execution_count": 146,
   "metadata": {},
   "outputs": [
    {
     "data": {
      "text/plain": [
       "Params([[0.9578438463869455 -0.6885881650659414; 0.6479911343557873 1.2154031360336839; … ; 0.15620854807387627 1.3634141141383007; -2.0033326396167848 -0.8645000688244046], [1.1624007649329662 1.0857321145267356 … 1.2423224027996609 0.2275123120134276; 0.9987395121028877 -0.29990241534240114 … -0.7965133432106432 -1.1555523281077495; … ; -0.008423980061494148 -0.17470301069598912 … -0.6258385141768206 -0.8954958260135302; 0.7844903062316255 1.2102229979696786 … 0.16375894936284707 0.8112394146825883], [-0.9552729054810718, -0.4686579466809444, -0.5464884332517509, -1.4177782771409804, -0.26452834019206234, -0.9942536934086076, -1.354161277486608, -1.2915227910964358, -0.8879068631189281, 1.1799475693781845  …  0.1847680116402907, 1.1056204013259556, -0.7977426606284899, -2.241529606330645, 0.5484911108269979, -0.5424013053442722, -1.2966978016119237, -0.09884394488431082, 1.2249004098173857, -0.014781157745328132], [-1.5827897294991646 0.3557698404388844 … 0.8135650189202775 -1.5492955152325967; 0.36595917221673246 0.714022700383686 … 0.11460705837130987 1.0920121528476765; … ; -1.121106055776779 -0.9704696792935695 … -0.5607532727328822 -0.2233026348994953; -0.9001765263434289 0.39699979041238237 … 1.0841681428328844 -0.7886567417617132], [0.39822683973879414, 1.5014670933196685, 0.1444247227967986, -0.891861685435308, 0.5328511346522, -1.9682888910780632, 1.0131240161416213, 0.2643830347066349, 0.06512200781171479, -0.7317173763267346  …  -0.09358264956750965, 1.789314162157039, -1.0844751830893236, -2.0311855543069, -1.0484232574131396, 0.23532088980777413, 0.5957147524896507, -0.754108226411519, 0.16928042470301732, -0.446196040056409]])"
      ]
     },
     "metadata": {},
     "output_type": "display_data"
    }
   ],
   "source": [
    "C = randn(27,2)  # Build embedding lookup table C.\n",
    "W1 = randn(6,100)\n",
    "b1 = randn(100)'\n",
    "W2 = randn(100,27)\n",
    "b2 = randn(27)';\n",
    "params = Flux.params(C,W1,b1,W2,b2)"
   ]
  },
  {
   "cell_type": "code",
   "execution_count": 163,
   "metadata": {},
   "outputs": [
    {
     "data": {
      "text/plain": [
       "mloss (generic function with 1 method)"
      ]
     },
     "metadata": {},
     "output_type": "display_data"
    }
   ],
   "source": [
    "# Forward pass\n",
    "function predict(X)\n",
    "    Xemb = hcat(C[X[:,1],:],C[X[:,2],:],C[X[:,3],:]) # Build the embedded input matrix:\n",
    "    h = tanh.(Xemb*W1 .+ b1)\n",
    "    return h*W2 .+ b2\n",
    "end\n",
    "\n",
    "function mloss(X,Y)\n",
    "    logits = predict(X)\n",
    "    # This should be equivalent to softmax, but Flux's softmax doesn't give the same result:\n",
    "    counts = exp.(logits)\n",
    "    prob = zeros(Float64,size(counts))\n",
    "    for i in 1:size(prob)[1]\n",
    "        prob[i,:] = counts[i,:]/sum(counts[i,:])\n",
    "    end\n",
    "    #prob[1:32,Y] # This is what AK does in Python\n",
    "\n",
    "    # This should be the same as crossentropy, but Flux's crossentropy doesn't give the same result\n",
    "    results = [prob[i,Y[i]] for i in 1:32]  # Here's what does that operation in Julia\n",
    "    return -mean(log.(results))\n",
    "end\n"
   ]
  },
  {
   "cell_type": "code",
   "execution_count": 164,
   "metadata": {},
   "outputs": [
    {
     "ename": "ErrorException",
     "evalue": "Mutating arrays is not supported -- called setindex!(Matrix{Float64}, ...)\nThis error occurs when you ask Zygote to differentiate operations that change\nthe elements of arrays in place (e.g. setting values with x .= ...)\n\nPossible fixes:\n- avoid mutating operations (preferred)\n- or read the documentation and solutions for this error\n  https://fluxml.ai/Zygote.jl/latest/limitations\n",
     "output_type": "error",
     "traceback": [
      "Mutating arrays is not supported -- called setindex!(Matrix{Float64}, ...)\n",
      "This error occurs when you ask Zygote to differentiate operations that change\n",
      "the elements of arrays in place (e.g. setting values with x .= ...)\n",
      "\n",
      "Possible fixes:\n",
      "- avoid mutating operations (preferred)\n",
      "- or read the documentation and solutions for this error\n",
      "  https://fluxml.ai/Zygote.jl/latest/limitations\n",
      "\n",
      "\n",
      "Stacktrace:\n",
      "  [1] error(s::String)\n",
      "    @ Base .\\error.jl:35\n",
      "  [2] _throw_mutation_error(f::Function, args::Matrix{Float64})\n",
      "    @ Zygote C:\\Users\\RichardMullerGovernm\\.julia\\packages\\Zygote\\nsBv0\\src\\lib\\array.jl:70\n",
      "  [3] (::Zygote.var\"#539#540\"{Matrix{Float64}})(::Nothing)\n",
      "    @ Zygote C:\\Users\\RichardMullerGovernm\\.julia\\packages\\Zygote\\nsBv0\\src\\lib\\array.jl:82\n",
      "  [4] (::Zygote.var\"#2623#back#541\"{Zygote.var\"#539#540\"{Matrix{Float64}}})(Δ::Nothing)\n",
      "    @ Zygote C:\\Users\\RichardMullerGovernm\\.julia\\packages\\ZygoteRules\\M4xmc\\src\\adjoint.jl:72\n",
      "  [5] mloss\n",
      "    @ c:\\Users\\RichardMullerGovernm\\OneDrive\\Programming\\Karpathy\\karpathy-makemore-mlp.ipynb:14 [inlined]\n",
      "  [6] (::Zygote.Pullback{Tuple{typeof(mloss), Matrix{Int64}, Vector{Any}}, Any})(Δ::Float64)\n",
      "    @ Zygote C:\\Users\\RichardMullerGovernm\\.julia\\packages\\Zygote\\nsBv0\\src\\compiler\\interface2.jl:0\n",
      "  [7] #107\n",
      "    @ c:\\Users\\RichardMullerGovernm\\OneDrive\\Programming\\Karpathy\\karpathy-makemore-mlp.ipynb:2 [inlined]\n",
      "  [8] (::Zygote.Pullback{Tuple{var\"#107#108\"}, Tuple{Zygote.Pullback{Tuple{typeof(mloss), Matrix{Int64}, Vector{Any}}, Any}, Zygote.var\"#1986#back#194\"{Zygote.var\"#190#193\"{Zygote.Context{true}, GlobalRef, Vector{Any}}}, Zygote.var\"#1986#back#194\"{Zygote.var\"#190#193\"{Zygote.Context{true}, GlobalRef, Matrix{Int64}}}}})(Δ::Float64)\n",
      "    @ Zygote C:\\Users\\RichardMullerGovernm\\.julia\\packages\\Zygote\\nsBv0\\src\\compiler\\interface2.jl:0\n",
      "  [9] (::Zygote.var\"#122#123\"{Zygote.Params{Zygote.Buffer{Any, Vector{Any}}}, Zygote.Pullback{Tuple{var\"#107#108\"}, Tuple{Zygote.Pullback{Tuple{typeof(mloss), Matrix{Int64}, Vector{Any}}, Any}, Zygote.var\"#1986#back#194\"{Zygote.var\"#190#193\"{Zygote.Context{true}, GlobalRef, Vector{Any}}}, Zygote.var\"#1986#back#194\"{Zygote.var\"#190#193\"{Zygote.Context{true}, GlobalRef, Matrix{Int64}}}}}, Zygote.Context{true}})(Δ::Float64)\n",
      "    @ Zygote C:\\Users\\RichardMullerGovernm\\.julia\\packages\\Zygote\\nsBv0\\src\\compiler\\interface.jl:470\n",
      " [10] gradient(f::Function, args::Zygote.Params{Zygote.Buffer{Any, Vector{Any}}})\n",
      "    @ Zygote C:\\Users\\RichardMullerGovernm\\.julia\\packages\\Zygote\\nsBv0\\src\\compiler\\interface.jl:148\n",
      " [11] top-level scope\n",
      "    @ c:\\Users\\RichardMullerGovernm\\OneDrive\\Programming\\Karpathy\\karpathy-makemore-mlp.ipynb:1"
     ]
    }
   ],
   "source": [
    "gs = gradient(Flux.params(C,W1,b1,W2,b2)) do\n",
    "    mloss(X,Y)\n",
    "end"
   ]
  },
  {
   "cell_type": "code",
   "execution_count": null,
   "metadata": {},
   "outputs": [],
   "source": []
  }
 ],
 "metadata": {
  "kernelspec": {
   "display_name": "Julia 1.10.3",
   "language": "julia",
   "name": "julia-1.10"
  },
  "language_info": {
   "file_extension": ".jl",
   "mimetype": "application/julia",
   "name": "julia",
   "version": "1.10.3"
  }
 },
 "nbformat": 4,
 "nbformat_minor": 2
}
