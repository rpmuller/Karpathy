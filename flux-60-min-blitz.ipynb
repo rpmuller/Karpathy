{
 "cells": [
  {
   "cell_type": "markdown",
   "metadata": {},
   "source": [
    "# Deep Learning with Flux: A 60 Minute Blitz\n",
    "This is a quick intro to [Flux](https://github.com/FluxML/Flux.jl) loosely\n",
    "based on [PyTorch's\n",
    "tutorial](https://pytorch.org/tutorials/beginner/deep_learning_60min_blitz.html).\n",
    "It introduces basic Julia programming, as well Zygote, a source-to-source \n",
    "automatic differentiation (AD) framework in Julia.\n",
    "We'll use these tools to build a very simple neural network.\n"
   ]
  },
  {
   "cell_type": "markdown",
   "metadata": {},
   "source": [
    "## Arrays\n",
    "\n",
    "The starting point for all of our models is the `Array` (sometimes referred to\n",
    "as a `Tensor` in other frameworks). This is really just a list of numbers,\n",
    "which might be arranged into a shape like a square. Let's write down an array\n",
    "with three elements."
   ]
  },
  {
   "cell_type": "code",
   "execution_count": 1,
   "metadata": {},
   "outputs": [
    {
     "data": {
      "text/plain": [
       "3-element Vector{Int64}:\n",
       " 1\n",
       " 2\n",
       " 3"
      ]
     },
     "metadata": {},
     "output_type": "display_data"
    }
   ],
   "source": [
    "x = [1, 2, 3]"
   ]
  },
  {
   "cell_type": "markdown",
   "metadata": {},
   "source": [
    "Here's a matrix – a square array with four elements."
   ]
  },
  {
   "cell_type": "code",
   "execution_count": 2,
   "metadata": {},
   "outputs": [
    {
     "data": {
      "text/plain": [
       "2×2 Matrix{Int64}:\n",
       " 1  2\n",
       " 3  4"
      ]
     },
     "metadata": {},
     "output_type": "display_data"
    }
   ],
   "source": [
    "x = [1 2; 3 4]"
   ]
  },
  {
   "cell_type": "markdown",
   "metadata": {},
   "source": [
    "We often work with arrays of thousands of elements, and don't usually write\n",
    "them down by hand. Here's how we can create an array of 5×3 = 15 elements,\n",
    "each a random number from zero to one."
   ]
  },
  {
   "cell_type": "code",
   "execution_count": 3,
   "metadata": {},
   "outputs": [
    {
     "data": {
      "text/plain": [
       "5×3 Matrix{Float64}:\n",
       " 0.414719  0.256644  0.424936\n",
       " 0.980868  0.269142  0.507818\n",
       " 0.641816  0.368848  0.600641\n",
       " 0.546965  0.723637  0.789636\n",
       " 0.226999  0.464146  0.669299"
      ]
     },
     "metadata": {},
     "output_type": "display_data"
    }
   ],
   "source": [
    "x = rand(5, 3)"
   ]
  },
  {
   "cell_type": "markdown",
   "metadata": {},
   "source": [
    "\n",
    "There's a few functions like this; try replacing `rand` with `ones`, `zeros`,\n",
    "or `randn` to see what they do.\n",
    "\n",
    "By default, Julia works stores numbers is a high-precision format called `Float64`. \n",
    "\n",
    "We can ask for more digits using `BigFloat`."
   ]
  },
  {
   "cell_type": "code",
   "execution_count": 4,
   "metadata": {},
   "outputs": [
    {
     "data": {
      "text/plain": [
       "5×3 Matrix{BigFloat}:\n",
       " 0.216679  0.582942  0.761341\n",
       " 0.406358  0.270002  0.228995\n",
       " 0.711244  0.976396  0.363515\n",
       " 0.568155  0.945878  0.360815\n",
       " 0.677123  0.832257  0.298957"
      ]
     },
     "metadata": {},
     "output_type": "display_data"
    }
   ],
   "source": [
    "x = rand(BigFloat, 5, 3)"
   ]
  },
  {
   "cell_type": "markdown",
   "metadata": {},
   "source": [
    "In ML we often don't need all those digits, and can ask Julia to\n",
    "work with `Float32` instead. "
   ]
  },
  {
   "cell_type": "code",
   "execution_count": 5,
   "metadata": {},
   "outputs": [
    {
     "data": {
      "text/plain": [
       "5×3 Matrix{Float32}:\n",
       " 0.432347  0.621125   0.653302\n",
       " 0.220424  0.0393736  0.3164\n",
       " 0.89569   0.662233   0.773545\n",
       " 0.135044  0.543402   0.460423\n",
       " 0.976197  0.229174   0.0711092"
      ]
     },
     "metadata": {},
     "output_type": "display_data"
    }
   ],
   "source": [
    "x = rand(Float32, 5, 3)"
   ]
  },
  {
   "cell_type": "markdown",
   "metadata": {},
   "source": [
    "We can ask the array how many elements it has."
   ]
  },
  {
   "cell_type": "code",
   "execution_count": 6,
   "metadata": {},
   "outputs": [
    {
     "data": {
      "text/plain": [
       "15"
      ]
     },
     "metadata": {},
     "output_type": "display_data"
    }
   ],
   "source": [
    "length(x)"
   ]
  },
  {
   "cell_type": "markdown",
   "metadata": {},
   "source": [
    "Or, more specifically, what size it has.\n"
   ]
  },
  {
   "cell_type": "code",
   "execution_count": 7,
   "metadata": {},
   "outputs": [
    {
     "data": {
      "text/plain": [
       "(5, 3)"
      ]
     },
     "metadata": {},
     "output_type": "display_data"
    }
   ],
   "source": [
    "size(x)"
   ]
  },
  {
   "cell_type": "markdown",
   "metadata": {},
   "source": [
    "We sometimes want to see some elements of the array on their own."
   ]
  },
  {
   "cell_type": "code",
   "execution_count": 8,
   "metadata": {},
   "outputs": [
    {
     "data": {
      "text/plain": [
       "0.3164001f0"
      ]
     },
     "metadata": {},
     "output_type": "display_data"
    }
   ],
   "source": [
    "x[2, 3] # This means get the second row and the third column."
   ]
  },
  {
   "cell_type": "code",
   "execution_count": 9,
   "metadata": {},
   "outputs": [
    {
     "data": {
      "text/plain": [
       "5-element Vector{Float32}:\n",
       " 0.6533018\n",
       " 0.3164001\n",
       " 0.77354527\n",
       " 0.46042293\n",
       " 0.071109176"
      ]
     },
     "metadata": {},
     "output_type": "display_data"
    }
   ],
   "source": [
    "\n",
    "x[:, 3] # We can also get every row of the third column.\n"
   ]
  },
  {
   "cell_type": "markdown",
   "metadata": {},
   "source": [
    "We can add arrays, and subtract them, which adds or subtracts each element of\n",
    "the array."
   ]
  },
  {
   "cell_type": "code",
   "execution_count": 10,
   "metadata": {},
   "outputs": [
    {
     "data": {
      "text/plain": [
       "5×3 Matrix{Float32}:\n",
       " 0.864694  1.24225    1.3066\n",
       " 0.440848  0.0787473  0.6328\n",
       " 1.79138   1.32447    1.54709\n",
       " 0.270089  1.0868     0.920846\n",
       " 1.95239   0.458349   0.142218"
      ]
     },
     "metadata": {},
     "output_type": "display_data"
    }
   ],
   "source": [
    "x + x"
   ]
  },
  {
   "cell_type": "code",
   "execution_count": 11,
   "metadata": {},
   "outputs": [
    {
     "data": {
      "text/plain": [
       "5×3 Matrix{Float32}:\n",
       " 0.0  0.0  0.0\n",
       " 0.0  0.0  0.0\n",
       " 0.0  0.0  0.0\n",
       " 0.0  0.0  0.0\n",
       " 0.0  0.0  0.0"
      ]
     },
     "metadata": {},
     "output_type": "display_data"
    }
   ],
   "source": [
    "x - x"
   ]
  },
  {
   "cell_type": "markdown",
   "metadata": {},
   "source": [
    "Julia supports a feature called *broadcasting*, using the `.` syntax. This\n",
    "tiles small arrays (or single numbers) to fill bigger ones.\n"
   ]
  },
  {
   "cell_type": "code",
   "execution_count": 12,
   "metadata": {},
   "outputs": [
    {
     "data": {
      "text/plain": [
       "5×3 Matrix{Float32}:\n",
       " 1.43235  1.62113  1.6533\n",
       " 1.22042  1.03937  1.3164\n",
       " 1.89569  1.66223  1.77355\n",
       " 1.13504  1.5434   1.46042\n",
       " 1.9762   1.22917  1.07111"
      ]
     },
     "metadata": {},
     "output_type": "display_data"
    }
   ],
   "source": [
    "x .+ 1"
   ]
  },
  {
   "cell_type": "markdown",
   "metadata": {},
   "source": [
    "\n",
    "We can see Julia tile the column vector `1:5` across all rows of the larger\n",
    "array.\n"
   ]
  },
  {
   "cell_type": "code",
   "execution_count": 13,
   "metadata": {},
   "outputs": [
    {
     "data": {
      "text/plain": [
       "5×5 Matrix{Float64}:\n",
       " 1.0  1.0  1.0  1.0  1.0\n",
       " 2.0  2.0  2.0  2.0  2.0\n",
       " 3.0  3.0  3.0  3.0  3.0\n",
       " 4.0  4.0  4.0  4.0  4.0\n",
       " 5.0  5.0  5.0  5.0  5.0"
      ]
     },
     "metadata": {},
     "output_type": "display_data"
    }
   ],
   "source": [
    "zeros(5,5) .+ (1:5)"
   ]
  },
  {
   "cell_type": "markdown",
   "metadata": {},
   "source": [
    "The x' syntax is used to transpose a column `1:5` into an equivalent row, and\n",
    "Julia will tile that across columns."
   ]
  },
  {
   "cell_type": "code",
   "execution_count": 14,
   "metadata": {},
   "outputs": [
    {
     "data": {
      "text/plain": [
       "5×5 Matrix{Float64}:\n",
       " 1.0  2.0  3.0  4.0  5.0\n",
       " 1.0  2.0  3.0  4.0  5.0\n",
       " 1.0  2.0  3.0  4.0  5.0\n",
       " 1.0  2.0  3.0  4.0  5.0\n",
       " 1.0  2.0  3.0  4.0  5.0"
      ]
     },
     "metadata": {},
     "output_type": "display_data"
    }
   ],
   "source": [
    "zeros(5,5) .+ (1:5)'"
   ]
  },
  {
   "cell_type": "markdown",
   "metadata": {},
   "source": [
    "We can use this to make a times table."
   ]
  },
  {
   "cell_type": "code",
   "execution_count": 15,
   "metadata": {},
   "outputs": [
    {
     "data": {
      "text/plain": [
       "5×5 Matrix{Int64}:\n",
       " 1   2   3   4   5\n",
       " 2   4   6   8  10\n",
       " 3   6   9  12  15\n",
       " 4   8  12  16  20\n",
       " 5  10  15  20  25"
      ]
     },
     "metadata": {},
     "output_type": "display_data"
    }
   ],
   "source": [
    "(1:5) .* (1:5)'"
   ]
  },
  {
   "cell_type": "markdown",
   "metadata": {},
   "source": [
    "Finally, and importantly for machine learning, we can conveniently do things like\n",
    "matrix multiply."
   ]
  },
  {
   "cell_type": "code",
   "execution_count": 16,
   "metadata": {},
   "outputs": [
    {
     "data": {
      "text/plain": [
       "5-element Vector{Float64}:\n",
       " -0.6011683736562036\n",
       "  1.50422059354204\n",
       " -0.7541442554886543\n",
       " -0.06141451557870048\n",
       " -2.5559138118674625"
      ]
     },
     "metadata": {},
     "output_type": "display_data"
    }
   ],
   "source": [
    "W = randn(5, 10)\n",
    "x = rand(10)\n",
    "W * x"
   ]
  },
  {
   "cell_type": "markdown",
   "metadata": {},
   "source": [
    "Julia's arrays are very powerful, and you can learn more about what they can\n",
    "do [here](https://docs.julialang.org/en/v1/manual/arrays/).\n",
    "\n"
   ]
  },
  {
   "cell_type": "markdown",
   "metadata": {},
   "source": [
    "# CUDA Arrays\n",
    "\n",
    "CUDA functionality is provided separately by the [CUDA\n",
    "package](https://github.com/JuliaGPU/CUDA.jl). If you have a GPU and CUDA\n",
    "available, you can run `] add CUDA` in a REPL or IJulia to get it.\n",
    "\n",
    "Once CUDA is loaded you can move any array to the GPU with the `cu`\n",
    "function, and it supports all of the above operations with the same syntax.\n"
   ]
  },
  {
   "cell_type": "code",
   "execution_count": 17,
   "metadata": {},
   "outputs": [],
   "source": [
    "#using CUDA\n",
    "#x = cu(rand(5, 3))"
   ]
  },
  {
   "cell_type": "markdown",
   "metadata": {},
   "source": [
    "# Automatic Differentiation\n",
    "You probably learned to take derivatives in school. We start with a simple\n",
    "mathematical function like"
   ]
  },
  {
   "cell_type": "code",
   "execution_count": 18,
   "metadata": {},
   "outputs": [
    {
     "data": {
      "text/plain": [
       "86"
      ]
     },
     "metadata": {},
     "output_type": "display_data"
    }
   ],
   "source": [
    "f(x) = 3x^2 + 2x + 1\n",
    "\n",
    "f(5)"
   ]
  },
  {
   "cell_type": "markdown",
   "metadata": {},
   "source": [
    "In simple cases it's pretty easy to work out the gradient by hand – here it's\n",
    "`6x+2`. But it's much easier to make Flux do the work for us!"
   ]
  },
  {
   "cell_type": "code",
   "execution_count": 19,
   "metadata": {},
   "outputs": [
    {
     "data": {
      "text/plain": [
       "32.0"
      ]
     },
     "metadata": {},
     "output_type": "display_data"
    }
   ],
   "source": [
    "using Flux: gradient\n",
    "df(x) = gradient(f, x)[1]\n",
    "df(5)"
   ]
  },
  {
   "cell_type": "markdown",
   "metadata": {},
   "source": [
    "You can try this with a few different inputs to make sure it's really the same\n",
    "as `6x+2`. We can even do this multiple times (but the second derivative is a\n",
    "fairly boring `6`)."
   ]
  },
  {
   "cell_type": "code",
   "execution_count": 20,
   "metadata": {},
   "outputs": [
    {
     "data": {
      "text/plain": [
       "6.0"
      ]
     },
     "metadata": {},
     "output_type": "display_data"
    }
   ],
   "source": [
    "ddf(x) = gradient(df, x)[1]\n",
    "ddf(5)"
   ]
  },
  {
   "cell_type": "markdown",
   "metadata": {},
   "source": [
    "Flux's AD can handle any Julia code you throw at it, including loops,\n",
    "recursion and custom layers, so long as the mathematical functions you call\n",
    "are differentiable. For example, we can differentiate a Taylor approximation\n",
    "to the `sin` function."
   ]
  },
  {
   "cell_type": "code",
   "execution_count": 21,
   "metadata": {
    "notebookRunGroups": {
     "groupValue": "2"
    }
   },
   "outputs": [
    {
     "data": {
      "text/plain": [
       "(0.4794255386041834, (0.8775825618898637,), 0.479425538604203, 0.8775825618903728)"
      ]
     },
     "metadata": {},
     "output_type": "display_data"
    }
   ],
   "source": [
    "mysin(x) = sum((-1)^k*x^(1+2k)/factorial(1+2k) for k in 0:5)\n",
    "x = 0.5\n",
    "mysin(x), gradient(mysin, x),sin(x), cos(x)"
   ]
  },
  {
   "cell_type": "markdown",
   "metadata": {},
   "source": [
    "You can see that the derivative we calculated is very close to `cos(x)`, as we\n",
    "expect.\n",
    "\n",
    "This gets more interesting when we consider functions that take *arrays* as\n",
    "inputs, rather than just a single number. For example, here's a function that\n",
    "takes a matrix and two vectors (the definition itself is arbitrary)"
   ]
  },
  {
   "cell_type": "code",
   "execution_count": 22,
   "metadata": {},
   "outputs": [
    {
     "data": {
      "text/plain": [
       "([0.015792871471235204 0.8467415012906216 … 0.8769955295444761 0.6333324688048757; 0.015792871471235204 0.8467415012906216 … 0.8769955295444761 0.6333324688048757; 0.015792871471235204 0.8467415012906216 … 0.8769955295444761 0.6333324688048757], Fill(1.0, 3), [-0.8375791635624927, 0.34729978883391205, -0.0765920558239151, -1.4671067991202689, -0.8830676743310149])"
      ]
     },
     "metadata": {},
     "output_type": "display_data"
    }
   ],
   "source": [
    "myloss(W, b, x) = sum(W * x .+ b)\n",
    "\n",
    "W = randn(3, 5)\n",
    "b = zeros(3)\n",
    "x = rand(5)\n",
    "\n",
    "gradient(myloss, W, b, x)"
   ]
  },
  {
   "cell_type": "markdown",
   "metadata": {},
   "source": [
    "Now we get gradients for each of the inputs `W`, `b` and `x`, which will come\n",
    "in handy when we want to train models.\n",
    "\n",
    "Because ML models can contain hundreds of parameters, Flux provides a slightly\n",
    "different way of writing `gradient`. We instead mark arrays with `param` to\n",
    "indicate that we want their derivatives. `W` and `b` represent the weight and\n",
    "bias respectively."
   ]
  },
  {
   "cell_type": "code",
   "execution_count": 23,
   "metadata": {},
   "outputs": [
    {
     "data": {
      "text/plain": [
       "([0.609060861211633 0.15450230868755077 … 0.28797570889859236 0.14251606583438847; 0.609060861211633 0.15450230868755077 … 0.28797570889859236 0.14251606583438847; 0.609060861211633 0.15450230868755077 … 0.28797570889859236 0.14251606583438847], Fill(1.0, 3))"
      ]
     },
     "metadata": {},
     "output_type": "display_data"
    }
   ],
   "source": [
    "using Flux: params\n",
    "\n",
    "W = randn(3, 5)\n",
    "b = zeros(3)\n",
    "x = rand(5)\n",
    "\n",
    "y(x) = sum(W * x .+ b)\n",
    "\n",
    "grads = gradient(()->y(x), params([W, b]))\n",
    "\n",
    "grads[W], grads[b]"
   ]
  },
  {
   "cell_type": "markdown",
   "metadata": {},
   "source": [
    "We can now grab the gradients of `W` and `b` directly from those parameters.\n",
    "\n",
    "This comes in handy when working with *layers*. A layer is just a handy\n",
    "container for some parameters. For example, `Dense` does a linear transform\n",
    "for you."
   ]
  },
  {
   "cell_type": "code",
   "execution_count": 24,
   "metadata": {},
   "outputs": [
    {
     "data": {
      "text/plain": [
       "Dense(10 => 5)      \u001b[90m# 55 parameters\u001b[39m"
      ]
     },
     "metadata": {},
     "output_type": "display_data"
    }
   ],
   "source": [
    "using Flux\n",
    "\n",
    "m = Dense(10, 5)"
   ]
  },
  {
   "cell_type": "markdown",
   "metadata": {},
   "source": [
    "We can easily get the parameters of any layer or model with params with\n",
    "`params`."
   ]
  },
  {
   "cell_type": "code",
   "execution_count": 25,
   "metadata": {},
   "outputs": [
    {
     "data": {
      "text/plain": [
       "Params([Float32[0.49446166 -0.44929504 … -0.3893069 -0.2850637; -0.6157225 -0.60828245 … -0.50777346 0.4331916; … ; 0.30794078 -0.5372645 … 0.59529155 -0.011852857; 0.3414729 -0.27313283 … -0.14033818 0.3799391], Float32[0.0, 0.0, 0.0, 0.0, 0.0]])"
      ]
     },
     "metadata": {},
     "output_type": "display_data"
    }
   ],
   "source": [
    "params(m)"
   ]
  },
  {
   "cell_type": "markdown",
   "metadata": {},
   "source": [
    "This makes it very easy to calculate the gradient for all\n",
    "parameters in a network, even if it has many parameters."
   ]
  },
  {
   "cell_type": "code",
   "execution_count": 26,
   "metadata": {},
   "outputs": [
    {
     "name": "stdout",
     "output_type": "stream",
     "text": [
      "Float32[0.06718008 0.042710878 0.25918585 0.1593861 0.12761837 0.067326665 0.16037062 0.0043860395 0.10501643 0.14257218; 0.032638848 0.0207507 0.12592314 0.07743632 0.062002257 0.03271006 0.07791464 0.0021309182 0.051021297 0.06926743; 0.0037607027 0.0023909304 0.014509076 0.008922343 0.007144004 0.0037689083 0.008977455 0.00024552798 0.0058787595 0.007981109; -0.04746112 -0.03017421 -0.1831086 -0.112602465 -0.09015933 -0.047564674 -0.113298 -0.0030986317 -0.07419159 -0.10072383; 0.0 0.0 0.0 0.0 0.0 0.0 0.0 0.0 0.0 0.0]\n",
      "Float32[0.32201338, 0.15644734, 0.018026125, -0.22749473, 0.0]\n",
      "Float32[-0.14869222 -0.31858096 -0.21762851 -0.11862735 -0.0; 0.14869222 0.31858096 0.21762851 0.11862735 0.0]\n",
      "Float32[-0.2565817, 0.2565817]\n"
     ]
    }
   ],
   "source": [
    "x = rand(Float32, 10)\n",
    "m = Chain(Dense(10, 5, relu), Dense(5, 2), softmax)\n",
    "l(x) = Flux.Losses.crossentropy(m(x), [0.5, 0.5])\n",
    "grads = gradient(params(m)) do\n",
    "    l(x)\n",
    "end\n",
    "for p in params(m)\n",
    "    println(grads[p])\n",
    "end"
   ]
  },
  {
   "cell_type": "markdown",
   "metadata": {},
   "source": [
    "You don't have to use layers, but they can be convenient for many simple kinds\n",
    "of models and fast iteration.\n",
    "\n",
    "The next step is to update our weights and perform optimisation. As you might be\n",
    "familiar, *Gradient Descent* is a simple algorithm that takes the weights and steps\n",
    "using a learning rate and the gradients. `weights = weights - learning_rate * gradient` \n",
    "(note that `Flux.Optimise.update!(x, x̄)` already updates with the negative of x̄`)."
   ]
  },
  {
   "cell_type": "code",
   "execution_count": 27,
   "metadata": {},
   "outputs": [],
   "source": [
    "using Flux.Optimise: update!, Descent\n",
    "η = 0.1\n",
    "for p in params(m)\n",
    "  update!(p, η * grads[p])\n",
    "end"
   ]
  },
  {
   "cell_type": "markdown",
   "metadata": {},
   "source": [
    "While this is a valid way of updating our weights, it can get more complicated as the\n",
    "algorithms we use get more involved.\n",
    "\n",
    "Flux comes with a bunch of pre-defined optimisers and makes writing our own really simple.\n",
    "We just give it the learning rate η."
   ]
  },
  {
   "cell_type": "code",
   "execution_count": 28,
   "metadata": {},
   "outputs": [
    {
     "data": {
      "text/plain": [
       "Descent(0.01)"
      ]
     },
     "metadata": {},
     "output_type": "display_data"
    }
   ],
   "source": [
    "opt = Descent(0.01)"
   ]
  },
  {
   "cell_type": "markdown",
   "metadata": {},
   "source": [
    "*Training* a network reduces down to iterating on a dataset multiple times, performing these\n",
    "steps in order. Just for a quick implementation, let’s train a network that learns to predict\n",
    "`0.5` for every input of 10 floats. `Flux` defines the `train!` function to do it for us."
   ]
  },
  {
   "cell_type": "code",
   "execution_count": 29,
   "metadata": {},
   "outputs": [
    {
     "name": "stderr",
     "output_type": "stream",
     "text": [
      "┌ Warning: Layer with Float32 parameters got Float64 input.\n",
      "│   The input will be converted, but any earlier layers may be very slow.\n",
      "│   layer = Dense(10 => 5, relu)\n",
      "│   summary(x) = 10×100 Matrix{Float64}\n",
      "└ @ Flux /home/gitpod/.julia/packages/Flux/Wz6D4/src/layers/stateless.jl:60\n"
     ]
    }
   ],
   "source": [
    "data, labels = rand(10, 100), fill(0.5, 2, 100)\n",
    "loss(x, y) = Flux.Losses.crossentropy(m(x), y)\n",
    "Flux.train!(loss, params(m), [(data,labels)], opt)"
   ]
  },
  {
   "cell_type": "markdown",
   "metadata": {},
   "source": [
    "You don't have to use `train!`. In cases where arbitrary logic might be better suited,\n",
    "you could open up this training loop like so:"
   ]
  },
  {
   "cell_type": "code",
   "execution_count": 30,
   "metadata": {},
   "outputs": [
    {
     "ename": "UndefVarError",
     "evalue": "UndefVarError: `training_set` not defined",
     "output_type": "error",
     "traceback": [
      "UndefVarError: `training_set` not defined\n",
      "\n",
      "Stacktrace:\n",
      " [1] top-level scope\n",
      "   @ /workspace/Karpathy/flux-60-min-blitz.ipynb:1"
     ]
    }
   ],
   "source": [
    "for d in training_set # assuming d looks like (data, labels)\n",
    "  # our super logic\n",
    "  gs = gradient(params(m)) do #m is our model\n",
    "    l = loss(d...)\n",
    "  end\n",
    "  update!(opt, params(m), gs)\n",
    "end"
   ]
  },
  {
   "cell_type": "markdown",
   "metadata": {},
   "source": [
    "# Training a Classifier\n",
    "\n",
    "Getting a real classifier to work might help cement the workflow a bit more.\n",
    "[CIFAR10](url) is a dataset of 50k tiny training images split into 10 classes.\n",
    "\n",
    "We will do the following steps in order:\n",
    "\n",
    "* Load CIFAR10 training and test datasets\n",
    "* Define a Convolution Neural Network\n",
    "* Define a loss function\n",
    "* Train the network on the training data\n",
    "* Test the network on the test data"
   ]
  },
  {
   "cell_type": "markdown",
   "metadata": {},
   "source": [
    "## Loading the Dataset\n",
    "\n",
    "[Metalhead.jl](https://github.com/FluxML/Metalhead.jl) is an excellent package\n",
    "that has a number of predefined and pretrained computer vision models.\n",
    "It also has a number of dataloaders that come in handy to load datasets."
   ]
  },
  {
   "cell_type": "code",
   "execution_count": 31,
   "metadata": {},
   "outputs": [],
   "source": [
    "using Statistics\n",
    "using Flux, Flux.Optimise\n",
    "using MLDatasets: CIFAR10\n",
    "using Images.ImageCore\n",
    "using Flux: onehotbatch, onecold\n",
    "using Base.Iterators: partition\n",
    "#using CUDA"
   ]
  },
  {
   "cell_type": "markdown",
   "metadata": {},
   "source": [
    "The image will give us an idea of what we are dealing with.\n",
    "\n",
    "![title](https://pytorch.org/tutorials/_images/cifar10.png)\n"
   ]
  },
  {
   "cell_type": "code",
   "execution_count": 33,
   "metadata": {},
   "outputs": [
    {
     "data": {
      "text/plain": [
       "10×50000 OneHotMatrix(::Vector{UInt32}) with eltype Bool:\n",
       " ⋅  ⋅  ⋅  ⋅  ⋅  ⋅  ⋅  ⋅  ⋅  ⋅  ⋅  ⋅  ⋅  …  ⋅  ⋅  ⋅  ⋅  1  ⋅  1  ⋅  ⋅  ⋅  ⋅  ⋅\n",
       " ⋅  ⋅  ⋅  ⋅  1  1  ⋅  ⋅  ⋅  ⋅  ⋅  ⋅  ⋅     ⋅  1  ⋅  ⋅  ⋅  1  ⋅  ⋅  ⋅  ⋅  1  1\n",
       " ⋅  ⋅  ⋅  ⋅  ⋅  ⋅  1  ⋅  ⋅  ⋅  ⋅  ⋅  ⋅     ⋅  ⋅  ⋅  1  ⋅  ⋅  ⋅  1  ⋅  ⋅  ⋅  ⋅\n",
       " ⋅  ⋅  ⋅  ⋅  ⋅  ⋅  ⋅  ⋅  ⋅  1  ⋅  ⋅  ⋅     ⋅  ⋅  ⋅  ⋅  ⋅  ⋅  ⋅  ⋅  ⋅  ⋅  ⋅  ⋅\n",
       " ⋅  ⋅  ⋅  1  ⋅  ⋅  ⋅  ⋅  ⋅  ⋅  1  ⋅  ⋅     ⋅  ⋅  1  ⋅  ⋅  ⋅  ⋅  ⋅  ⋅  ⋅  ⋅  ⋅\n",
       " ⋅  ⋅  ⋅  ⋅  ⋅  ⋅  ⋅  ⋅  ⋅  ⋅  ⋅  ⋅  ⋅  …  1  ⋅  ⋅  ⋅  ⋅  ⋅  ⋅  ⋅  ⋅  ⋅  ⋅  ⋅\n",
       " 1  ⋅  ⋅  ⋅  ⋅  ⋅  ⋅  ⋅  ⋅  ⋅  ⋅  ⋅  ⋅     ⋅  ⋅  ⋅  ⋅  ⋅  ⋅  ⋅  ⋅  1  ⋅  ⋅  ⋅\n",
       " ⋅  ⋅  ⋅  ⋅  ⋅  ⋅  ⋅  1  ⋅  ⋅  ⋅  1  1     ⋅  ⋅  ⋅  ⋅  ⋅  ⋅  ⋅  ⋅  ⋅  ⋅  ⋅  ⋅\n",
       " ⋅  ⋅  ⋅  ⋅  ⋅  ⋅  ⋅  ⋅  1  ⋅  ⋅  ⋅  ⋅     ⋅  ⋅  ⋅  ⋅  ⋅  ⋅  ⋅  ⋅  ⋅  ⋅  ⋅  ⋅\n",
       " ⋅  1  1  ⋅  ⋅  ⋅  ⋅  ⋅  ⋅  ⋅  ⋅  ⋅  ⋅     ⋅  ⋅  ⋅  ⋅  ⋅  ⋅  ⋅  ⋅  ⋅  1  ⋅  ⋅"
      ]
     },
     "metadata": {},
     "output_type": "display_data"
    }
   ],
   "source": [
    "train_x, train_y = CIFAR10(:train)[:]\n",
    "labels = onehotbatch(train_y, 0:9)"
   ]
  },
  {
   "cell_type": "markdown",
   "metadata": {},
   "source": [
    "The train_x contains 50000 images converted to 32 X 32 X 3 arrays with the third\n",
    "dimension being the 3 channels (R,G,B). Let's take a look at a random image from\n",
    "the train_x. For this, we need to permute the dimensions to 3 X 32 X 32 and use\n",
    "`colorview` to convert it back to an image.\n",
    "\n",
    "Let's take a look at a random image from the dataset"
   ]
  },
  {
   "cell_type": "code",
   "execution_count": 34,
   "metadata": {},
   "outputs": [
    {
     "data": {
      "image/png": "[encoded data removed]",
      "image/svg+xml": [
       "<?xml version=\"1.0\" encoding=\"utf-8\"?>\n",
       "<svg xmlns=\"http://www.w3.org/2000/svg\" xmlns:xlink=\"http://www.w3.org/1999/xlink\" width=\"600\" height=\"400\" viewBox=\"0 0 2400 1600\">\n",
       "<defs>\n",
       "  <clipPath id=\"clip460\">\n",
       "    <rect x=\"0\" y=\"0\" width=\"2400\" height=\"1600\"/>\n",
       "  </clipPath>\n",
       "</defs>\n",
       "<path clip-path=\"url(#clip460)\" d=\"M0 1600 L2400 1600 L2400 0 L0 0  Z\" fill=\"#ffffff\" fill-rule=\"evenodd\" fill-opacity=\"1\"/>\n",
       "<defs>\n",
       "  <clipPath id=\"clip461\">\n",
       "    <rect x=\"480\" y=\"0\" width=\"1681\" height=\"1600\"/>\n",
       "  </clipPath>\n",
       "</defs>\n",
       "<path clip-path=\"url(#clip460)\" d=\"M140.696 1486.45 L2352.76 1486.45 L2352.76 47.2441 L140.696 47.2441  Z\" fill=\"#ffffff\" fill-rule=\"evenodd\" fill-opacity=\"1\"/>\n",
       "<defs>\n",
       "  <clipPath id=\"clip462\">\n",
       "    <rect x=\"140\" y=\"47\" width=\"2213\" height=\"1440\"/>\n",
       "  </clipPath>\n",
       "</defs>\n",
       "<polyline clip-path=\"url(#clip462)\" style=\"stroke:#000000; stroke-linecap:round; stroke-linejoin:round; stroke-width:2; stroke-opacity:0.1; fill:none\" points=\"504.636,47.2441 504.636,1486.45 \"/>\n",
       "<polyline clip-path=\"url(#clip462)\" style=\"stroke:#000000; stroke-linecap:round; stroke-linejoin:round; stroke-width:2; stroke-opacity:0.1; fill:none\" points=\"954.387,47.2441 954.387,1486.45 \"/>\n",
       "<polyline clip-path=\"url(#clip462)\" style=\"stroke:#000000; stroke-linecap:round; stroke-linejoin:round; stroke-width:2; stroke-opacity:0.1; fill:none\" points=\"1404.14,47.2441 1404.14,1486.45 \"/>\n",
       "<polyline clip-path=\"url(#clip462)\" style=\"stroke:#000000; stroke-linecap:round; stroke-linejoin:round; stroke-width:2; stroke-opacity:0.1; fill:none\" points=\"1853.89,47.2441 1853.89,1486.45 \"/>\n",
       "<polyline clip-path=\"url(#clip462)\" style=\"stroke:#000000; stroke-linecap:round; stroke-linejoin:round; stroke-width:2; stroke-opacity:0.1; fill:none\" points=\"2303.64,47.2441 2303.64,1486.45 \"/>\n",
       "<polyline clip-path=\"url(#clip460)\" style=\"stroke:#000000; stroke-linecap:round; stroke-linejoin:round; stroke-width:4; stroke-opacity:1; fill:none\" points=\"140.696,1486.45 2352.76,1486.45 \"/>\n",
       "<polyline clip-path=\"url(#clip460)\" style=\"stroke:#000000; stroke-linecap:round; stroke-linejoin:round; stroke-width:4; stroke-opacity:1; fill:none\" points=\"504.636,1486.45 504.636,1467.55 \"/>\n",
       "<polyline clip-path=\"url(#clip460)\" style=\"stroke:#000000; stroke-linecap:round; stroke-linejoin:round; stroke-width:4; stroke-opacity:1; fill:none\" points=\"954.387,1486.45 954.387,1467.55 \"/>\n",
       "<polyline clip-path=\"url(#clip460)\" style=\"stroke:#000000; stroke-linecap:round; stroke-linejoin:round; stroke-width:4; stroke-opacity:1; fill:none\" points=\"1404.14,1486.45 1404.14,1467.55 \"/>\n",
       "<polyline clip-path=\"url(#clip460)\" style=\"stroke:#000000; stroke-linecap:round; stroke-linejoin:round; stroke-width:4; stroke-opacity:1; fill:none\" points=\"1853.89,1486.45 1853.89,1467.55 \"/>\n",
       "<polyline clip-path=\"url(#clip460)\" style=\"stroke:#000000; stroke-linecap:round; stroke-linejoin:round; stroke-width:4; stroke-opacity:1; fill:none\" points=\"2303.64,1486.45 2303.64,1467.55 \"/>\n",
       "<path clip-path=\"url(#clip460)\" d=\"M504.636 1517.37 Q501.025 1517.37 499.196 1520.93 Q497.391 1524.47 497.391 1531.6 Q497.391 1538.71 499.196 1542.27 Q501.025 1545.82 504.636 1545.82 Q508.271 1545.82 510.076 1542.27 Q511.905 1538.71 511.905 1531.6 Q511.905 1524.47 510.076 1520.93 Q508.271 1517.37 504.636 1517.37 M504.636 1513.66 Q510.446 1513.66 513.502 1518.27 Q516.581 1522.85 516.581 1531.6 Q516.581 1540.33 513.502 1544.94 Q510.446 1549.52 504.636 1549.52 Q498.826 1549.52 495.747 1544.94 Q492.692 1540.33 492.692 1531.6 Q492.692 1522.85 495.747 1518.27 Q498.826 1513.66 504.636 1513.66 Z\" fill=\"#000000\" fill-rule=\"nonzero\" fill-opacity=\"1\" /><path clip-path=\"url(#clip460)\" d=\"M929.075 1544.91 L936.714 1544.91 L936.714 1518.55 L928.404 1520.21 L928.404 1515.95 L936.668 1514.29 L941.344 1514.29 L941.344 1544.91 L948.982 1544.91 L948.982 1548.85 L929.075 1548.85 L929.075 1544.91 Z\" fill=\"#000000\" fill-rule=\"nonzero\" fill-opacity=\"1\" /><path clip-path=\"url(#clip460)\" d=\"M968.427 1517.37 Q964.816 1517.37 962.987 1520.93 Q961.181 1524.47 961.181 1531.6 Q961.181 1538.71 962.987 1542.27 Q964.816 1545.82 968.427 1545.82 Q972.061 1545.82 973.867 1542.27 Q975.695 1538.71 975.695 1531.6 Q975.695 1524.47 973.867 1520.93 Q972.061 1517.37 968.427 1517.37 M968.427 1513.66 Q974.237 1513.66 977.292 1518.27 Q980.371 1522.85 980.371 1531.6 Q980.371 1540.33 977.292 1544.94 Q974.237 1549.52 968.427 1549.52 Q962.617 1549.52 959.538 1544.94 Q956.482 1540.33 956.482 1531.6 Q956.482 1522.85 959.538 1518.27 Q962.617 1513.66 968.427 1513.66 Z\" fill=\"#000000\" fill-rule=\"nonzero\" fill-opacity=\"1\" /><path clip-path=\"url(#clip460)\" d=\"M1382.91 1544.91 L1399.23 1544.91 L1399.23 1548.85 L1377.29 1548.85 L1377.29 1544.91 Q1379.95 1542.16 1384.53 1537.53 Q1389.14 1532.88 1390.32 1531.53 Q1392.56 1529.01 1393.44 1527.27 Q1394.35 1525.51 1394.35 1523.82 Q1394.35 1521.07 1392.4 1519.33 Q1390.48 1517.6 1387.38 1517.6 Q1385.18 1517.6 1382.73 1518.36 Q1380.3 1519.13 1377.52 1520.68 L1377.52 1515.95 Q1380.34 1514.82 1382.8 1514.24 Q1385.25 1513.66 1387.29 1513.66 Q1392.66 1513.66 1395.85 1516.35 Q1399.05 1519.03 1399.05 1523.52 Q1399.05 1525.65 1398.24 1527.57 Q1397.45 1529.47 1395.34 1532.07 Q1394.76 1532.74 1391.66 1535.95 Q1388.56 1539.15 1382.91 1544.91 Z\" fill=\"#000000\" fill-rule=\"nonzero\" fill-opacity=\"1\" /><path clip-path=\"url(#clip460)\" d=\"M1419.05 1517.37 Q1415.43 1517.37 1413.61 1520.93 Q1411.8 1524.47 1411.8 1531.6 Q1411.8 1538.71 1413.61 1542.27 Q1415.43 1545.82 1419.05 1545.82 Q1422.68 1545.82 1424.49 1542.27 Q1426.31 1538.71 1426.31 1531.6 Q1426.31 1524.47 1424.49 1520.93 Q1422.68 1517.37 1419.05 1517.37 M1419.05 1513.66 Q1424.86 1513.66 1427.91 1518.27 Q1430.99 1522.85 1430.99 1531.6 Q1430.99 1540.33 1427.91 1544.94 Q1424.86 1549.52 1419.05 1549.52 Q1413.24 1549.52 1410.16 1544.94 Q1407.1 1540.33 1407.1 1531.6 Q1407.1 1522.85 1410.16 1518.27 Q1413.24 1513.66 1419.05 1513.66 Z\" fill=\"#000000\" fill-rule=\"nonzero\" fill-opacity=\"1\" /><path clip-path=\"url(#clip460)\" d=\"M1842.73 1530.21 Q1846.09 1530.93 1847.96 1533.2 Q1849.86 1535.47 1849.86 1538.8 Q1849.86 1543.92 1846.34 1546.72 Q1842.83 1549.52 1836.34 1549.52 Q1834.17 1549.52 1831.85 1549.08 Q1829.56 1548.66 1827.11 1547.81 L1827.11 1543.29 Q1829.05 1544.43 1831.37 1545.01 Q1833.68 1545.58 1836.2 1545.58 Q1840.6 1545.58 1842.89 1543.85 Q1845.21 1542.11 1845.21 1538.8 Q1845.21 1535.75 1843.06 1534.03 Q1840.93 1532.3 1837.11 1532.3 L1833.08 1532.3 L1833.08 1528.45 L1837.29 1528.45 Q1840.74 1528.45 1842.57 1527.09 Q1844.4 1525.7 1844.4 1523.11 Q1844.4 1520.45 1842.5 1519.03 Q1840.63 1517.6 1837.11 1517.6 Q1835.19 1517.6 1832.99 1518.01 Q1830.79 1518.43 1828.15 1519.31 L1828.15 1515.14 Q1830.81 1514.4 1833.13 1514.03 Q1835.46 1513.66 1837.52 1513.66 Q1842.85 1513.66 1845.95 1516.09 Q1849.05 1518.5 1849.05 1522.62 Q1849.05 1525.49 1847.41 1527.48 Q1845.76 1529.45 1842.73 1530.21 Z\" fill=\"#000000\" fill-rule=\"nonzero\" fill-opacity=\"1\" /><path clip-path=\"url(#clip460)\" d=\"M1868.73 1517.37 Q1865.12 1517.37 1863.29 1520.93 Q1861.48 1524.47 1861.48 1531.6 Q1861.48 1538.71 1863.29 1542.27 Q1865.12 1545.82 1868.73 1545.82 Q1872.36 1545.82 1874.17 1542.27 Q1876 1538.71 1876 1531.6 Q1876 1524.47 1874.17 1520.93 Q1872.36 1517.37 1868.73 1517.37 M1868.73 1513.66 Q1874.54 1513.66 1877.59 1518.27 Q1880.67 1522.85 1880.67 1531.6 Q1880.67 1540.33 1877.59 1544.94 Q1874.54 1549.52 1868.73 1549.52 Q1862.92 1549.52 1859.84 1544.94 Q1856.78 1540.33 1856.78 1531.6 Q1856.78 1522.85 1859.84 1518.27 Q1862.92 1513.66 1868.73 1513.66 Z\" fill=\"#000000\" fill-rule=\"nonzero\" fill-opacity=\"1\" /><path clip-path=\"url(#clip460)\" d=\"M2291.81 1518.36 L2280.01 1536.81 L2291.81 1536.81 L2291.81 1518.36 M2290.59 1514.29 L2296.47 1514.29 L2296.47 1536.81 L2301.4 1536.81 L2301.4 1540.7 L2296.47 1540.7 L2296.47 1548.85 L2291.81 1548.85 L2291.81 1540.7 L2276.21 1540.7 L2276.21 1536.19 L2290.59 1514.29 Z\" fill=\"#000000\" fill-rule=\"nonzero\" fill-opacity=\"1\" /><path clip-path=\"url(#clip460)\" d=\"M2319.13 1517.37 Q2315.52 1517.37 2313.69 1520.93 Q2311.88 1524.47 2311.88 1531.6 Q2311.88 1538.71 2313.69 1542.27 Q2315.52 1545.82 2319.13 1545.82 Q2322.76 1545.82 2324.57 1542.27 Q2326.4 1538.71 2326.4 1531.6 Q2326.4 1524.47 2324.57 1520.93 Q2322.76 1517.37 2319.13 1517.37 M2319.13 1513.66 Q2324.94 1513.66 2327.99 1518.27 Q2331.07 1522.85 2331.07 1531.6 Q2331.07 1540.33 2327.99 1544.94 Q2324.94 1549.52 2319.13 1549.52 Q2313.32 1549.52 2310.24 1544.94 Q2307.18 1540.33 2307.18 1531.6 Q2307.18 1522.85 2310.24 1518.27 Q2313.32 1513.66 2319.13 1513.66 Z\" fill=\"#000000\" fill-rule=\"nonzero\" fill-opacity=\"1\" /><polyline clip-path=\"url(#clip462)\" style=\"stroke:#000000; stroke-linecap:round; stroke-linejoin:round; stroke-width:2; stroke-opacity:0.1; fill:none\" points=\"140.696,249.632 2352.76,249.632 \"/>\n",
       "<polyline clip-path=\"url(#clip462)\" style=\"stroke:#000000; stroke-linecap:round; stroke-linejoin:round; stroke-width:2; stroke-opacity:0.1; fill:none\" points=\"140.696,474.508 2352.76,474.508 \"/>\n",
       "<polyline clip-path=\"url(#clip462)\" style=\"stroke:#000000; stroke-linecap:round; stroke-linejoin:round; stroke-width:2; stroke-opacity:0.1; fill:none\" points=\"140.696,699.383 2352.76,699.383 \"/>\n",
       "<polyline clip-path=\"url(#clip462)\" style=\"stroke:#000000; stroke-linecap:round; stroke-linejoin:round; stroke-width:2; stroke-opacity:0.1; fill:none\" points=\"140.696,924.259 2352.76,924.259 \"/>\n",
       "<polyline clip-path=\"url(#clip462)\" style=\"stroke:#000000; stroke-linecap:round; stroke-linejoin:round; stroke-width:2; stroke-opacity:0.1; fill:none\" points=\"140.696,1149.13 2352.76,1149.13 \"/>\n",
       "<polyline clip-path=\"url(#clip462)\" style=\"stroke:#000000; stroke-linecap:round; stroke-linejoin:round; stroke-width:2; stroke-opacity:0.1; fill:none\" points=\"140.696,1374.01 2352.76,1374.01 \"/>\n",
       "<polyline clip-path=\"url(#clip460)\" style=\"stroke:#000000; stroke-linecap:round; stroke-linejoin:round; stroke-width:4; stroke-opacity:1; fill:none\" points=\"140.696,47.2441 140.696,1486.45 \"/>\n",
       "<polyline clip-path=\"url(#clip460)\" style=\"stroke:#000000; stroke-linecap:round; stroke-linejoin:round; stroke-width:4; stroke-opacity:1; fill:none\" points=\"140.696,249.632 159.593,249.632 \"/>\n",
       "<polyline clip-path=\"url(#clip460)\" style=\"stroke:#000000; stroke-linecap:round; stroke-linejoin:round; stroke-width:4; stroke-opacity:1; fill:none\" points=\"140.696,474.508 159.593,474.508 \"/>\n",
       "<polyline clip-path=\"url(#clip460)\" style=\"stroke:#000000; stroke-linecap:round; stroke-linejoin:round; stroke-width:4; stroke-opacity:1; fill:none\" points=\"140.696,699.383 159.593,699.383 \"/>\n",
       "<polyline clip-path=\"url(#clip460)\" style=\"stroke:#000000; stroke-linecap:round; stroke-linejoin:round; stroke-width:4; stroke-opacity:1; fill:none\" points=\"140.696,924.259 159.593,924.259 \"/>\n",
       "<polyline clip-path=\"url(#clip460)\" style=\"stroke:#000000; stroke-linecap:round; stroke-linejoin:round; stroke-width:4; stroke-opacity:1; fill:none\" points=\"140.696,1149.13 159.593,1149.13 \"/>\n",
       "<polyline clip-path=\"url(#clip460)\" style=\"stroke:#000000; stroke-linecap:round; stroke-linejoin:round; stroke-width:4; stroke-opacity:1; fill:none\" points=\"140.696,1374.01 159.593,1374.01 \"/>\n",
       "<path clip-path=\"url(#clip460)\" d=\"M83.7929 232.352 L102.149 232.352 L102.149 236.287 L88.0753 236.287 L88.0753 244.759 Q89.0938 244.412 90.1123 244.25 Q91.1308 244.065 92.1493 244.065 Q97.9363 244.065 101.316 247.236 Q104.696 250.408 104.696 255.824 Q104.696 261.403 101.223 264.505 Q97.7511 267.583 91.4317 267.583 Q89.2558 267.583 86.9873 267.213 Q84.7419 266.843 82.3346 266.102 L82.3346 261.403 Q84.4179 262.537 86.6401 263.093 Q88.8623 263.648 91.3391 263.648 Q95.3437 263.648 97.6817 261.542 Q100.02 259.435 100.02 255.824 Q100.02 252.213 97.6817 250.107 Q95.3437 248 91.3391 248 Q89.4641 248 87.5892 248.417 Q85.7373 248.834 83.7929 249.713 L83.7929 232.352 Z\" fill=\"#000000\" fill-rule=\"nonzero\" fill-opacity=\"1\" /><path clip-path=\"url(#clip460)\" d=\"M53.3995 487.853 L61.0384 487.853 L61.0384 461.487 L52.7282 463.154 L52.7282 458.894 L60.9921 457.228 L65.668 457.228 L65.668 487.853 L73.3068 487.853 L73.3068 491.788 L53.3995 491.788 L53.3995 487.853 Z\" fill=\"#000000\" fill-rule=\"nonzero\" fill-opacity=\"1\" /><path clip-path=\"url(#clip460)\" d=\"M92.7512 460.306 Q89.1401 460.306 87.3114 463.871 Q85.5058 467.413 85.5058 474.542 Q85.5058 481.649 87.3114 485.214 Q89.1401 488.755 92.7512 488.755 Q96.3854 488.755 98.1909 485.214 Q100.02 481.649 100.02 474.542 Q100.02 467.413 98.1909 463.871 Q96.3854 460.306 92.7512 460.306 M92.7512 456.603 Q98.5613 456.603 101.617 461.209 Q104.696 465.792 104.696 474.542 Q104.696 483.269 101.617 487.876 Q98.5613 492.459 92.7512 492.459 Q86.941 492.459 83.8623 487.876 Q80.8068 483.269 80.8068 474.542 Q80.8068 465.792 83.8623 461.209 Q86.941 456.603 92.7512 456.603 Z\" fill=\"#000000\" fill-rule=\"nonzero\" fill-opacity=\"1\" /><path clip-path=\"url(#clip460)\" d=\"M54.3949 712.728 L62.0337 712.728 L62.0337 686.363 L53.7236 688.029 L53.7236 683.77 L61.9874 682.103 L66.6633 682.103 L66.6633 712.728 L74.3022 712.728 L74.3022 716.663 L54.3949 716.663 L54.3949 712.728 Z\" fill=\"#000000\" fill-rule=\"nonzero\" fill-opacity=\"1\" /><path clip-path=\"url(#clip460)\" d=\"M83.7929 682.103 L102.149 682.103 L102.149 686.038 L88.0753 686.038 L88.0753 694.511 Q89.0938 694.163 90.1123 694.001 Q91.1308 693.816 92.1493 693.816 Q97.9363 693.816 101.316 696.987 Q104.696 700.159 104.696 705.575 Q104.696 711.154 101.223 714.256 Q97.7511 717.335 91.4317 717.335 Q89.2558 717.335 86.9873 716.964 Q84.7419 716.594 82.3346 715.853 L82.3346 711.154 Q84.4179 712.288 86.6401 712.844 Q88.8623 713.399 91.3391 713.399 Q95.3437 713.399 97.6817 711.293 Q100.02 709.186 100.02 705.575 Q100.02 701.964 97.6817 699.858 Q95.3437 697.751 91.3391 697.751 Q89.4641 697.751 87.5892 698.168 Q85.7373 698.585 83.7929 699.464 L83.7929 682.103 Z\" fill=\"#000000\" fill-rule=\"nonzero\" fill-opacity=\"1\" /><path clip-path=\"url(#clip460)\" d=\"M56.6171 937.604 L72.9365 937.604 L72.9365 941.539 L50.9921 941.539 L50.9921 937.604 Q53.6541 934.849 58.2375 930.22 Q62.8439 925.567 64.0245 924.224 Q66.2698 921.701 67.1494 919.965 Q68.0522 918.206 68.0522 916.516 Q68.0522 913.761 66.1078 912.025 Q64.1865 910.289 61.0847 910.289 Q58.8856 910.289 56.4319 911.053 Q54.0014 911.817 51.2236 913.368 L51.2236 908.646 Q54.0477 907.511 56.5014 906.933 Q58.955 906.354 60.9921 906.354 Q66.3624 906.354 69.5568 909.039 Q72.7513 911.724 72.7513 916.215 Q72.7513 918.345 71.9411 920.266 Q71.1541 922.164 69.0476 924.757 Q68.4689 925.428 65.367 928.645 Q62.2652 931.84 56.6171 937.604 Z\" fill=\"#000000\" fill-rule=\"nonzero\" fill-opacity=\"1\" /><path clip-path=\"url(#clip460)\" d=\"M92.7512 910.058 Q89.1401 910.058 87.3114 913.622 Q85.5058 917.164 85.5058 924.294 Q85.5058 931.4 87.3114 934.965 Q89.1401 938.507 92.7512 938.507 Q96.3854 938.507 98.1909 934.965 Q100.02 931.4 100.02 924.294 Q100.02 917.164 98.1909 913.622 Q96.3854 910.058 92.7512 910.058 M92.7512 906.354 Q98.5613 906.354 101.617 910.96 Q104.696 915.544 104.696 924.294 Q104.696 933.02 101.617 937.627 Q98.5613 942.21 92.7512 942.21 Q86.941 942.21 83.8623 937.627 Q80.8068 933.02 80.8068 924.294 Q80.8068 915.544 83.8623 910.96 Q86.941 906.354 92.7512 906.354 Z\" fill=\"#000000\" fill-rule=\"nonzero\" fill-opacity=\"1\" /><path clip-path=\"url(#clip460)\" d=\"M57.6125 1162.48 L73.9318 1162.48 L73.9318 1166.41 L51.9875 1166.41 L51.9875 1162.48 Q54.6495 1159.72 59.2328 1155.1 Q63.8393 1150.44 65.0198 1149.1 Q67.2652 1146.58 68.1448 1144.84 Q69.0476 1143.08 69.0476 1141.39 Q69.0476 1138.64 67.1032 1136.9 Q65.1819 1135.16 62.08 1135.16 Q59.881 1135.16 57.4273 1135.93 Q54.9967 1136.69 52.219 1138.24 L52.219 1133.52 Q55.043 1132.39 57.4967 1131.81 Q59.9504 1131.23 61.9874 1131.23 Q67.3578 1131.23 70.5522 1133.91 Q73.7466 1136.6 73.7466 1141.09 Q73.7466 1143.22 72.9365 1145.14 Q72.1494 1147.04 70.0429 1149.63 Q69.4642 1150.3 66.3624 1153.52 Q63.2606 1156.72 57.6125 1162.48 Z\" fill=\"#000000\" fill-rule=\"nonzero\" fill-opacity=\"1\" /><path clip-path=\"url(#clip460)\" d=\"M83.7929 1131.85 L102.149 1131.85 L102.149 1135.79 L88.0753 1135.79 L88.0753 1144.26 Q89.0938 1143.91 90.1123 1143.75 Q91.1308 1143.57 92.1493 1143.57 Q97.9363 1143.57 101.316 1146.74 Q104.696 1149.91 104.696 1155.33 Q104.696 1160.91 101.223 1164.01 Q97.7511 1167.09 91.4317 1167.09 Q89.2558 1167.09 86.9873 1166.72 Q84.7419 1166.35 82.3346 1165.6 L82.3346 1160.91 Q84.4179 1162.04 86.6401 1162.6 Q88.8623 1163.15 91.3391 1163.15 Q95.3437 1163.15 97.6817 1161.04 Q100.02 1158.94 100.02 1155.33 Q100.02 1151.72 97.6817 1149.61 Q95.3437 1147.5 91.3391 1147.5 Q89.4641 1147.5 87.5892 1147.92 Q85.7373 1148.34 83.7929 1149.22 L83.7929 1131.85 Z\" fill=\"#000000\" fill-rule=\"nonzero\" fill-opacity=\"1\" /><path clip-path=\"url(#clip460)\" d=\"M66.7559 1372.66 Q70.1124 1373.37 71.9874 1375.64 Q73.8855 1377.91 73.8855 1381.24 Q73.8855 1386.36 70.367 1389.16 Q66.8485 1391.96 60.3671 1391.96 Q58.1912 1391.96 55.8764 1391.52 Q53.5847 1391.1 51.131 1390.25 L51.131 1385.73 Q53.0754 1386.87 55.3903 1387.45 Q57.7051 1388.03 60.2282 1388.03 Q64.6263 1388.03 66.918 1386.29 Q69.2328 1384.55 69.2328 1381.24 Q69.2328 1378.19 67.08 1376.48 Q64.9504 1374.74 61.131 1374.74 L57.1032 1374.74 L57.1032 1370.9 L61.3161 1370.9 Q64.7652 1370.9 66.5939 1369.53 Q68.4226 1368.14 68.4226 1365.55 Q68.4226 1362.89 66.5245 1361.48 Q64.6495 1360.04 61.131 1360.04 Q59.2097 1360.04 57.0106 1360.46 Q54.8115 1360.87 52.1727 1361.75 L52.1727 1357.59 Q54.8347 1356.85 57.1495 1356.48 Q59.4875 1356.11 61.5476 1356.11 Q66.8717 1356.11 69.9735 1358.54 Q73.0753 1360.94 73.0753 1365.06 Q73.0753 1367.93 71.4318 1369.92 Q69.7883 1371.89 66.7559 1372.66 Z\" fill=\"#000000\" fill-rule=\"nonzero\" fill-opacity=\"1\" /><path clip-path=\"url(#clip460)\" d=\"M92.7512 1359.81 Q89.1401 1359.81 87.3114 1363.37 Q85.5058 1366.92 85.5058 1374.04 Q85.5058 1381.15 87.3114 1384.72 Q89.1401 1388.26 92.7512 1388.26 Q96.3854 1388.26 98.1909 1384.72 Q100.02 1381.15 100.02 1374.04 Q100.02 1366.92 98.1909 1363.37 Q96.3854 1359.81 92.7512 1359.81 M92.7512 1356.11 Q98.5613 1356.11 101.617 1360.71 Q104.696 1365.29 104.696 1374.04 Q104.696 1382.77 101.617 1387.38 Q98.5613 1391.96 92.7512 1391.96 Q86.941 1391.96 83.8623 1387.38 Q80.8068 1382.77 80.8068 1374.04 Q80.8068 1365.29 83.8623 1360.71 Q86.941 1356.11 92.7512 1356.11 Z\" fill=\"#000000\" fill-rule=\"nonzero\" fill-opacity=\"1\" /><g clip-path=\"url(#clip462)\">\n",
       "<image width=\"1439\" height=\"1439\" xlink:href=\"data:image/png;base64,\n",
       "iVBORw0KGgoAAAANSUhEUgAABZ8AAAWfCAYAAADEdIgFAAAgAElEQVR4nOza6Y7k51nG4a69epue\n",
       "LR4vGMdWCEKECEKkEI6Yg+A7X5D4EEhAIbFC4jjOePbp7ulaOYYnusUzL7quI7hV+i9v/aomf/vj\n",
       "D48ngzm82HdPKFstF90Tyi4eXHRPKFs9vOyeUDa5XHZPKJutx7uel9NZ94Sy1988755Q9sffv+me\n",
       "UHb/8YfdE8ouH4z3rHv9Yrzr+d7j+90Tyi4eXnVPKHv19NvuCWVPf/Pb7gll1zc33RPKNvvhvqac\n",
       "HA7jfU9ZLsY7I02mk+4JZZubu+4JdQN+zk8+/ah7Qtl0Nt7nvNuNdz1PZuN9hz2/P95Z9Orhg+4J\n",
       "ZbPpuntC2X6wM9K0ewAAAAAAAP//iM8AAAAAAMSJzwAAAAAAxInPAAAAAADEic8AAAAAAMSJzwAA\n",
       "AAAAxInPAAAAAADEic8AAAAAAMSJzwAAAAAAxInPAAAAAADEic8AAAAAAMSJzwAAAAAAxInPAAAA\n",
       "AADEic8AAAAAAMSJzwAAAAAAxInPAAAAAADEic8AAAAAAMSJzwAAAAAAxInPAAAAAADEic8AAAAA\n",
       "AMSJzwAAAAAAxInPAAAAAADEic8AAAAAAMSJzwAAAAAAxInPAAAAAADEic8AAAAAAMSJzwAAAAAA\n",
       "xInPAAAAAADEic8AAAAAAMSJzwAAAAAAxInPAAAAAADEic8AAAAAAMSJzwAAAAAAxInPAAAAAADE\n",
       "ic8AAAAAAMSJzwAAAAAAxInPAAAAAADEic8AAAAAAMSJzwAAAAAAxInPAAAAAADEic8AAAAAAMSJ\n",
       "zwAAAAAAxInPAAAAAADEic8AAAAAAMTNJ++6J9StVqvuCWX3P3zQPaHs6osPuyeUza/OuyeUTboH\n",
       "/AkOm7vuCWW3z990TyhbTi+6J5T96Kd/1z2h7MmHn3ZPKJvvNt0Tyn7zi591Tyi7ub7unlB2t3na\n",
       "PaHs7uXz7gllh91478HV2bp7QtnF6b3uCWWTyXgnu8lk1z2h7O5uvOfz+nLePaFstT7rnlA2H7AV\n",
       "nBwP3QvqBjyLvvj2WfeEsnd3433ODx497J5QtliN93ye3I317vbPZwAAAAAA4sRnAAAAAADixGcA\n",
       "AAAAAOLEZwAAAAAA4sRnAAAAAADixGcAAAAAAOLEZwAAAAAA4sRnAAAAAADixGcAAAAAAOLEZwAA\n",
       "AAAA4sRnAAAAAADixGcAAAAAAOLEZwAAAAAA4sRnAAAAAADixGcAAAAAAOLEZwAAAAAA4sRnAAAA\n",
       "AADixGcAAAAAAOLEZwAAAAAA4sRnAAAAAADixGcAAAAAAOLEZwAAAAAA4sRnAAAAAADixGcAAAAA\n",
       "AOLEZwAAAAAA4sRnAAAAAADixGcAAAAAAOLEZwAAAAAA4sRnAAAAAADixGcAAAAAAOLEZwAAAAAA\n",
       "4sRnAAAAAADixGcAAAAAAOLEZwAAAAAA4sRnAAAAAADixGcAAAAAAOLEZwAAAAAA4sRnAAAAAADi\n",
       "xGcAAAAAAOLEZwAAAAAA4sRnAAAAAADixGcAAAAAAOLEZwAAAAAA4sRnAAAAAADi5uv5efeGssXp\n",
       "ontC2aNPHndPKLt8dNk9oeywWHZPKNtvD90TymbT8e7Bj774tHtC2fc++UH3hLKf/PQfuyeUPb4Y\n",
       "7z349ve/7Z5Q9uwvv+ieUPbr//6v7gll//bzn3VPKNsM+B48uf+ge0HZ2ZMPuyeUXd7/oHtC2X67\n",
       "655QdnPzsntC2Ze/+nn3hLLL+6vuCWVn9+51TyibHsf7PnicHLsnlE2Wk+4JZevNeM/n2XTWPaFs\n",
       "v912Tyg7zMfb/O1vv+6eUOKfzwAAAAAAxInPAAAAAADEic8AAAAAAMSJzwAAAAAAxInPAAAAAADE\n",
       "ic8AAAAAAMSJzwAAAAAAxInPAAAAAADEic8AAAAAAMSJzwAAAAAAxInPAAAAAADEic8AAAAAAMSJ\n",
       "zwAAAAAAxInPAAAAAADEic8AAAAAAMSJzwAAAAAAxInPAAAAAADEic8AAAAAAMSJzwAAAAAAxInP\n",
       "AAAAAADEic8AAAAAAMSJzwAAAAAAxInPAAAAAADEic8AAAAAAMSJzwAAAAAAxInPAAAAAADEic8A\n",
       "AAAAAMSJzwAAAAAAxInPAAAAAADEic8AAAAAAMSJzwAAAAAAxInPAAAAAADEic8AAAAAAMSJzwAA\n",
       "AAAAxInPAAAAAADEic8AAAAAAMSJzwAAAAAAxInPAAAAAADEic8AAAAAAMSJzwAAAAAAxInPAAAA\n",
       "AADEic8AAAAAAMSJzwAAAAAAxInPAAAAAADEzR9/9p3uDWVnj6+6J5SdPzztnlA2Wc66J5RNB/w5\n",
       "ZbY9dE8oe7S47J5Q9vd/9ePuCWU/+sHfdE8o27/9ffeEsqf/8cvuCWXXf/xD94S6w7Z7QdkX4z3q\n",
       "Tq7++vPuCWWPL8c7I/3P3aZ7Qtn+0aPuCWWTxXjXxub2pntC2e3dsXtC2WG7655QNp+Odz3Pl6vu\n",
       "CWW7m/Gez+uzZfeEsslsvGtjfXnRPaFsOp13Tyi7fjPee/DFV8+6J5R988vfdU8oGTDVAQAAAADw\n",
       "vhOfAQAAAACIE58BAAAAAIgTnwEAAAAAiBOfAQAAAACIE58BAAAAAIgTnwEAAAAAiBOfAQAAAACI\n",
       "E58BAAAAAIgTnwEAAAAAiBOfAQAAAACIE58BAAAAAIgTnwEAAAAAiBOfAQAAAACIE58BAAAAAIgT\n",
       "nwEAAAAAiBOfAQAAAACIE58BAAAAAIgTnwEAAAAAiBOfAQAAAACIE58BAAAAAIgTnwEAAAAAiBOf\n",
       "AQAAAACIE58BAAAAAIgTnwEAAAAAiBOfAQAAAACIE58BAAAAAIgTnwEAAAAAiBOfAQAAAACIE58B\n",
       "AAAAAIgTnwEAAAAAiBOfAQAAAACIE58BAAAAAIgTnwEAAAAAiBOfAQAAAACIE58BAAAAAIgTnwEA\n",
       "AAAAiBOfAQAAAACIE58BAAAAAIgTnwEAAAAAiBOfAQAAAACIE58BAAAAAIgTnwEAAAAAiBOfAQAA\n",
       "AACIm3/6g+92byjbL5bdE8qub667J5TNdsfuCWXnq/F+T1nPZt0Tyj44O++eUPadk7vuCWW/+Od/\n",
       "6p5Q9u7Ft90Tyna3t90TypaLdfeEsuV6vM2r0/E23z8fb/P3P37UPaHu5dvuBWVfHw7dE8q2+033\n",
       "hLLNm5fdE8pefPW77gllk92ue0LZcjXed9jju/E+5xdfj3cWvffgontC2XTAc91iwPPzfD7ec2Nz\n",
       "O9554/r5TfeEssls0T2hZLxSBwAAAADAe098BgAAAAAgTnwGAAAAACBOfAYAAAAAIE58BgAAAAAg\n",
       "TnwGAAAAACBOfAYAAAAAIE58BgAAAAAgTnwGAAAAACBOfAYAAAAAIE58BgAAAAAgTnwGAAAAACBO\n",
       "fAYAAAAAIE58BgAAAAAgTnwGAAAAACBOfAYAAAAAIE58BgAAAAAgTnwGAAAAACBOfAYAAAAAIE58\n",
       "BgAAAAAgTnwGAAAAACBOfAYAAAAAIE58BgAAAAAgTnwGAAAAACBOfAYAAAAAIE58BgAAAAAgTnwG\n",
       "AAAAACBOfAYAAAAAIE58BgAAAAAgTnwGAAAAACBOfAYAAAAAIE58BgAAAAAgTnwGAAAAACBOfAYA\n",
       "AAAAIE58BgAAAAAgTnwGAAAAACBOfAYAAAAAIE58BgAAAAAgTnwGAAAAACBOfAYAAAAAIE58BgAA\n",
       "AAAgTnwGAAAAACBOfAYAAAAAIE58BgAAAAAgbj5dTLo3lB3n3QvqTlfr7gll00P3grr1YdU9oezh\n",
       "+f3uCWWPH33cPaHs+nbXPaHsF7/6untC2aePrronlE1Xs+4JZdfvbrsnlN1s7ronlJ0dxzsjXdxb\n",
       "dk8ou1yP9+5+shzvHrzb7LsnlD27G+/dffv8efeEsuOb6+4JZQ8uz7snlM0X432JffX1s+4JZbu3\n",
       "m+4JZZv1sXtC2XI23vl5tVh0Tyg7PR2vIy2vxtt8eTFek9ncbbsnlPjnMwAAAAAAceIzAAAAAABx\n",
       "4jMAAAAAAHHiMwAAAAAAceIzAAAAAABx4jMAAAAAAHHiMwAAAAAAceIzAAAAAABx4jMAAAAAAHHi\n",
       "MwAAAAAAceIzAAAAAABx4jMAAAAAAHHiMwAAAAAAceIzAAAAAABx4jMAAAAAAHHiMwAAAAAAceIz\n",
       "AAAAAABx4jMAAAAAAHHiMwAAAAAAceIzAAAAAABx4jMAAAAAAHHiMwAAAAAAceIzAAAAAABx4jMA\n",
       "AAAAAHHiMwAAAAAAceIzAAAAAABx4jMAAAAAAHHiMwAAAAAAceIzAAAAAABx4jMAAAAAAHHiMwAA\n",
       "AAAAceIzAAAAAABx4jMAAAAAAHHiMwAAAAAAceIzAAAAAABx4jMAAAAAAHHiMwAAAAAAceIzAAAA\n",
       "AABx4jMAAAAAAHHiMwAAAAAAceIzAAAAAABx4jMAAAAAAHHiMwAAAAAAceIzAAAAAABx8+Nu372h\n",
       "bHky755QNtt2L6ibHMf7beLq7IPuCWU//ME/dE8o++yTj7snlP3nv/5L94SyL//wtntC2c3r2+4J\n",
       "ZU+uFt0TyvZ3410b++2AL8LFWfeCsuXZoXtC2fE43ln0ajnrnlD2yWS88/PuzXjvlG92492D69V4\n",
       "z7r5+XjX8/btpntC2c2LN90Tyk7n590Tyi5Xl90T6gZsBdu3471TjpPuBXVnl/e6J5TNr8a7ByeD\n",
       "/Zd4rLUAAAAAAAxBfAYAAAAAIE58BgAAAAAgTnwGAAAAACBOfAYAAAAAIE58BgAAAAAgTnwGAAAA\n",
       "ACBOfAYAAAAAIE58BgAAAAAgTnwGAAAAACBOfAYAAAAAIE58BgAAAAAgTnwGAAAAACBOfAYAAAAA\n",
       "IE58BgAAAAAgTnwGAAAAACBOfAYAAAAAIE58BgAAAAAgTnwGAAAAACBOfAYAAAAAIE58BgAAAAAg\n",
       "TnwGAAAAACBOfAYAAAAAIE58BgAAAAAgTnwGAAAAACBOfAYAAAAAIE58BgAAAAAgTnwGAAAAACBO\n",
       "fAYAAAAAIE58BgAAAAAgTnwGAAAAACBOfAYAAAAAIE58BgAAAAAgTnwGAAAAACBOfAYAAAAAIE58\n",
       "BgAAAAAgTnwGAAAAACBOfAYAAAAAIE58BgAAAAAgTnwGAAAAACBOfAYAAAAAIE58BgAAAAAgTnwG\n",
       "AAAAACBOfAYAAAAAIG5+/c2b7g1lq/mue0LZcrnsnlB2nMy7J5QtZve6J5Q9fPike0LZwwdX3RPK\n",
       "zpfj/db2aNW9oO6wvemeUPby1aR7Qtl6Md71PJksuifUTWbdC8purq+7J5Qdt+Ntnh6P3RPK7s3X\n",
       "3RPKPjy76J5Q9vrJR90TyjarAZ/Px233grqX4z3rrtbj3YOT43hnpP3rt90Tyra7TfeEsulyvHPd\n",
       "8sH97gll89V594SyxWq8M9JsMtZ32PGezAAAAAAAvPfEZwAAAAAA4sRnAAAAAADixGcAAAAAAOLE\n",
       "ZwAAAAAA4sRnAAAAAADixGcAAAAAAOLEZwAAAAAA4sRnAAAAAADixGcAAAAAAOLEZwAAAAAA4sRn\n",
       "AAAAAADixGcAAAAAAOLEZwAAAAAA4sRnAAAAAADixGcAAAAAAOLEZwAAAAAA4sRnAAAAAADixGcA\n",
       "AAAAAOLEZwAAAAAA4sRnAAAAAADixGcAAAAAAOLEZwAAAAAA4sRnAAAAAADixGcAAAAAAOLEZwAA\n",
       "AAAA4sRnAAAAAADixGcAAAAAAOLEZwAAAAAA4sRnAAAAAADixGcAAAAAAOLEZwAAAAAA4sRnAAAA\n",
       "AADixGcAAAAAAOLEZwAAAAAA4sRnAAAAAADixGcAAAAAAOLEZwAAAAAA4sRnAAAAAADixGcAAAAA\n",
       "AOLEZwAAAAAA4sRnAAAAAADixGcAAAAAAOLEZwAAAAAA4ubPvvy2e0PZvYt73RPKHn3+uHtC2Ww9\n",
       "755QdjzuuyeU3b563j2h7M3itntC2e7ts+4JZQ9W3QvqjofxftOczo/dE8pm8/E+5+PJgO+U6Xib\n",
       "X72+7p5QNtm+655QtliMd21sZ+Odkaaz8V6Eq7OL7glls7vx7sH965fdE8qWJ4vuCWWz01n3hLLt\n",
       "Zrxn3eTQvaButlp3Tyi7/2dPuieUPfzup90T6hbjXRvH7XjPjcPJWJvH+/YKAAAAAMB7T3wGAAAA\n",
       "ACBOfAYAAAAAIE58BgAAAAAgTnwGAAAAACBOfAYAAAAAIE58BgAAAAAgTnwGAAAAACBOfAYAAAAA\n",
       "IE58BgAAAAAgTnwGAAAAACBOfAYAAAAAIE58BgAAAAAgTnwGAAAAACBOfAYAAAAAIE58BgAAAAAg\n",
       "TnwGAAAAACBOfAYAAAAAIE58BgAAAAAgTnwGAAAAACBOfAYAAAAAIE58BgAAAAAgTnwGAAAAACBO\n",
       "fAYAAAAAIE58BgAAAAAgTnwGAAAAACBOfAYAAAAAIE58BgAAAAAgTnwGAAAAACBOfAYAAAAAIE58\n",
       "BgAAAAAgTnwGAAAAACBOfAYAAAAAIE58BgAAAAAgTnwGAAAAACBOfAYAAAAAIE58BgAAAAAgTnwG\n",
       "AAAAACBOfAYAAAAAIE58BgAAAAAgTnwGAAAAACBOfAYAAAAAIE58BgAAAAAgTnwGAAAAACBuvnpw\n",
       "2r2hbDGbdU8omx6P3RPKHlxedE8oe/LkfveEsuPJdfeEsq++/HX3hLIXv/+ye0LZajnpnlC234+3\n",
       "ebO9655Q9ub1q+4JZZv9vHtC2WF23j2hbL/bdU8oW8/G+y/EccCz6G7As+j6Yt09oeyD06vuCWXP\n",
       "9+NdG69ubrsnlE1mh+4JdZN994K6xXhn0ZMBL43letk9oWw5Ge/a2L183T2hbLN/2T2h7Pb2pntC\n",
       "2fR0rO9W4532AQAAAAB474nPAAAAAADEic8AAAAAAMSJzwAAAAAAxInPAAAAAADEic8AAAAAAMSJ\n",
       "zwAAAAAAxInPAAAAAADEic8AAAAAAMSJzwAAAAAAxInPAAAAAADEic8AAAAAAMSJzwAAAAAAxInP\n",
       "AAAAAADEic8AAAAAAMSJzwAAAAAAxInPAAAAAADEic8AAAAAAMSJzwAAAAAAxInPAAAAAADEic8A\n",
       "AAAAAMSJzwAAAAAAxInPAAAAAADEic8AAAAAAMSJzwAAAAAAxInPAAAAAADEic8AAAAAAMSJzwAA\n",
       "AAAAxInPAAAAAADEic8AAAAAAMSJzwAAAAAAxInPAAAAAADEic8AAAAAAMSJzwAAAAAAxInPAAAA\n",
       "AADEic8AAAAAAMSJzwAAAAAAxInPAAAAAADEic8AAAAAAMSJzwAAAAAAxInPAAAAAADEic8AAAAA\n",
       "AMSJzwAAAAAAxInPAAAAAADEzS///GH3hrL52333hLrdsXtB2e3zl90Typ5OftM9oW7/untB2fn2\n",
       "unvCn2C858ZxPt7vg9v9eM+62WzWPaHs3d141/Ob63fdE8qOs2fdE8rOzs+6J5RNV+Pdg9PDePfg\n",
       "bLnqnlC2Wp92TyhbXo733Wo3W3ZPKPv3p990TyjbzbfdE8omJ+M9n08mu+4FZYf9eO+U/Wa86/nV\n",
       "V+M9N1787g/dE8ruduPdgzf7u+4JZeuHl90TSsYrGwAAAAAAvPfEZwAAAAAA4sRnAAAAAADixGcA\n",
       "AAAAAOLEZwAAAAAA4sRnAAAAAADixGcAAAAAAOLEZwAAAAAA4sRnAAAAAADixGcAAAAAAOLEZwAA\n",
       "AAAA4sRnAAAAAADixGcAAAAAAOLEZwAAAAAA4sRnAAAAAADixGcAAAAAAOLEZwAAAAAA4sRnAAAA\n",
       "AADixGcAAAAAAOLEZwAAAAAA4sRnAAAAAADixGcAAAAAAOLEZwAAAAAA4sRnAAAAAADixGcAAAAA\n",
       "AOLEZwAAAAAA4sRnAAAAAADixGcAAAAAAOLEZwAAAAAA4sRnAAAAAADixGcAAAAAAOLEZwAAAAAA\n",
       "4sRnAAAAAADixGcAAAAAAOLEZwAAAAAA4sRnAAAAAADixGcAAAAAAOLEZwAAAAAA4sRnAAAAAADi\n",
       "xGcAAAAAAOLEZwAAAAAA4sRnAAAAAADixGcAAAAAAOLEZwAAAAAA4ua7u2P3hrLZZNY9oex2M97n\n",
       "vNvedk8o226+7p5Qdv3qefeEstOTQ/eEsuXbu+4JZdN994K62fqie0LZ/DDe9Xz+cLzPeXYx3gU9\n",
       "nS26J5TNF+NtnkzHuwcPh/Gu58V0vLPobDLetbE4Ge/a+OzeeO+Ub9br7gllz2633RPqJpPuBXW7\n",
       "8Z51+wE/5unU/xj/LxyP413P8/V4Z9HTk9PuCWX7wY4bnhgAAAAAAMSJzwAAAAAAxInPAAAAAADE\n",
       "ic8AAAAAAMSJzwAAAAAAxInPAAAAAADEic8AAAAAAMSJzwAAAAAAxInPAAAAAADEic8AAAAAAMSJ\n",
       "zwAAAAAAxInPAAAAAADEic8AAAAAAMSJzwAAAAAAxInPAAAAAADEic8AAAAAAMSJzwAAAAAAxInP\n",
       "AAAAAADEic8AAAAAAMSJzwAAAAAAxInPAAAAAADEic8AAAAAAMSJzwAAAAAAxInPAAAAAADEic8A\n",
       "AAAAAMSJzwAAAAAAxInPAAAAAADEic8AAAAAAMSJzwAAAAAAxInPAAAAAADEic8AAAAAAMSJzwAA\n",
       "AAAAxInPAAAAAADEic8AAAAAAMSJzwAAAAAAxInPAAAAAADEic8AAAAAAMSJzwAAAAAAxInPAAAA\n",
       "AADEic8AAAAAAMSJzwAAAAAAxInPAAAAAADEic8AAAAAAMSJzwAAAAAAxM3vvn7ZvaFscu+ie0LZ\n",
       "bsDMv5zMuyfUbY/dC8r2r951Tyh7s910Tyi7mk+6J5R9/sl3uyeUffz597on1O0O3QvKjtOz7gll\n",
       "N7c33RPKXvzhq+4JZfvr8c51h81194S64757QdlkMt578GR3172g7vZV94Ky6XivwZO/+Oij7gll\n",
       "k8Ose0LZq+vx3t2H2bZ7Qtl8Ol4smMzGu56Ps/E+5+V61T2hbD5grzuu190Tyg77sc6i4919AAAA\n",
       "AAC898RnAAAAAADixGcAAAAAAOLEZwAAAAAA4sRnAAAAAADixGcAAAAAAOLEZwAAAAAA4sRnAAAA\n",
       "AADixGcAAAAAAOLEZwAAAAAA4sRnAAAAAADixGcAAAAAAOLEZwAAAAAA4sRnAAAAAADixGcAAAAA\n",
       "AOLEZwAAAAAA4sRnAAAAAADixGcAAAAAAOLEZwAAAAAA4sRnAAAAAADixGcAAAAAAOLEZwAAAAAA\n",
       "4sRnAAAAAADixGcAAAAAAOLEZwAAAAAA4sRnAAAAAADixGcAAAAAAOLEZwAAAAAA4sRnAAAAAADi\n",
       "xGcAAAAAAOLEZwAAAAAA4sRnAAAAAADixGcAAAAAAOLEZwAAAAAA4sRnAAAAAADixGcAAAAAAOLE\n",
       "ZwAAAAAA4sRnAAAAAADixGcAAAAAAOLEZwAAAAAA4sRnAAAAAADixGcAAAAAAOLEZwAAAAAA4sRn\n",
       "AAAAAADi5tt377o3lM3vn3VPKJuv5t0TypazVfeEst2he0Hd2wHvwd3dpntC2eLyqntC2b1Pv989\n",
       "oeyzH/6ke0LZ9LjvnlB2GG/yyfNvvu6eUHb36mn3hLLr6/EujnfbbfeEssN+vM95Nl92TyibTLoX\n",
       "1E0GfEAvprPuCWWP7192Tyjbb++6J5T97umue0LZ08N475T9ccCH3YCO0/E+5+lsvOfzdDref1wP\n",
       "x2P3hLLpYO/u8a4KAAAAAADee+IzAAAAAABx4jMAAAAAAHHiMwAAAAAAceIzAAAAAABx4jMAAAAA\n",
       "AHHiMwAAAAAAceIzAAAAAABx4jMAAAAAAHHiMwAAAAAAceIzAAAAAABx4jMAAAAAAHHiMwAAAAAA\n",
       "ceIzAAAAAABx4jMAAAAAAHHiMwAAAAAAceIzAAAAAABx4jMAAAAAAHHiMwAAAAAAceIzAAAAAABx\n",
       "4jMAAAAAAHHiMwAAAAAAceIzAAAAAABx4jMAAAAAAHHiMwAAAAAAceIzAAAAAABx4jMAAAAAAHHi\n",
       "MwAAAAAAceIzAAAAAABx4jMAAAAAAHHiMwAAAAAAceIzAAAAAABx4jMAAAAAAHHiMwAAAAAAceIz\n",
       "AAAAAABx4jMAAAAAAHHiMwAAAAAAceIzAAAAAABx4jMAAAAAAHHiMwAAAAAAceIzAAAAAABx4jMA\n",
       "AAAAAHHiMwAAAAAAceIzAAAAAABx85u7TfeGsvMBm/l8uuueULabbLsnlO1ODt0TynbTSfeEuul4\n",
       "9+C743if82F50T2h7OzyUfeEssVkvOfz6xffdk8oO+7edU8omw94bRx2d90Tyq5vbronlN3cjvc5\n",
       "7w/H7gllpxfjvQcPx/G+Wx0n452Rbt9ed08oOxvwPfhkPe+eULa9W3RPKHu1Ge877PYw3ubjgO/B\n",
       "u7fjPTduX77tnlC2OYx35l9dnHVPKBmvIAEAAAAA8N4TnwEAAAAAiBOfAQAAAACIE58BAAAAAIgT\n",
       "nwEAAAAAiBOfAQAAAACIE58BAAAAAIgTnwEAAAAAiBOfAYD/ZddOd+Q4zzMMT3dX92xchhQXaLXl\n",
       "BY4MxcmPIEHO/0/s/AsSGEYsG7EWSyLFnTM9Pb3kGF7iAV5+wHUdwYNCzVdV9zQAAADEic8AAAAA\n",
       "AMSJzwAAAAAAxInPAAAAAADEic8AAAAAAMSJzwAAAAAAxInPAAAAAADEic8AAAAAAMSJzwAAAAAA\n",
       "xInPAAAAAADEic8AAAAAAMSJzwAAAAAAxInPAAAAAADEic8AAAAAAMSJzwAAAAAAxInPAAAAAADE\n",
       "ic8AAAAAAMSJzwAAAAAAxInPAAAAAADEic8AAAAAAMSJzwAAAAAAxInPAAAAAADEic8AAAAAAMSJ\n",
       "zwAAAAAAxInPAAAAAADEic8AAAAAAMSJzwAAAAAAxInPAAAAAADEic8AAAAAAMSJzwAAAAAAxInP\n",
       "AAAAAADEic8AAAAAAMSJzwAAAAAAxInPAAAAAADEic8AAAAAAMSJzwAAAAAAxE2bq/H682EzdU8o\n",
       "W8/fdE8oux5w82y26J5Qdra46J5QtlyedyOFL68AACAASURBVE8oOwz4v7ar3XX3hLLdgJuXi/Hu\n",
       "jZvNVfeEsuv1eM+U1Wq8943Z0aF7Qtn68rJ7Qtnbt+NtXszGuzdOz066J5TNxnukHF1fb7onlO1u\n",
       "dt0Tyla78Tafzcf7trp7PN6z+3q/7Z5QNuDtfLQb7zF4dDTgdd5e3XRPKHv+4ln3hLLVm9fdE0oG\n",
       "fD0CAAAAAOB9Jz4DAAAAABAnPgMAAAAAECc+AwAAAAAQJz4DAAAAABAnPgMAAAAAECc+AwAAAAAQ\n",
       "Jz4DAAAAABAnPgMAAAAAECc+AwAAAAAQJz4DAAAAABAnPgMAAAAAECc+AwAAAAAQJz4DAAAAABAn\n",
       "PgMAAAAAECc+AwAAAAAQJz4DAAAAABAnPgMAAAAAECc+AwAAAAAQJz4DAAAAABAnPgMAAAAAECc+\n",
       "AwAAAAAQJz4DAAAAABAnPgMAAAAAECc+AwAAAAAQJz4DAAAAABAnPgMAAAAAECc+AwAAAAAQJz4D\n",
       "AAAAABAnPgMAAAAAECc+AwAAAAAQJz4DAAAAABAnPgMAAAAAECc+AwAAAAAQJz4DAAAAABAnPgMA\n",
       "AAAAECc+AwAAAAAQJz4DAAAAABAnPgMAAAAAECc+AwAAAAAQJz4DAAAAABAnPgMAAAAAECc+AwAA\n",
       "AAAQJz4DAAAAABA3ndx53L2hbD8/755Qdljsuie8g033gLrDgNd5Nt7mxWLqnlC2mI67J5Rdrdfd\n",
       "E8pevfype0LZ9ezQPaFs/fZV94S6w7Z7QdnhaN89oexwNN79fLQb7zk434+3+bC76Z5QdvXmZfeE\n",
       "stmse0Hden3VPaHssB3vfN5sxzs3zm9ddE8oO+ke8A5O5+MdHDeH8X7HeL0b7x1pdhhv8zRgK5jm\n",
       "423evBnr2T3eiQEAAAAAwHtPfAYAAAAAIE58BgAAAAAgTnwGAAAAACBOfAYAAAAAIE58BgAAAAAg\n",
       "TnwGAAAAACBOfAYAAAAAIE58BgAAAAAgTnwGAAAAACBOfAYAAAAAIE58BgAAAAAgTnwGAAAAACBO\n",
       "fAYAAAAAIE58BgAAAAAgTnwGAAAAACBOfAYAAAAAIE58BgAAAAAgTnwGAAAAACBOfAYAAAAAIE58\n",
       "BgAAAAAgTnwGAAAAACBOfAYAAAAAIE58BgAAAAAgTnwGAAAAACBOfAYAAAAAIE58BgAAAAAgTnwG\n",
       "AAAAACBOfAYAAAAAIE58BgAAAAAgTnwGAAAAACBOfAYAAAAAIE58BgAAAAAgTnwGAAAAACBOfAYA\n",
       "AAAAIE58BgAAAAAgTnwGAAAAACBOfAYAAAAAIE58BgAAAAAgTnwGAAAAACBOfAYAAAAAIE58BgAA\n",
       "AAAgTnwGAAAAACBOfAYAAAAAIG765LPPujeUzZfL7gllu9lJ94Sy9W68zbvd2+4JZYfdrHtC2Wa7\n",
       "6Z5QNi0O3RPK5gOeG7PZ1D2hbLcd79zYbi67J9TdXHcvKLu+uuqeUHa1XndPKJvNxjufT4/Hexdd\n",
       "DfiTk/1mvHPjcNh3Tyjbb8Y7N24uxzufd5tt94Sy+WzRPaFstx3v22pxveueUHYyG+85uD8a737e\n",
       "DvhMGfB142g1rbonlM2Oxjo3RrwvAAAAAAB4z4nPAAAAAADEic8AAAAAAMSJzwAAAAAAxInPAAAA\n",
       "AADEic8AAAAAAMSJzwAAAAAAxInPAAAAAADEic8AAAAAAMSJzwAAAAAAxInPAAAAAADEic8AAAAA\n",
       "AMSJzwAAAAAAxInPAAAAAADEic8AAAAAAMSJzwAAAAAAxInPAAAAAADEic8AAAAAAMSJzwAAAAAA\n",
       "xInPAAAAAADEic8AAAAAAMSJzwAAAAAAxInPAAAAAADEic8AAAAAAMSJzwAAAAAAxInPAAAAAADE\n",
       "ic8AAAAAAMSJzwAAAAAAxInPAAAAAADEic8AAAAAAMSJzwAAAAAAxInPAAAAAADEic8AAAAAAMSJ\n",
       "zwAAAAAAxInPAAAAAADEic8AAAAAAMSJzwAAAAAAxInPAAAAAADEic8AAAAAAMSJzwAAAAAAxInP\n",
       "AAAAAADEic8AAAAAAMSJzwAAAAAAxInPAAAAAADETfcvLro3lM26B7yDzXbqnlC22iy7J5Rt9yfd\n",
       "E8p2u3X3hLLr9U33hLLN/Lp7Qtl8edo9oez2vcfdE+puXnYvKLu5ftU9oezqefeCus1mvPN5t9t0\n",
       "Tyg7Ph3vfWM+G2/zeG+iR0ezw6F7Qtl4b0hHRzc3u+4JZdfr8c66/Wa8u+PV0YvuCWWX2wHPjf2i\n",
       "e0LZ8vi8e0LZ2TReK9h2D3gHV90D3sFyGu+9bnE8Vhn1y2cAAAAAAOLEZwAAAAAA4sRnAAAAAADi\n",
       "xGcAAAAAAOLEZwAAAAAA4sRnAAAAAADixGcAAAAAAOLEZwAAAAAA4sRnAAAAAADixGcAAAAAAOLE\n",
       "ZwAAAAAA4sRnAAAAAADixGcAAAAAAOLEZwAAAAAA4sRnAAAAAADixGcAAAAAAOLEZwAAAAAA4sRn\n",
       "AAAAAADixGcAAAAAAOLEZwAAAAAA4sRnAAAAAADixGcAAAAAAOLEZwAAAAAA4sRnAAAAAADixGcA\n",
       "AAAAAOLEZwAAAAAA4sRnAAAAAADixGcAAAAAAOLEZwAAAAAA4sRnAAAAAADixGcAAAAAAOLEZwAA\n",
       "AAAA4sRnAAAAAADixGcAAAAAAOLEZwAAAAAA4sRnAAAAAADixGcAAAAAAOLEZwAAAAAA4sRnAAAA\n",
       "AADixGcAAAAAAOLEZwAAAAAA4sRnAAAAAADixGcAAAAAAOLEZwAAAAAA4qab3b57Q9lyMeueUDY7\n",
       "dC+om+/Gu87z7bJ7QtnhMN7NsTod7zqfX9zpnlA2W03dE8p2iwHvjZOH3RPK5gOeG5vL6+4JZcd3\n",
       "fuieUHby6mX3hLLlarxzY3W86p5QdnJ81j2hbHlyq3tC2fxkvOv8wzffdU8o++aP/909oexmd9k9\n",
       "oWxz+aZ7Qtmb9XjvSPv5eM/Bs9mie0LZdDRe31iMl+uODkfjjZ4G7Bsng/UNv3wGAAAAACBOfAYA\n",
       "AAAAIE58BgAAAAAgTnwGAAAAACBOfAYAAAAAIE58BgAAAAAgTnwGAAAAACBOfAYAAAAAIE58BgAA\n",
       "AAAgTnwGAAAAACBOfAYAAAAAIE58BgAAAAAgTnwGAAAAACBOfAYAAAAAIE58BgAAAAAgTnwGAAAA\n",
       "ACBOfAYAAAAAIE58BgAAAAAgTnwGAAAAACBOfAYAAAAAIE58BgAAAAAgTnwGAAAAACBOfAYAAAAA\n",
       "IE58BgAAAAAgTnwGAAAAACBOfAYAAAAAIE58BgAAAAAgTnwGAAAAACBOfAYAAAAAIE58BgAAAAAg\n",
       "TnwGAAAAACBOfAYAAAAAIE58BgAAAAAgTnwGAAAAACBOfAYAAAAAIE58BgAAAAAgTnwGAAAAACBO\n",
       "fAYAAAAAIE58BgAAAAAgTnwGAAAAACBOfAYAAAAAIE58BgAAAAAgTnwGAAAAACBOfAYAAAAAIG6a\n",
       "T8vuDXWHXfeCst1+vM3b3b57Qtl2d+ieULYf7zIfHU2L7gV181n3grKrt2+6J5S9fPWye0Ld+Xn3\n",
       "grLl8k73hLLZ+cPuCWXHH3zSPaHsYrbqnlA2DXg+n94e72/w5Pa97gll0+l413mzG++d/+nr33dP\n",
       "KFvf/Ff3hLL9bLzffe22431bjfg9uJgPuPlw3T2hbJqP9w27XRx3Tyi7Xp50TyjbnZ92Tyg7u3e3\n",
       "e0LJeE9AAAAAAADee+IzAAAAAABx4jMAAAAAAHHiMwAAAAAAceIzAAAAAABx4jMAAAAAAHHiMwAA\n",
       "AAAAceIzAAAAAABx4jMAAAAAAHHiMwAAAAAAceIzAAAAAABx4jMAAAAAAHHiMwAAAAAAceIzAAAA\n",
       "AABx4jMAAAAAAHHiMwAAAAAAceIzAAAAAABx4jMAAAAAAHHiMwAAAAAAceIzAAAAAABx4jMAAAAA\n",
       "AHHiMwAAAAAAceIzAAAAAABx4jMAAAAAAHHiMwAAAAAAceIzAAAAAABx4jMAAAAAAHHiMwAAAAAA\n",
       "ceIzAAAAAABx4jMAAAAAAHHiMwAAAAAAceIzAAAAAABx4jMAAAAAAHHiMwAAAAAAceIzAAAAAABx\n",
       "4jMAAAAAAHHiMwAAAAAAceIzAAAAAABx4jMAAAAAAHHiMwAAAAAAceIzAAAAAABx4jMAAAAAAHHi\n",
       "MwAAAAAAceIzAAAAAABx0+L4pHtD2WJ30z2hbNpvuyeULQ7dC+oO8/H+nzLfdC94B/td94Kym5eX\n",
       "3RPKnnz9bfeEste/edY9oWx7fdU9oWy1WHRPKLvcjHduTLcedE8ou7jzsHtC2bQa7130+PS8e0LZ\n",
       "8dmt7gllh9l473XrH8d7dj97+rR7QtnVerxn9/HxeOfGbD7eB+H9i9PuCWVnp6vuCWUni333hLL5\n",
       "NHVPKJv2490b19vxNm+W450b+/VY31bjvdEBAAAAAPDeE58BAAAAAIgTnwEAAAAAiBOfAQAAAACI\n",
       "E58BAAAAAIgTnwEAAAAAiBOfAQAAAACIE58BAAAAAIgTnwEAAAAAiBOfAQAAAACIE58BAAAAAIgT\n",
       "nwEAAAAAiBOfAQAAAACIE58BAAAAAIgTnwEAAAAAiBOfAQAAAACIE58BAAAAAIgTnwEAAAAAiBOf\n",
       "AQAAAACIE58BAAAAAIgTnwEAAAAAiBOfAQAAAACIE58BAAAAAIgTnwEAAAAAiBOfAQAAAACIE58B\n",
       "AAAAAIgTnwEAAAAAiBOfAQAAAACIE58BAAAAAIgTnwEAAAAAiBOfAQAAAACIE58BAAAAAIgTnwEA\n",
       "AAAAiBOfAQAAAACIE58BAAAAAIgTnwEAAAAAiBOfAQAAAACIE58BAAAAAIgTnwEAAAAAiBOfAQAA\n",
       "AACIE58BAAAAAIgTnwEAAAAAiBOfAQAAAACIE58BAAAAAIibjpbH3RvKdvPxmvlsNuueUHa8XHVP\n",
       "KDs+uemeULcZ8G/w+qp7QtnNZrx74+rteNd5MZ+6J5S9fvO6e0LZdn3ZPaHs+u2b7gl1Az67T05v\n",
       "dU8om1Zn3RPK5suT7glliwGv87Radk8ou33nontC2d37D7snlC3O73RPKNseDt0Tyi7u3++eUPbz\n",
       "X37ePaHs9u3z7gll++vx3kVfPH/ZPaHsxbPxrvN2M95Zt9t0L3gH+7G+U8aruAAAAAAAvPfEZwAA\n",
       "AAAA4sRnAAAAAADixGcAAAAAAOLEZwAAAAAA4sRnAAAAAADixGcAAAAAAOLEZwAAAAAA4sRnAAAA\n",
       "AADixGcAAAAAAOLEZwAAAAAA4sRnAAAAAADixGcAAAAAAOLEZwAAAAAA4sRnAAAAAADixGcAAAAA\n",
       "AOLEZwAAAAAA4sRnAAAAAADixGcAAAAAAOLEZwAAAAAA4sRnAAAAAADixGcAAAAAAOLEZwAAAAAA\n",
       "4sRnAAAAAADixGcAAAAAAOLEZwAAAAAA4sRnAAAAAADixGcAAAAAAOLEZwAAAAAA4sRnAAAAAADi\n",
       "xGcAAAAAAOLEZwAAAAAA4sRnAAAAAADixGcAAAAAAOLEZwAAAAAA4sRnAAAAAADixGcAAAAAAOLE\n",
       "ZwAAAAAA4sRnAAAAAADixGcAAAAAAOLEZwAAAAAA4sRnAAAAAADixGcAAAAAAOLEZwAAAAAA4qbV\n",
       "6rh7Q9luu+ieULYfsPOvplX3hLLFYdc9oWy2uumeUHY4PumeUDY7dC+o+/CjT7snlN2/uN89oezr\n",
       "b/7WPaHsz3/63+4JZfvdtntC2fmd290Tyu7u9t0Tys7Pxrs3FufdC+pm8/FGz1fjvYuubt3rnlD2\n",
       "6Fdfdk8oe/L0SfeEss3rn7onlH38i191Tyj77B//pXtC2aOPP+meUHa2mronlH391V+7J5Q9+8N/\n",
       "dk+o+/a77gVlJwN20dPzW90TSsYrogAAAAAAvPfEZwAAAAAA4sRnAAAAAADixGcAAAAAAOLEZwAA\n",
       "AAAA4sRnAAAAAADixGcAAAAAAOLEZwAAAAAA4sRnAAAAAADixGcAAAAAAOLEZwAAAAAA4sRnAAAA\n",
       "AADixGcAAAAAAOLEZwAAAAAA4sRnAAAAAADixGcAAAAAAOLEZwAAAAAA4sRnAAAAAADixGcAAAAA\n",
       "AOLEZwAAAAAA4sRnAAAAAADixGcAAAAAAOLEZwAAAAAA4sRnAAAAAADixGcAAAAAAOLEZwAAAAAA\n",
       "4sRnAAAAAADixGcAAAAAAOLEZwAAAAAA4sRnAAAAAADixGcAAAAAAOLEZwAAAAAA4sRnAAAAAADi\n",
       "xGcAAAAAAOLEZwAAAAAA4sRnAAAAAADixGcAAAAAAOLEZwAAAAAA4sRnAAAAAADixGcAAAAAAOLE\n",
       "ZwAAAAAA4sRnAAAAAADixGcAAAAAAOLEZwAAAAAA4qbl0b57Q9k023VPKFtMi+4JZYfZsntC2WE/\n",
       "3r0xm413b8znU/eEstVivOv8+MOPuieUnZ6ed08oe/PqTfeEsh+++6F7Qtlmc909oezW3dvdE8q2\n",
       "N5vuCWXXZ2fdE97BrHtA2e0PHnZPKDscuhfUrW/G+7baLU+6J5Tdfvxp94Syw8Xd7gllZ4/Gu87b\n",
       "swfdE8qW9z/unlB2cf9e94Sy9f64e0LZxV/+r3tC2fT0x+4JZfPjVfeEsuU0VpPxy2cAAAAAAOLE\n",
       "ZwAAAAAA4sRnAAAAAADixGcAAAAAAOLEZwAAAAAA4sRnAAAAAADixGcAAAAAAOLEZwAAAAAA4sRn\n",
       "AAAAAADixGcAAAAAAOLEZwAAAAAA4sRnAAAAAADixGcAAAAAAOLEZwAAAAAA4sRnAAAAAADixGcA\n",
       "AAAAAOLEZwAAAAAA4sRnAAAAAADixGcAAAAAAOLEZwAAAAAA4sRnAAAAAADixGcAAAAAAOLEZwAA\n",
       "AAAA4sRnAAAAAADixGcAAAAAAOLEZwAAAAAA4sRnAAAAAADixGcAAAAAAOLEZwAAAAAA4sRnAAAA\n",
       "AADixGcAAAAAAOLEZwAAAAAA4sRnAAAAAADixGcAAAAAAOLEZwAAAAAA4sRnAAAAAADixGcAAAAA\n",
       "AOLEZwAAAAAA4sRnAAAAAADixGcAAAAAAOLEZwAAAAAA4sRnAAAAAADixGcAAAAAAOLEZwAAAAAA\n",
       "4qbZ7qZ7Q9lu/bZ7Qtl+wM6/nU66J5QdZuNd59mQmxfdE8pOzm51Tyi7++BB94Sy6+22e0LZ199+\n",
       "1z2h7PnLV90Tyt6+fNE9oezZs5+6J5SNuPnTzz7rnlD24MNPuyeUTdNx94Sy9eW6e0LZ5avX3RPK\n",
       "9gM+u2/dud09oWy7He/banM03jv/q5fjPQd//P6se0LZbr/rnlC3WnUvKHv80UfdE8oe/fj37gll\n",
       "N0fL7gllo73XjVe9AAAAAAB474nPAAAAAADEic8AAAAAAMSJzwAAAAAAxInPAAAAAADEic8AAAAA\n",
       "AMSJzwAAAAAAxInPAAAAAADEic8AAAAAAMSJzwAAAAAAxInPAAAAAADEic8AAAAAAMSJzwAAAAAA\n",
       "xInPAAAAAADEic8AAAAAAMSJzwAAAAAAxInPAAAAAADEic8AAAAAAMSJzwAAAAAAxInPAAAAAADE\n",
       "ic8AAAAAAMSJzwAAAAAAxInPAAAAAADEic8AAAAAAMSJzwAAAAAAxInPAAAAAADEic8AAAAAAMSJ\n",
       "zwAAAAAAxInPAAAAAADEic8AAAAAAMSJzwAAAAAAxInPAAAAAADEic8AAAAAAMSJzwAAAAAAxInP\n",
       "AAAAAADEic8AAAAAAMSJzwAAAAAAxInPAAAAAADEic8AAAAAAMSJzwAAAAAAxInPAAAAAADEic8A\n",
       "AAAAAMSJzwAAAAAAxInPAAAAAADETfvF1L2hbH5+r3tC3W7fvaBsP+Dm3XbXPaHu0D2g7vjktHtC\n",
       "2cOPP+6eUPbRJ590Tyh7/ux594Sy73/4sXtC2avNtntC2dVuvMPu8Oaqe0LZ4uSse0LZo8fjnc8f\n",
       "fvyz7gll07TsnlB2uBzwb3A23ll36/at7gl1hwfdC8rW63X3hLL9eLfz0eWb190Tyr775m/dE8qe\n",
       "v3jWPaHs8YPxzo1Pfv5594Syt5fjnXXf/vCke0LZdjbWb4nHWgsAAAAAwBDEZwAAAAAA4sRnAAAA\n",
       "AADixGcAAAAAAOLEZwAAAAAA4sRnAAAAAADixGcAAAAAAOLEZwAAAAAA4sRnAAAAAADixGcAAAAA\n",
       "AOLEZwAAAAAA4sRnAAAAAADixGcAAAAAAOLEZwAAAAAA4sRnAAAAAADixGcAAAAAAOLEZwAAAAAA\n",
       "4sRnAAAAAADixGcAAAAAAOLEZwAAAAAA4sRnAAAAAADixGcAAAAAAOLEZwAAAAAA4sRnAAAAAADi\n",
       "xGcAAAAAAOLEZwAAAAAA4sRnAAAAAADixGcAAAAAAOLEZwAAAAAA4sRnAAAAAADixGcAAAAAAOLE\n",
       "ZwAAAAAA4sRnAAAAAADixGcAAAAAAOLEZwAAAAAA4sRnAAAAAADixGcAAAAAAOLEZwAAAAAA4sRn\n",
       "AAAAAADixGcAAAAAAOLEZwAAAAAA4sRnAAAAAADixGcAAAAAAOLEZwAAAAAA4qbFYtG9oewwm7on\n",
       "lC2Odt0TyqbdtntC2YC3xtHtO3e6J5T95pe/6J5Q9rsvvuieUHa6WnVPKPvDf/y+e0LZj8+ed08o\n",
       "OyyW3RPKVrfvdk8oW85m3RPKvvjyn7onlP3yN7/tnlC2WB13Tyh7+uxZ94SyZz/91D2hbHO97p5Q\n",
       "9vTZi+4JZT8N+OyeluN9qJyenHZPKNvvDt0Typ4/edo9oWz91V+6J5Q9vXeve0LZl19+2T2h7Ivf\n",
       "/XP3hLLXv/9D94Sy75+P9Rz0y2cAAAAAAOLEZwAAAAAA4sRnAAAAAADixGcAAAAAAOLEZwAAAAAA\n",
       "4sRnAAAAAADixGcAAAAAAOLEZwAAAAAA4sRnAAAAAADixGcAAAAAAOLEZwAAAAAA4sRnAAAAAADi\n",
       "xGcAAAAAAOLEZwAAAAAA4sRnAAAAAADixGcAAAAAAOLEZwAAAAAA4sRnAAAAAADixGcAAAAAAOLE\n",
       "ZwAAAAAA4sRnAAAAAADixGcAAAAAAOLEZwAAAAAA4sRnAAAAAADixGcAAAAAAOLEZwAAAAAA4sRn\n",
       "AAAAAADixGcAAAAAAOLEZwAAAAAA4sRnAAAAAADixGcAAAAAAOLEZwAAAAAA4sRnAAAAAADixGcA\n",
       "AAAAAOLEZwAAAAAA4sRnAAAAAADixGcAAAAAAOLEZwAAAAAA4sRnAAAAAADixGcAAAAAAOLEZwAA\n",
       "AAAA4sRnAAAAAADixGcAAAAAAOLEZwAAAAAA4qb9bOreULZYjLd5ORuv86+Wq+4JZY8ePeieUPbb\n",
       "f/hV94SyX//ss+4JZav5eH+Df/rzV90Tyv7nT3/snlB2WIx3b5ydnHdPKFutxnt2//rzn3dPKPv3\n",
       "f/vX7gllHzwc79n93d+/755Q9tVf/9I9oezJk6fdE8pevX7TPaHsxcuX3RPKtofuBXWr4/G+rVbL\n",
       "6+4JZbMB3/n325vuCWU3A55168u33RPKLj74oHtC2cc/+7x7Qtlhddo9oeywuuqeUDLeyQwAAAAA\n",
       "wHtPfAYAAAAAIE58BgAAAAAgTnwGAAAAACBOfAYAAAAAIE58BgAAAAAgTnwGAAAAACBOfAYAAAAA\n",
       "IE58BgAAAAAgTnwGAAAAACBOfAYAAAAAIE58BgAAAAAgTnwGAAAAACBOfAYAAAAAIE58BgAAAAAg\n",
       "TnwGAAAAACBOfAYAAAAAIE58BgAAAAAgTnwGAAAAACBOfAYAAAAAIE58BgAAAAAgTnwGAAAAACBO\n",
       "fAYAAAD+v117222jDMMwGtvjOKUb2kYEEGdIiLZSxRH3fx3Q0hNASQktpFGJs7GHa/iqV/r6S2td\n",
       "wStr/M/MowGAOPEZAAAAAIA48RkAAAAAgDjxGQAAAACAOPEZAAAAAIA48RkAAAAAgDjxGQAAAACA\n",
       "OPEZAAAAAIA48RkAAAAAgDjxGQAAAACAOPEZAAAAAIA48RkAAAAAgDjxGQAAAACAOPEZAAAAAIA4\n",
       "8RkAAAAAgDjxGQAAAACAOPEZAAAAAIA48RkAAAAAgDjxGQAAAACAOPEZAAAAAIA48RkAAAAAgDjx\n",
       "GQAAAACAuGkxbbo3lC3W6+4JZavuAZ/gcD3e6m+/+bp7Qtl3x191Tyhb3N12Tyg7e/+ue0LZb29e\n",
       "d08om1fjnRvHJyfdE8q+fPCwe0LZTy+fd08oe/n8WfeEsuOnT7onlP15eto9oezVq1+7J5T98vpN\n",
       "94Sy3b57wSdYjncf3Nx/0D2hbLMc8BuqxXibd/PcPaFsvx/v4NjN450b8+aoe0LZgyf3uyeUffHw\n",
       "XveEspvb6+4JdQNez9t56p5QMt4dEAAAAACAz574DAAAAABAnPgMAAAAAECc+AwAAAAAQJz4DAAA\n",
       "AABAnPgMAAAAAECc+AwAAAAAQJz4DAAAAABAnPgMAAAAAECc+AwAAAAAQJz4DAAAAABAnPgMAAAA\n",
       "AECc+AwAAAAAQJz4DAAAAABAnPgMAAAAAECc+AwAAAAAQJz4DAAAAABAnPgMAAAAAECc+AwAAAAA\n",
       "QJz4DAAAAABAnPgMAAAAAECc+AwAAAAAQJz4DAAAAABAnPgMAAAAAECc+AwAAAAAQJz4DAAAAABA\n",
       "nPgMAAAAAECc+AwAAAAAQJz4DAAAAABAnPgMAAAAAECc+AwAAAAAQJz4DAAAAABAnPgMAAAAAECc\n",
       "+AwAAAAAQJz4DAAAAABAnPgMAAAAAECc+AwAAAAAQJz4DAAAAABAnPgMAAAAAECc+AwAAAAAQJz4\n",
       "DAAAAABAnPgMAAAAAECc+AwAAAAAQJz4DAAAAABA3LSZ1t0byhZHR90TytarqXtC2fJg7p5Qdvb2\n",
       "vHtC2dXFRfeEsmk53rXx8epj94Sy84vL7gllj56edE8oW83jXc8/v/ixe0LZsx++755Qdvz4cfeE\n",
       "spvbffeEsvO//umeUPbh8qp7Qtnm6H73hLrlontB3WK8b3t283jnxrQe7x12u+teUHd9e9c9oWze\n",
       "jbd5P4+3eV6O9x+cl4fdE8quttvulrgXIwAAA31JREFUCWU327PuCWU3/33onlA22hvseE9HAAAA\n",
       "AAB89sRnAAAAAADixGcAAAAAAOLEZwAAAAAA4sRnAAAAAADixGcAAAAAAOLEZwAAAAAA4sRnAAAA\n",
       "AADixGcAAAAAAOLEZwAAAAAA4sRnAAAAAADixGcAAAAAAOLEZwAAAAAA4sRnAAAAAADixGcAAAAA\n",
       "AOLEZwAAAAAA4sRnAAAAAADixGcAAAAAAOLEZwAAAAAA4sRnAAAAAADixGcAAAAAAOLEZwAAAAAA\n",
       "4sRnAAAAAADixGcAAAAAAOLEZwAAAAAA4sRnAAAAAADixGcAAAAAAOLEZwAAAAAA4sRnAAAAAADi\n",
       "xGcAAAAAAOLEZwAAAAAA4sRnAAAAAADixGcAAAAAAOLEZwAAAAAA4sRnAAAAAADixGcAAAAAAOLE\n",
       "ZwAAAAAA4sRnAAAAAADixGcAAAAAAOLEZwAAAAAA4sRnAAAAAADixGcAAAAAAOLEZwAAAAAA4sRn\n",
       "AAAAAADipunwsHtD2XrAzdPB3D2hbJrH27zY3XVPKPv38rp7Qtndftc9oWx7N+Dmg3X3hLLF4dQ9\n",
       "oWx9sO+eUHa1He/cOD07755Q9u7iY/eEsg9X2+4JZb+/He/amFeb7gllj54cd08o28/jnc/b6/HO\n",
       "57sBN9/uxntP2c3jffc1LxbdE8qWq/F+52m/6p5QdrMY75n/j78vuyeUvX0/3uaDAd+t9gOedbv1\n",
       "ve4JJeOdzAAAAAAAfPbEZwAAAAAA4sRnAAAAAADixGcAAAAAAOLEZwAAAAAA4sRnAAAAAADixGcA\n",
       "AAAAAOLEZwAAAAAA4sRnAAAAAADixGcAAAAAAOLEZwAAAAAA4sRnAAAAAADixGcAAAAAAOLEZwAA\n",
       "AAAA4sRnAAAAAADixGcAAAAAAOLEZwAAAAAA4sRnAAAAAADixGcAAAAAAOLEZwAAAAAA4sRnAAAA\n",
       "AADixGcAAAAAAOLEZwAAAAAA4sRnAAAAAADixGcAAAAAAOLEZwAAAAAA4sRnAAAAAADixGcAAAAA\n",
       "AOLEZwAAAAAA4sRnAAAAAADixGcAAAAAAOLEZwAAAAAA4sRnAAAAAADixGcAAAAAAOLEZwAAAAAA\n",
       "4sRnAAAAAADixGcAAAAAAOLEZwAAAAAA4sRnAAAAAADixGcAAAAAAOLEZwAAAAAA4sRnAAAAAADi\n",
       "xGcAAAAAAOL+B5q/h6NSBobwAAAAAElFTkSuQmCC\n",
       "\" transform=\"translate(527, 47)\"/>\n",
       "</g>\n",
       "</svg>\n"
      ],
      "text/html": [
       "<?xml version=\"1.0\" encoding=\"utf-8\"?>\n",
       "<svg xmlns=\"http://www.w3.org/2000/svg\" xmlns:xlink=\"http://www.w3.org/1999/xlink\" width=\"600\" height=\"400\" viewBox=\"0 0 2400 1600\">\n",
       "<defs>\n",
       "  <clipPath id=\"clip510\">\n",
       "    <rect x=\"0\" y=\"0\" width=\"2400\" height=\"1600\"/>\n",
       "  </clipPath>\n",
       "</defs>\n",
       "<path clip-path=\"url(#clip510)\" d=\"M0 1600 L2400 1600 L2400 0 L0 0  Z\" fill=\"#ffffff\" fill-rule=\"evenodd\" fill-opacity=\"1\"/>\n",
       "<defs>\n",
       "  <clipPath id=\"clip511\">\n",
       "    <rect x=\"480\" y=\"0\" width=\"1681\" height=\"1600\"/>\n",
       "  </clipPath>\n",
       "</defs>\n",
       "<path clip-path=\"url(#clip510)\" d=\"M140.696 1486.45 L2352.76 1486.45 L2352.76 47.2441 L140.696 47.2441  Z\" fill=\"#ffffff\" fill-rule=\"evenodd\" fill-opacity=\"1\"/>\n",
       "<defs>\n",
       "  <clipPath id=\"clip512\">\n",
       "    <rect x=\"140\" y=\"47\" width=\"2213\" height=\"1440\"/>\n",
       "  </clipPath>\n",
       "</defs>\n",
       "<polyline clip-path=\"url(#clip512)\" style=\"stroke:#000000; stroke-linecap:round; stroke-linejoin:round; stroke-width:2; stroke-opacity:0.1; fill:none\" points=\"504.636,47.2441 504.636,1486.45 \"/>\n",
       "<polyline clip-path=\"url(#clip512)\" style=\"stroke:#000000; stroke-linecap:round; stroke-linejoin:round; stroke-width:2; stroke-opacity:0.1; fill:none\" points=\"954.387,47.2441 954.387,1486.45 \"/>\n",
       "<polyline clip-path=\"url(#clip512)\" style=\"stroke:#000000; stroke-linecap:round; stroke-linejoin:round; stroke-width:2; stroke-opacity:0.1; fill:none\" points=\"1404.14,47.2441 1404.14,1486.45 \"/>\n",
       "<polyline clip-path=\"url(#clip512)\" style=\"stroke:#000000; stroke-linecap:round; stroke-linejoin:round; stroke-width:2; stroke-opacity:0.1; fill:none\" points=\"1853.89,47.2441 1853.89,1486.45 \"/>\n",
       "<polyline clip-path=\"url(#clip512)\" style=\"stroke:#000000; stroke-linecap:round; stroke-linejoin:round; stroke-width:2; stroke-opacity:0.1; fill:none\" points=\"2303.64,47.2441 2303.64,1486.45 \"/>\n",
       "<polyline clip-path=\"url(#clip510)\" style=\"stroke:#000000; stroke-linecap:round; stroke-linejoin:round; stroke-width:4; stroke-opacity:1; fill:none\" points=\"140.696,1486.45 2352.76,1486.45 \"/>\n",
       "<polyline clip-path=\"url(#clip510)\" style=\"stroke:#000000; stroke-linecap:round; stroke-linejoin:round; stroke-width:4; stroke-opacity:1; fill:none\" points=\"504.636,1486.45 504.636,1467.55 \"/>\n",
       "<polyline clip-path=\"url(#clip510)\" style=\"stroke:#000000; stroke-linecap:round; stroke-linejoin:round; stroke-width:4; stroke-opacity:1; fill:none\" points=\"954.387,1486.45 954.387,1467.55 \"/>\n",
       "<polyline clip-path=\"url(#clip510)\" style=\"stroke:#000000; stroke-linecap:round; stroke-linejoin:round; stroke-width:4; stroke-opacity:1; fill:none\" points=\"1404.14,1486.45 1404.14,1467.55 \"/>\n",
       "<polyline clip-path=\"url(#clip510)\" style=\"stroke:#000000; stroke-linecap:round; stroke-linejoin:round; stroke-width:4; stroke-opacity:1; fill:none\" points=\"1853.89,1486.45 1853.89,1467.55 \"/>\n",
       "<polyline clip-path=\"url(#clip510)\" style=\"stroke:#000000; stroke-linecap:round; stroke-linejoin:round; stroke-width:4; stroke-opacity:1; fill:none\" points=\"2303.64,1486.45 2303.64,1467.55 \"/>\n",
       "<path clip-path=\"url(#clip510)\" d=\"M504.636 1517.37 Q501.025 1517.37 499.196 1520.93 Q497.391 1524.47 497.391 1531.6 Q497.391 1538.71 499.196 1542.27 Q501.025 1545.82 504.636 1545.82 Q508.271 1545.82 510.076 1542.27 Q511.905 1538.71 511.905 1531.6 Q511.905 1524.47 510.076 1520.93 Q508.271 1517.37 504.636 1517.37 M504.636 1513.66 Q510.446 1513.66 513.502 1518.27 Q516.581 1522.85 516.581 1531.6 Q516.581 1540.33 513.502 1544.94 Q510.446 1549.52 504.636 1549.52 Q498.826 1549.52 495.747 1544.94 Q492.692 1540.33 492.692 1531.6 Q492.692 1522.85 495.747 1518.27 Q498.826 1513.66 504.636 1513.66 Z\" fill=\"#000000\" fill-rule=\"nonzero\" fill-opacity=\"1\" /><path clip-path=\"url(#clip510)\" d=\"M929.075 1544.91 L936.714 1544.91 L936.714 1518.55 L928.404 1520.21 L928.404 1515.95 L936.668 1514.29 L941.344 1514.29 L941.344 1544.91 L948.982 1544.91 L948.982 1548.85 L929.075 1548.85 L929.075 1544.91 Z\" fill=\"#000000\" fill-rule=\"nonzero\" fill-opacity=\"1\" /><path clip-path=\"url(#clip510)\" d=\"M968.427 1517.37 Q964.816 1517.37 962.987 1520.93 Q961.181 1524.47 961.181 1531.6 Q961.181 1538.71 962.987 1542.27 Q964.816 1545.82 968.427 1545.82 Q972.061 1545.82 973.867 1542.27 Q975.695 1538.71 975.695 1531.6 Q975.695 1524.47 973.867 1520.93 Q972.061 1517.37 968.427 1517.37 M968.427 1513.66 Q974.237 1513.66 977.292 1518.27 Q980.371 1522.85 980.371 1531.6 Q980.371 1540.33 977.292 1544.94 Q974.237 1549.52 968.427 1549.52 Q962.617 1549.52 959.538 1544.94 Q956.482 1540.33 956.482 1531.6 Q956.482 1522.85 959.538 1518.27 Q962.617 1513.66 968.427 1513.66 Z\" fill=\"#000000\" fill-rule=\"nonzero\" fill-opacity=\"1\" /><path clip-path=\"url(#clip510)\" d=\"M1382.91 1544.91 L1399.23 1544.91 L1399.23 1548.85 L1377.29 1548.85 L1377.29 1544.91 Q1379.95 1542.16 1384.53 1537.53 Q1389.14 1532.88 1390.32 1531.53 Q1392.56 1529.01 1393.44 1527.27 Q1394.35 1525.51 1394.35 1523.82 Q1394.35 1521.07 1392.4 1519.33 Q1390.48 1517.6 1387.38 1517.6 Q1385.18 1517.6 1382.73 1518.36 Q1380.3 1519.13 1377.52 1520.68 L1377.52 1515.95 Q1380.34 1514.82 1382.8 1514.24 Q1385.25 1513.66 1387.29 1513.66 Q1392.66 1513.66 1395.85 1516.35 Q1399.05 1519.03 1399.05 1523.52 Q1399.05 1525.65 1398.24 1527.57 Q1397.45 1529.47 1395.34 1532.07 Q1394.76 1532.74 1391.66 1535.95 Q1388.56 1539.15 1382.91 1544.91 Z\" fill=\"#000000\" fill-rule=\"nonzero\" fill-opacity=\"1\" /><path clip-path=\"url(#clip510)\" d=\"M1419.05 1517.37 Q1415.43 1517.37 1413.61 1520.93 Q1411.8 1524.47 1411.8 1531.6 Q1411.8 1538.71 1413.61 1542.27 Q1415.43 1545.82 1419.05 1545.82 Q1422.68 1545.82 1424.49 1542.27 Q1426.31 1538.71 1426.31 1531.6 Q1426.31 1524.47 1424.49 1520.93 Q1422.68 1517.37 1419.05 1517.37 M1419.05 1513.66 Q1424.86 1513.66 1427.91 1518.27 Q1430.99 1522.85 1430.99 1531.6 Q1430.99 1540.33 1427.91 1544.94 Q1424.86 1549.52 1419.05 1549.52 Q1413.24 1549.52 1410.16 1544.94 Q1407.1 1540.33 1407.1 1531.6 Q1407.1 1522.85 1410.16 1518.27 Q1413.24 1513.66 1419.05 1513.66 Z\" fill=\"#000000\" fill-rule=\"nonzero\" fill-opacity=\"1\" /><path clip-path=\"url(#clip510)\" d=\"M1842.73 1530.21 Q1846.09 1530.93 1847.96 1533.2 Q1849.86 1535.47 1849.86 1538.8 Q1849.86 1543.92 1846.34 1546.72 Q1842.83 1549.52 1836.34 1549.52 Q1834.17 1549.52 1831.85 1549.08 Q1829.56 1548.66 1827.11 1547.81 L1827.11 1543.29 Q1829.05 1544.43 1831.37 1545.01 Q1833.68 1545.58 1836.2 1545.58 Q1840.6 1545.58 1842.89 1543.85 Q1845.21 1542.11 1845.21 1538.8 Q1845.21 1535.75 1843.06 1534.03 Q1840.93 1532.3 1837.11 1532.3 L1833.08 1532.3 L1833.08 1528.45 L1837.29 1528.45 Q1840.74 1528.45 1842.57 1527.09 Q1844.4 1525.7 1844.4 1523.11 Q1844.4 1520.45 1842.5 1519.03 Q1840.63 1517.6 1837.11 1517.6 Q1835.19 1517.6 1832.99 1518.01 Q1830.79 1518.43 1828.15 1519.31 L1828.15 1515.14 Q1830.81 1514.4 1833.13 1514.03 Q1835.46 1513.66 1837.52 1513.66 Q1842.85 1513.66 1845.95 1516.09 Q1849.05 1518.5 1849.05 1522.62 Q1849.05 1525.49 1847.41 1527.48 Q1845.76 1529.45 1842.73 1530.21 Z\" fill=\"#000000\" fill-rule=\"nonzero\" fill-opacity=\"1\" /><path clip-path=\"url(#clip510)\" d=\"M1868.73 1517.37 Q1865.12 1517.37 1863.29 1520.93 Q1861.48 1524.47 1861.48 1531.6 Q1861.48 1538.71 1863.29 1542.27 Q1865.12 1545.82 1868.73 1545.82 Q1872.36 1545.82 1874.17 1542.27 Q1876 1538.71 1876 1531.6 Q1876 1524.47 1874.17 1520.93 Q1872.36 1517.37 1868.73 1517.37 M1868.73 1513.66 Q1874.54 1513.66 1877.59 1518.27 Q1880.67 1522.85 1880.67 1531.6 Q1880.67 1540.33 1877.59 1544.94 Q1874.54 1549.52 1868.73 1549.52 Q1862.92 1549.52 1859.84 1544.94 Q1856.78 1540.33 1856.78 1531.6 Q1856.78 1522.85 1859.84 1518.27 Q1862.92 1513.66 1868.73 1513.66 Z\" fill=\"#000000\" fill-rule=\"nonzero\" fill-opacity=\"1\" /><path clip-path=\"url(#clip510)\" d=\"M2291.81 1518.36 L2280.01 1536.81 L2291.81 1536.81 L2291.81 1518.36 M2290.59 1514.29 L2296.47 1514.29 L2296.47 1536.81 L2301.4 1536.81 L2301.4 1540.7 L2296.47 1540.7 L2296.47 1548.85 L2291.81 1548.85 L2291.81 1540.7 L2276.21 1540.7 L2276.21 1536.19 L2290.59 1514.29 Z\" fill=\"#000000\" fill-rule=\"nonzero\" fill-opacity=\"1\" /><path clip-path=\"url(#clip510)\" d=\"M2319.13 1517.37 Q2315.52 1517.37 2313.69 1520.93 Q2311.88 1524.47 2311.88 1531.6 Q2311.88 1538.71 2313.69 1542.27 Q2315.52 1545.82 2319.13 1545.82 Q2322.76 1545.82 2324.57 1542.27 Q2326.4 1538.71 2326.4 1531.6 Q2326.4 1524.47 2324.57 1520.93 Q2322.76 1517.37 2319.13 1517.37 M2319.13 1513.66 Q2324.94 1513.66 2327.99 1518.27 Q2331.07 1522.85 2331.07 1531.6 Q2331.07 1540.33 2327.99 1544.94 Q2324.94 1549.52 2319.13 1549.52 Q2313.32 1549.52 2310.24 1544.94 Q2307.18 1540.33 2307.18 1531.6 Q2307.18 1522.85 2310.24 1518.27 Q2313.32 1513.66 2319.13 1513.66 Z\" fill=\"#000000\" fill-rule=\"nonzero\" fill-opacity=\"1\" /><polyline clip-path=\"url(#clip512)\" style=\"stroke:#000000; stroke-linecap:round; stroke-linejoin:round; stroke-width:2; stroke-opacity:0.1; fill:none\" points=\"140.696,249.632 2352.76,249.632 \"/>\n",
       "<polyline clip-path=\"url(#clip512)\" style=\"stroke:#000000; stroke-linecap:round; stroke-linejoin:round; stroke-width:2; stroke-opacity:0.1; fill:none\" points=\"140.696,474.508 2352.76,474.508 \"/>\n",
       "<polyline clip-path=\"url(#clip512)\" style=\"stroke:#000000; stroke-linecap:round; stroke-linejoin:round; stroke-width:2; stroke-opacity:0.1; fill:none\" points=\"140.696,699.383 2352.76,699.383 \"/>\n",
       "<polyline clip-path=\"url(#clip512)\" style=\"stroke:#000000; stroke-linecap:round; stroke-linejoin:round; stroke-width:2; stroke-opacity:0.1; fill:none\" points=\"140.696,924.259 2352.76,924.259 \"/>\n",
       "<polyline clip-path=\"url(#clip512)\" style=\"stroke:#000000; stroke-linecap:round; stroke-linejoin:round; stroke-width:2; stroke-opacity:0.1; fill:none\" points=\"140.696,1149.13 2352.76,1149.13 \"/>\n",
       "<polyline clip-path=\"url(#clip512)\" style=\"stroke:#000000; stroke-linecap:round; stroke-linejoin:round; stroke-width:2; stroke-opacity:0.1; fill:none\" points=\"140.696,1374.01 2352.76,1374.01 \"/>\n",
       "<polyline clip-path=\"url(#clip510)\" style=\"stroke:#000000; stroke-linecap:round; stroke-linejoin:round; stroke-width:4; stroke-opacity:1; fill:none\" points=\"140.696,47.2441 140.696,1486.45 \"/>\n",
       "<polyline clip-path=\"url(#clip510)\" style=\"stroke:#000000; stroke-linecap:round; stroke-linejoin:round; stroke-width:4; stroke-opacity:1; fill:none\" points=\"140.696,249.632 159.593,249.632 \"/>\n",
       "<polyline clip-path=\"url(#clip510)\" style=\"stroke:#000000; stroke-linecap:round; stroke-linejoin:round; stroke-width:4; stroke-opacity:1; fill:none\" points=\"140.696,474.508 159.593,474.508 \"/>\n",
       "<polyline clip-path=\"url(#clip510)\" style=\"stroke:#000000; stroke-linecap:round; stroke-linejoin:round; stroke-width:4; stroke-opacity:1; fill:none\" points=\"140.696,699.383 159.593,699.383 \"/>\n",
       "<polyline clip-path=\"url(#clip510)\" style=\"stroke:#000000; stroke-linecap:round; stroke-linejoin:round; stroke-width:4; stroke-opacity:1; fill:none\" points=\"140.696,924.259 159.593,924.259 \"/>\n",
       "<polyline clip-path=\"url(#clip510)\" style=\"stroke:#000000; stroke-linecap:round; stroke-linejoin:round; stroke-width:4; stroke-opacity:1; fill:none\" points=\"140.696,1149.13 159.593,1149.13 \"/>\n",
       "<polyline clip-path=\"url(#clip510)\" style=\"stroke:#000000; stroke-linecap:round; stroke-linejoin:round; stroke-width:4; stroke-opacity:1; fill:none\" points=\"140.696,1374.01 159.593,1374.01 \"/>\n",
       "<path clip-path=\"url(#clip510)\" d=\"M83.7929 232.352 L102.149 232.352 L102.149 236.287 L88.0753 236.287 L88.0753 244.759 Q89.0938 244.412 90.1123 244.25 Q91.1308 244.065 92.1493 244.065 Q97.9363 244.065 101.316 247.236 Q104.696 250.408 104.696 255.824 Q104.696 261.403 101.223 264.505 Q97.7511 267.583 91.4317 267.583 Q89.2558 267.583 86.9873 267.213 Q84.7419 266.843 82.3346 266.102 L82.3346 261.403 Q84.4179 262.537 86.6401 263.093 Q88.8623 263.648 91.3391 263.648 Q95.3437 263.648 97.6817 261.542 Q100.02 259.435 100.02 255.824 Q100.02 252.213 97.6817 250.107 Q95.3437 248 91.3391 248 Q89.4641 248 87.5892 248.417 Q85.7373 248.834 83.7929 249.713 L83.7929 232.352 Z\" fill=\"#000000\" fill-rule=\"nonzero\" fill-opacity=\"1\" /><path clip-path=\"url(#clip510)\" d=\"M53.3995 487.853 L61.0384 487.853 L61.0384 461.487 L52.7282 463.154 L52.7282 458.894 L60.9921 457.228 L65.668 457.228 L65.668 487.853 L73.3068 487.853 L73.3068 491.788 L53.3995 491.788 L53.3995 487.853 Z\" fill=\"#000000\" fill-rule=\"nonzero\" fill-opacity=\"1\" /><path clip-path=\"url(#clip510)\" d=\"M92.7512 460.306 Q89.1401 460.306 87.3114 463.871 Q85.5058 467.413 85.5058 474.542 Q85.5058 481.649 87.3114 485.214 Q89.1401 488.755 92.7512 488.755 Q96.3854 488.755 98.1909 485.214 Q100.02 481.649 100.02 474.542 Q100.02 467.413 98.1909 463.871 Q96.3854 460.306 92.7512 460.306 M92.7512 456.603 Q98.5613 456.603 101.617 461.209 Q104.696 465.792 104.696 474.542 Q104.696 483.269 101.617 487.876 Q98.5613 492.459 92.7512 492.459 Q86.941 492.459 83.8623 487.876 Q80.8068 483.269 80.8068 474.542 Q80.8068 465.792 83.8623 461.209 Q86.941 456.603 92.7512 456.603 Z\" fill=\"#000000\" fill-rule=\"nonzero\" fill-opacity=\"1\" /><path clip-path=\"url(#clip510)\" d=\"M54.3949 712.728 L62.0337 712.728 L62.0337 686.363 L53.7236 688.029 L53.7236 683.77 L61.9874 682.103 L66.6633 682.103 L66.6633 712.728 L74.3022 712.728 L74.3022 716.663 L54.3949 716.663 L54.3949 712.728 Z\" fill=\"#000000\" fill-rule=\"nonzero\" fill-opacity=\"1\" /><path clip-path=\"url(#clip510)\" d=\"M83.7929 682.103 L102.149 682.103 L102.149 686.038 L88.0753 686.038 L88.0753 694.511 Q89.0938 694.163 90.1123 694.001 Q91.1308 693.816 92.1493 693.816 Q97.9363 693.816 101.316 696.987 Q104.696 700.159 104.696 705.575 Q104.696 711.154 101.223 714.256 Q97.7511 717.335 91.4317 717.335 Q89.2558 717.335 86.9873 716.964 Q84.7419 716.594 82.3346 715.853 L82.3346 711.154 Q84.4179 712.288 86.6401 712.844 Q88.8623 713.399 91.3391 713.399 Q95.3437 713.399 97.6817 711.293 Q100.02 709.186 100.02 705.575 Q100.02 701.964 97.6817 699.858 Q95.3437 697.751 91.3391 697.751 Q89.4641 697.751 87.5892 698.168 Q85.7373 698.585 83.7929 699.464 L83.7929 682.103 Z\" fill=\"#000000\" fill-rule=\"nonzero\" fill-opacity=\"1\" /><path clip-path=\"url(#clip510)\" d=\"M56.6171 937.604 L72.9365 937.604 L72.9365 941.539 L50.9921 941.539 L50.9921 937.604 Q53.6541 934.849 58.2375 930.22 Q62.8439 925.567 64.0245 924.224 Q66.2698 921.701 67.1494 919.965 Q68.0522 918.206 68.0522 916.516 Q68.0522 913.761 66.1078 912.025 Q64.1865 910.289 61.0847 910.289 Q58.8856 910.289 56.4319 911.053 Q54.0014 911.817 51.2236 913.368 L51.2236 908.646 Q54.0477 907.511 56.5014 906.933 Q58.955 906.354 60.9921 906.354 Q66.3624 906.354 69.5568 909.039 Q72.7513 911.724 72.7513 916.215 Q72.7513 918.345 71.9411 920.266 Q71.1541 922.164 69.0476 924.757 Q68.4689 925.428 65.367 928.645 Q62.2652 931.84 56.6171 937.604 Z\" fill=\"#000000\" fill-rule=\"nonzero\" fill-opacity=\"1\" /><path clip-path=\"url(#clip510)\" d=\"M92.7512 910.058 Q89.1401 910.058 87.3114 913.622 Q85.5058 917.164 85.5058 924.294 Q85.5058 931.4 87.3114 934.965 Q89.1401 938.507 92.7512 938.507 Q96.3854 938.507 98.1909 934.965 Q100.02 931.4 100.02 924.294 Q100.02 917.164 98.1909 913.622 Q96.3854 910.058 92.7512 910.058 M92.7512 906.354 Q98.5613 906.354 101.617 910.96 Q104.696 915.544 104.696 924.294 Q104.696 933.02 101.617 937.627 Q98.5613 942.21 92.7512 942.21 Q86.941 942.21 83.8623 937.627 Q80.8068 933.02 80.8068 924.294 Q80.8068 915.544 83.8623 910.96 Q86.941 906.354 92.7512 906.354 Z\" fill=\"#000000\" fill-rule=\"nonzero\" fill-opacity=\"1\" /><path clip-path=\"url(#clip510)\" d=\"M57.6125 1162.48 L73.9318 1162.48 L73.9318 1166.41 L51.9875 1166.41 L51.9875 1162.48 Q54.6495 1159.72 59.2328 1155.1 Q63.8393 1150.44 65.0198 1149.1 Q67.2652 1146.58 68.1448 1144.84 Q69.0476 1143.08 69.0476 1141.39 Q69.0476 1138.64 67.1032 1136.9 Q65.1819 1135.16 62.08 1135.16 Q59.881 1135.16 57.4273 1135.93 Q54.9967 1136.69 52.219 1138.24 L52.219 1133.52 Q55.043 1132.39 57.4967 1131.81 Q59.9504 1131.23 61.9874 1131.23 Q67.3578 1131.23 70.5522 1133.91 Q73.7466 1136.6 73.7466 1141.09 Q73.7466 1143.22 72.9365 1145.14 Q72.1494 1147.04 70.0429 1149.63 Q69.4642 1150.3 66.3624 1153.52 Q63.2606 1156.72 57.6125 1162.48 Z\" fill=\"#000000\" fill-rule=\"nonzero\" fill-opacity=\"1\" /><path clip-path=\"url(#clip510)\" d=\"M83.7929 1131.85 L102.149 1131.85 L102.149 1135.79 L88.0753 1135.79 L88.0753 1144.26 Q89.0938 1143.91 90.1123 1143.75 Q91.1308 1143.57 92.1493 1143.57 Q97.9363 1143.57 101.316 1146.74 Q104.696 1149.91 104.696 1155.33 Q104.696 1160.91 101.223 1164.01 Q97.7511 1167.09 91.4317 1167.09 Q89.2558 1167.09 86.9873 1166.72 Q84.7419 1166.35 82.3346 1165.6 L82.3346 1160.91 Q84.4179 1162.04 86.6401 1162.6 Q88.8623 1163.15 91.3391 1163.15 Q95.3437 1163.15 97.6817 1161.04 Q100.02 1158.94 100.02 1155.33 Q100.02 1151.72 97.6817 1149.61 Q95.3437 1147.5 91.3391 1147.5 Q89.4641 1147.5 87.5892 1147.92 Q85.7373 1148.34 83.7929 1149.22 L83.7929 1131.85 Z\" fill=\"#000000\" fill-rule=\"nonzero\" fill-opacity=\"1\" /><path clip-path=\"url(#clip510)\" d=\"M66.7559 1372.66 Q70.1124 1373.37 71.9874 1375.64 Q73.8855 1377.91 73.8855 1381.24 Q73.8855 1386.36 70.367 1389.16 Q66.8485 1391.96 60.3671 1391.96 Q58.1912 1391.96 55.8764 1391.52 Q53.5847 1391.1 51.131 1390.25 L51.131 1385.73 Q53.0754 1386.87 55.3903 1387.45 Q57.7051 1388.03 60.2282 1388.03 Q64.6263 1388.03 66.918 1386.29 Q69.2328 1384.55 69.2328 1381.24 Q69.2328 1378.19 67.08 1376.48 Q64.9504 1374.74 61.131 1374.74 L57.1032 1374.74 L57.1032 1370.9 L61.3161 1370.9 Q64.7652 1370.9 66.5939 1369.53 Q68.4226 1368.14 68.4226 1365.55 Q68.4226 1362.89 66.5245 1361.48 Q64.6495 1360.04 61.131 1360.04 Q59.2097 1360.04 57.0106 1360.46 Q54.8115 1360.87 52.1727 1361.75 L52.1727 1357.59 Q54.8347 1356.85 57.1495 1356.48 Q59.4875 1356.11 61.5476 1356.11 Q66.8717 1356.11 69.9735 1358.54 Q73.0753 1360.94 73.0753 1365.06 Q73.0753 1367.93 71.4318 1369.92 Q69.7883 1371.89 66.7559 1372.66 Z\" fill=\"#000000\" fill-rule=\"nonzero\" fill-opacity=\"1\" /><path clip-path=\"url(#clip510)\" d=\"M92.7512 1359.81 Q89.1401 1359.81 87.3114 1363.37 Q85.5058 1366.92 85.5058 1374.04 Q85.5058 1381.15 87.3114 1384.72 Q89.1401 1388.26 92.7512 1388.26 Q96.3854 1388.26 98.1909 1384.72 Q100.02 1381.15 100.02 1374.04 Q100.02 1366.92 98.1909 1363.37 Q96.3854 1359.81 92.7512 1359.81 M92.7512 1356.11 Q98.5613 1356.11 101.617 1360.71 Q104.696 1365.29 104.696 1374.04 Q104.696 1382.77 101.617 1387.38 Q98.5613 1391.96 92.7512 1391.96 Q86.941 1391.96 83.8623 1387.38 Q80.8068 1382.77 80.8068 1374.04 Q80.8068 1365.29 83.8623 1360.71 Q86.941 1356.11 92.7512 1356.11 Z\" fill=\"#000000\" fill-rule=\"nonzero\" fill-opacity=\"1\" /><g clip-path=\"url(#clip512)\">\n",
       "<image width=\"1439\" height=\"1439\" xlink:href=\"data:image/png;base64,\n",
       "iVBORw0KGgoAAAANSUhEUgAABZ8AAAWfCAYAAADEdIgFAAAgAElEQVR4nOza6Y7k51nG4a69epue\n",
       "LR4vGMdWCEKECEKkEI6Yg+A7X5D4EEhAIbFC4jjOePbp7ulaOYYnusUzL7quI7hV+i9v/aomf/vj\n",
       "D48ngzm82HdPKFstF90Tyi4eXHRPKFs9vOyeUDa5XHZPKJutx7uel9NZ94Sy1988755Q9sffv+me\n",
       "UHb/8YfdE8ouH4z3rHv9Yrzr+d7j+90Tyi4eXnVPKHv19NvuCWVPf/Pb7gll1zc33RPKNvvhvqac\n",
       "HA7jfU9ZLsY7I02mk+4JZZubu+4JdQN+zk8+/ah7Qtl0Nt7nvNuNdz1PZuN9hz2/P95Z9Orhg+4J\n",
       "ZbPpuntC2X6wM9K0ewAAAAAAAP//iM8AAAAAAMSJzwAAAAAAxInPAAAAAADEic8AAAAAAMSJzwAA\n",
       "AAAAxInPAAAAAADEic8AAAAAAMSJzwAAAAAAxInPAAAAAADEic8AAAAAAMSJzwAAAAAAxInPAAAA\n",
       "AADEic8AAAAAAMSJzwAAAAAAxInPAAAAAADEic8AAAAAAMSJzwAAAAAAxInPAAAAAADEic8AAAAA\n",
       "AMSJzwAAAAAAxInPAAAAAADEic8AAAAAAMSJzwAAAAAAxInPAAAAAADEic8AAAAAAMSJzwAAAAAA\n",
       "xInPAAAAAADEic8AAAAAAMSJzwAAAAAAxInPAAAAAADEic8AAAAAAMSJzwAAAAAAxInPAAAAAADE\n",
       "ic8AAAAAAMSJzwAAAAAAxInPAAAAAADEic8AAAAAAMSJzwAAAAAAxInPAAAAAADEic8AAAAAAMSJ\n",
       "zwAAAAAAxInPAAAAAADEic8AAAAAAMTNJ++6J9StVqvuCWX3P3zQPaHs6osPuyeUza/OuyeUTboH\n",
       "/AkOm7vuCWW3z990TyhbTi+6J5T96Kd/1z2h7MmHn3ZPKJvvNt0Tyn7zi591Tyi7ub7unlB2t3na\n",
       "PaHs7uXz7gllh91478HV2bp7QtnF6b3uCWWTyXgnu8lk1z2h7O5uvOfz+nLePaFstT7rnlA2H7AV\n",
       "nBwP3QvqBjyLvvj2WfeEsnd3433ODx497J5QtliN93ye3I317vbPZwAAAAAA4sRnAAAAAADixGcA\n",
       "AAAAAOLEZwAAAAAA4sRnAAAAAADixGcAAAAAAOLEZwAAAAAA4sRnAAAAAADixGcAAAAAAOLEZwAA\n",
       "AAAA4sRnAAAAAADixGcAAAAAAOLEZwAAAAAA4sRnAAAAAADixGcAAAAAAOLEZwAAAAAA4sRnAAAA\n",
       "AADixGcAAAAAAOLEZwAAAAAA4sRnAAAAAADixGcAAAAAAOLEZwAAAAAA4sRnAAAAAADixGcAAAAA\n",
       "AOLEZwAAAAAA4sRnAAAAAADixGcAAAAAAOLEZwAAAAAA4sRnAAAAAADixGcAAAAAAOLEZwAAAAAA\n",
       "4sRnAAAAAADixGcAAAAAAOLEZwAAAAAA4sRnAAAAAADixGcAAAAAAOLEZwAAAAAA4sRnAAAAAADi\n",
       "xGcAAAAAAOLEZwAAAAAA4sRnAAAAAADixGcAAAAAAOLEZwAAAAAA4sRnAAAAAADi5uv5efeGssXp\n",
       "ontC2aNPHndPKLt8dNk9oeywWHZPKNtvD90TymbT8e7Bj774tHtC2fc++UH3hLKf/PQfuyeUPb4Y\n",
       "7z349ve/7Z5Q9uwvv+ieUPbr//6v7gll//bzn3VPKNsM+B48uf+ge0HZ2ZMPuyeUXd7/oHtC2X67\n",
       "655QdnPzsntC2Ze/+nn3hLLL+6vuCWVn9+51TyibHsf7PnicHLsnlE2Wk+4JZevNeM/n2XTWPaFs\n",
       "v912Tyg7zMfb/O1vv+6eUOKfzwAAAAAAxInPAAAAAADEic8AAAAAAMSJzwAAAAAAxInPAAAAAADE\n",
       "ic8AAAAAAMSJzwAAAAAAxInPAAAAAADEic8AAAAAAMSJzwAAAAAAxInPAAAAAADEic8AAAAAAMSJ\n",
       "zwAAAAAAxInPAAAAAADEic8AAAAAAMSJzwAAAAAAxInPAAAAAADEic8AAAAAAMSJzwAAAAAAxInP\n",
       "AAAAAADEic8AAAAAAMSJzwAAAAAAxInPAAAAAADEic8AAAAAAMSJzwAAAAAAxInPAAAAAADEic8A\n",
       "AAAAAMSJzwAAAAAAxInPAAAAAADEic8AAAAAAMSJzwAAAAAAxInPAAAAAADEic8AAAAAAMSJzwAA\n",
       "AAAAxInPAAAAAADEic8AAAAAAMSJzwAAAAAAxInPAAAAAADEic8AAAAAAMSJzwAAAAAAxInPAAAA\n",
       "AADEic8AAAAAAMSJzwAAAAAAxInPAAAAAADEzR9/9p3uDWVnj6+6J5SdPzztnlA2Wc66J5RNB/w5\n",
       "ZbY9dE8oe7S47J5Q9vd/9ePuCWU/+sHfdE8o27/9ffeEsqf/8cvuCWXXf/xD94S6w7Z7QdkX4z3q\n",
       "Tq7++vPuCWWPL8c7I/3P3aZ7Qtn+0aPuCWWTxXjXxub2pntC2e3dsXtC2WG7655QNp+Odz3Pl6vu\n",
       "CWW7m/Gez+uzZfeEsslsvGtjfXnRPaFsOp13Tyi7fjPee/DFV8+6J5R988vfdU8oGTDVAQAAAADw\n",
       "vhOfAQAAAACIE58BAAAAAIgTnwEAAAAAiBOfAQAAAACIE58BAAAAAIgTnwEAAAAAiBOfAQAAAACI\n",
       "E58BAAAAAIgTnwEAAAAAiBOfAQAAAACIE58BAAAAAIgTnwEAAAAAiBOfAQAAAACIE58BAAAAAIgT\n",
       "nwEAAAAAiBOfAQAAAACIE58BAAAAAIgTnwEAAAAAiBOfAQAAAACIE58BAAAAAIgTnwEAAAAAiBOf\n",
       "AQAAAACIE58BAAAAAIgTnwEAAAAAiBOfAQAAAACIE58BAAAAAIgTnwEAAAAAiBOfAQAAAACIE58B\n",
       "AAAAAIgTnwEAAAAAiBOfAQAAAACIE58BAAAAAIgTnwEAAAAAiBOfAQAAAACIE58BAAAAAIgTnwEA\n",
       "AAAAiBOfAQAAAACIE58BAAAAAIgTnwEAAAAAiBOfAQAAAACIE58BAAAAAIgTnwEAAAAAiBOfAQAA\n",
       "AACIm3/6g+92byjbL5bdE8qub667J5TNdsfuCWXnq/F+T1nPZt0Tyj44O++eUPadk7vuCWW/+Od/\n",
       "6p5Q9u7Ft90Tyna3t90TypaLdfeEsuV6vM2r0/E23z8fb/P3P37UPaHu5dvuBWVfHw7dE8q2+033\n",
       "hLLNm5fdE8pefPW77gllk92ue0LZcjXed9jju/E+5xdfj3cWvffgontC2XTAc91iwPPzfD7ec2Nz\n",
       "O9554/r5TfeEssls0T2hZLxSBwAAAADAe098BgAAAAAgTnwGAAAAACBOfAYAAAAAIE58BgAAAAAg\n",
       "TnwGAAAAACBOfAYAAAAAIE58BgAAAAAgTnwGAAAAACBOfAYAAAAAIE58BgAAAAAgTnwGAAAAACBO\n",
       "fAYAAAAAIE58BgAAAAAgTnwGAAAAACBOfAYAAAAAIE58BgAAAAAgTnwGAAAAACBOfAYAAAAAIE58\n",
       "BgAAAAAgTnwGAAAAACBOfAYAAAAAIE58BgAAAAAgTnwGAAAAACBOfAYAAAAAIE58BgAAAAAgTnwG\n",
       "AAAAACBOfAYAAAAAIE58BgAAAAAgTnwGAAAAACBOfAYAAAAAIE58BgAAAAAgTnwGAAAAACBOfAYA\n",
       "AAAAIE58BgAAAAAgTnwGAAAAACBOfAYAAAAAIE58BgAAAAAgTnwGAAAAACBOfAYAAAAAIE58BgAA\n",
       "AAAgTnwGAAAAACBOfAYAAAAAIE58BgAAAAAgbj5dTLo3lB3n3QvqTlfr7gll00P3grr1YdU9oezh\n",
       "+f3uCWWPH33cPaHs+nbXPaHsF7/6untC2aePrronlE1Xs+4JZdfvbrsnlN1s7ronlJ0dxzsjXdxb\n",
       "dk8ou1yP9+5+shzvHrzb7LsnlD27G+/dffv8efeEsuOb6+4JZQ8uz7snlM0X432JffX1s+4JZbu3\n",
       "m+4JZZv1sXtC2XI23vl5tVh0Tyg7PR2vIy2vxtt8eTFek9ncbbsnlPjnMwAAAAAAceIzAAAAAABx\n",
       "4jMAAAAAAHHiMwAAAAAAceIzAAAAAABx4jMAAAAAAHHiMwAAAAAAceIzAAAAAABx4jMAAAAAAHHi\n",
       "MwAAAAAAceIzAAAAAABx4jMAAAAAAHHiMwAAAAAAceIzAAAAAABx4jMAAAAAAHHiMwAAAAAAceIz\n",
       "AAAAAABx4jMAAAAAAHHiMwAAAAAAceIzAAAAAABx4jMAAAAAAHHiMwAAAAAAceIzAAAAAABx4jMA\n",
       "AAAAAHHiMwAAAAAAceIzAAAAAABx4jMAAAAAAHHiMwAAAAAAceIzAAAAAABx4jMAAAAAAHHiMwAA\n",
       "AAAAceIzAAAAAABx4jMAAAAAAHHiMwAAAAAAceIzAAAAAABx4jMAAAAAAHHiMwAAAAAAceIzAAAA\n",
       "AABx4jMAAAAAAHHiMwAAAAAAceIzAAAAAABx4jMAAAAAAHHiMwAAAAAAceIzAAAAAABx8+Nu372h\n",
       "bHky755QNtt2L6ibHMf7beLq7IPuCWU//ME/dE8o++yTj7snlP3nv/5L94SyL//wtntC2c3r2+4J\n",
       "ZU+uFt0TyvZ3410b++2AL8LFWfeCsuXZoXtC2fE43ln0ajnrnlD2yWS88/PuzXjvlG92492D69V4\n",
       "z7r5+XjX8/btpntC2c2LN90Tyk7n590Tyi5Xl90T6gZsBdu3471TjpPuBXVnl/e6J5TNr8a7ByeD\n",
       "/Zd4rLUAAAAAAAxBfAYAAAAAIE58BgAAAAAgTnwGAAAAACBOfAYAAAAAIE58BgAAAAAgTnwGAAAA\n",
       "ACBOfAYAAAAAIE58BgAAAAAgTnwGAAAAACBOfAYAAAAAIE58BgAAAAAgTnwGAAAAACBOfAYAAAAA\n",
       "IE58BgAAAAAgTnwGAAAAACBOfAYAAAAAIE58BgAAAAAgTnwGAAAAACBOfAYAAAAAIE58BgAAAAAg\n",
       "TnwGAAAAACBOfAYAAAAAIE58BgAAAAAgTnwGAAAAACBOfAYAAAAAIE58BgAAAAAgTnwGAAAAACBO\n",
       "fAYAAAAAIE58BgAAAAAgTnwGAAAAACBOfAYAAAAAIE58BgAAAAAgTnwGAAAAACBOfAYAAAAAIE58\n",
       "BgAAAAAgTnwGAAAAACBOfAYAAAAAIE58BgAAAAAgTnwGAAAAACBOfAYAAAAAIE58BgAAAAAgTnwG\n",
       "AAAAACBOfAYAAAAAIG5+/c2b7g1lq/mue0LZcrnsnlB2nMy7J5QtZve6J5Q9fPike0LZwwdX3RPK\n",
       "zpfj/db2aNW9oO6wvemeUPby1aR7Qtl6Md71PJksuifUTWbdC8purq+7J5Qdt+Ntnh6P3RPK7s3X\n",
       "3RPKPjy76J5Q9vrJR90TyjarAZ/Px233grqX4z3rrtbj3YOT43hnpP3rt90Tyra7TfeEsulyvHPd\n",
       "8sH97gll89V594SyxWq8M9JsMtZ32PGezAAAAAAAvPfEZwAAAAAA4sRnAAAAAADixGcAAAAAAOLE\n",
       "ZwAAAAAA4sRnAAAAAADixGcAAAAAAOLEZwAAAAAA4sRnAAAAAADixGcAAAAAAOLEZwAAAAAA4sRn\n",
       "AAAAAADixGcAAAAAAOLEZwAAAAAA4sRnAAAAAADixGcAAAAAAOLEZwAAAAAA4sRnAAAAAADixGcA\n",
       "AAAAAOLEZwAAAAAA4sRnAAAAAADixGcAAAAAAOLEZwAAAAAA4sRnAAAAAADixGcAAAAAAOLEZwAA\n",
       "AAAA4sRnAAAAAADixGcAAAAAAOLEZwAAAAAA4sRnAAAAAADixGcAAAAAAOLEZwAAAAAA4sRnAAAA\n",
       "AADixGcAAAAAAOLEZwAAAAAA4sRnAAAAAADixGcAAAAAAOLEZwAAAAAA4sRnAAAAAADixGcAAAAA\n",
       "AOLEZwAAAAAA4sRnAAAAAADixGcAAAAAAOLEZwAAAAAA4ubPvvy2e0PZvYt73RPKHn3+uHtC2Ww9\n",
       "755QdjzuuyeU3b563j2h7M3itntC2e7ts+4JZQ9W3QvqjofxftOczo/dE8pm8/E+5+PJgO+U6Xib\n",
       "X72+7p5QNtm+655QtliMd21sZ+Odkaaz8V6Eq7OL7glls7vx7sH965fdE8qWJ4vuCWWz01n3hLLt\n",
       "Zrxn3eTQvaButlp3Tyi7/2dPuieUPfzup90T6hbjXRvH7XjPjcPJWJvH+/YKAAAAAMB7T3wGAAAA\n",
       "ACBOfAYAAAAAIE58BgAAAAAgTnwGAAAAACBOfAYAAAAAIE58BgAAAAAgTnwGAAAAACBOfAYAAAAA\n",
       "IE58BgAAAAAgTnwGAAAAACBOfAYAAAAAIE58BgAAAAAgTnwGAAAAACBOfAYAAAAAIE58BgAAAAAg\n",
       "TnwGAAAAACBOfAYAAAAAIE58BgAAAAAgTnwGAAAAACBOfAYAAAAAIE58BgAAAAAgTnwGAAAAACBO\n",
       "fAYAAAAAIE58BgAAAAAgTnwGAAAAACBOfAYAAAAAIE58BgAAAAAgTnwGAAAAACBOfAYAAAAAIE58\n",
       "BgAAAAAgTnwGAAAAACBOfAYAAAAAIE58BgAAAAAgTnwGAAAAACBOfAYAAAAAIE58BgAAAAAgTnwG\n",
       "AAAAACBOfAYAAAAAIE58BgAAAAAgTnwGAAAAACBOfAYAAAAAIE58BgAAAAAgTnwGAAAAACBuvnpw\n",
       "2r2hbDGbdU8omx6P3RPKHlxedE8oe/LkfveEsuPJdfeEsq++/HX3hLIXv/+ye0LZajnpnlC234+3\n",
       "ebO9655Q9ub1q+4JZZv9vHtC2WF23j2hbL/bdU8oW8/G+y/EccCz6G7As+j6Yt09oeyD06vuCWXP\n",
       "9+NdG69ubrsnlE1mh+4JdZN994K6xXhn0ZMBL43letk9oWw5Ge/a2L183T2hbLN/2T2h7Pb2pntC\n",
       "2fR0rO9W4532AQAAAAB474nPAAAAAADEic8AAAAAAMSJzwAAAAAAxInPAAAAAADEic8AAAAAAMSJ\n",
       "zwAAAAAAxInPAAAAAADEic8AAAAAAMSJzwAAAAAAxInPAAAAAADEic8AAAAAAMSJzwAAAAAAxInP\n",
       "AAAAAADEic8AAAAAAMSJzwAAAAAAxInPAAAAAADEic8AAAAAAMSJzwAAAAAAxInPAAAAAADEic8A\n",
       "AAAAAMSJzwAAAAAAxInPAAAAAADEic8AAAAAAMSJzwAAAAAAxInPAAAAAADEic8AAAAAAMSJzwAA\n",
       "AAAAxInPAAAAAADEic8AAAAAAMSJzwAAAAAAxInPAAAAAADEic8AAAAAAMSJzwAAAAAAxInPAAAA\n",
       "AADEic8AAAAAAMSJzwAAAAAAxInPAAAAAADEic8AAAAAAMSJzwAAAAAAxInPAAAAAADEic8AAAAA\n",
       "AMSJzwAAAAAAxInPAAAAAADEzS///GH3hrL52333hLrdsXtB2e3zl90Typ5OftM9oW7/untB2fn2\n",
       "unvCn2C858ZxPt7vg9v9eM+62WzWPaHs3d141/Ob63fdE8qOs2fdE8rOzs+6J5RNV+Pdg9PDePfg\n",
       "bLnqnlC2Wp92TyhbXo733Wo3W3ZPKPv3p990TyjbzbfdE8omJ+M9n08mu+4FZYf9eO+U/Wa86/nV\n",
       "V+M9N1787g/dE8ruduPdgzf7u+4JZeuHl90TSsYrGwAAAAAAvPfEZwAAAAAA4sRnAAAAAADixGcA\n",
       "AAAAAOLEZwAAAAAA4sRnAAAAAADixGcAAAAAAOLEZwAAAAAA4sRnAAAAAADixGcAAAAAAOLEZwAA\n",
       "AAAA4sRnAAAAAADixGcAAAAAAOLEZwAAAAAA4sRnAAAAAADixGcAAAAAAOLEZwAAAAAA4sRnAAAA\n",
       "AADixGcAAAAAAOLEZwAAAAAA4sRnAAAAAADixGcAAAAAAOLEZwAAAAAA4sRnAAAAAADixGcAAAAA\n",
       "AOLEZwAAAAAA4sRnAAAAAADixGcAAAAAAOLEZwAAAAAA4sRnAAAAAADixGcAAAAAAOLEZwAAAAAA\n",
       "4sRnAAAAAADixGcAAAAAAOLEZwAAAAAA4sRnAAAAAADixGcAAAAAAOLEZwAAAAAA4sRnAAAAAADi\n",
       "xGcAAAAAAOLEZwAAAAAA4sRnAAAAAADixGcAAAAAAOLEZwAAAAAA4ua7u2P3hrLZZNY9oex2M97n\n",
       "vNvedk8o226+7p5Qdv3qefeEstOTQ/eEsuXbu+4JZdN994K62fqie0LZ/DDe9Xz+cLzPeXYx3gU9\n",
       "nS26J5TNF+NtnkzHuwcPh/Gu58V0vLPobDLetbE4Ge/a+OzeeO+Ub9br7gllz2633RPqJpPuBXW7\n",
       "8Z51+wE/5unU/xj/LxyP413P8/V4Z9HTk9PuCWX7wY4bnhgAAAAAAMSJzwAAAAAAxInPAAAAAADE\n",
       "ic8AAAAAAMSJzwAAAAAAxInPAAAAAADEic8AAAAAAMSJzwAAAAAAxInPAAAAAADEic8AAAAAAMSJ\n",
       "zwAAAAAAxInPAAAAAADEic8AAAAAAMSJzwAAAAAAxInPAAAAAADEic8AAAAAAMSJzwAAAAAAxInP\n",
       "AAAAAADEic8AAAAAAMSJzwAAAAAAxInPAAAAAADEic8AAAAAAMSJzwAAAAAAxInPAAAAAADEic8A\n",
       "AAAAAMSJzwAAAAAAxInPAAAAAADEic8AAAAAAMSJzwAAAAAAxInPAAAAAADEic8AAAAAAMSJzwAA\n",
       "AAAAxInPAAAAAADEic8AAAAAAMSJzwAAAAAAxInPAAAAAADEic8AAAAAAMSJzwAAAAAAxInPAAAA\n",
       "AADEic8AAAAAAMSJzwAAAAAAxInPAAAAAADEic8AAAAAAMSJzwAAAAAAxM3vvn7ZvaFscu+ie0LZ\n",
       "bsDMv5zMuyfUbY/dC8r2r951Tyh7s910Tyi7mk+6J5R9/sl3uyeUffz597on1O0O3QvKjtOz7gll\n",
       "N7c33RPKXvzhq+4JZfvr8c51h81194S64757QdlkMt578GR3172g7vZV94Ky6XivwZO/+Oij7gll\n",
       "k8Ose0LZq+vx3t2H2bZ7Qtl8Ol4smMzGu56Ps/E+5+V61T2hbD5grzuu190Tyg77sc6i4919AAAA\n",
       "AAC898RnAAAAAADixGcAAAAAAOLEZwAAAAAA4sRnAAAAAADixGcAAAAAAOLEZwAAAAAA4sRnAAAA\n",
       "AADixGcAAAAAAOLEZwAAAAAA4sRnAAAAAADixGcAAAAAAOLEZwAAAAAA4sRnAAAAAADixGcAAAAA\n",
       "AOLEZwAAAAAA4sRnAAAAAADixGcAAAAAAOLEZwAAAAAA4sRnAAAAAADixGcAAAAAAOLEZwAAAAAA\n",
       "4sRnAAAAAADixGcAAAAAAOLEZwAAAAAA4sRnAAAAAADixGcAAAAAAOLEZwAAAAAA4sRnAAAAAADi\n",
       "xGcAAAAAAOLEZwAAAAAA4sRnAAAAAADixGcAAAAAAOLEZwAAAAAA4sRnAAAAAADixGcAAAAAAOLE\n",
       "ZwAAAAAA4sRnAAAAAADixGcAAAAAAOLEZwAAAAAA4sRnAAAAAADixGcAAAAAAOLEZwAAAAAA4sRn\n",
       "AAAAAADi5tt377o3lM3vn3VPKJuv5t0TypazVfeEst2he0Hd2wHvwd3dpntC2eLyqntC2b1Pv989\n",
       "oeyzH/6ke0LZ9LjvnlB2GG/yyfNvvu6eUHb36mn3hLLr6/EujnfbbfeEssN+vM95Nl92TyibTLoX\n",
       "1E0GfEAvprPuCWWP7192Tyjbb++6J5T97umue0LZ08N475T9ccCH3YCO0/E+5+lsvOfzdDref1wP\n",
       "x2P3hLLpYO/u8a4KAAAAAADee+IzAAAAAABx4jMAAAAAAHHiMwAAAAAAceIzAAAAAABx4jMAAAAA\n",
       "AHHiMwAAAAAAceIzAAAAAABx4jMAAAAAAHHiMwAAAAAAceIzAAAAAABx4jMAAAAAAHHiMwAAAAAA\n",
       "ceIzAAAAAABx4jMAAAAAAHHiMwAAAAAAceIzAAAAAABx4jMAAAAAAHHiMwAAAAAAceIzAAAAAABx\n",
       "4jMAAAAAAHHiMwAAAAAAceIzAAAAAABx4jMAAAAAAHHiMwAAAAAAceIzAAAAAABx4jMAAAAAAHHi\n",
       "MwAAAAAAceIzAAAAAABx4jMAAAAAAHHiMwAAAAAAceIzAAAAAABx4jMAAAAAAHHiMwAAAAAAceIz\n",
       "AAAAAABx4jMAAAAAAHHiMwAAAAAAceIzAAAAAABx4jMAAAAAAHHiMwAAAAAAceIzAAAAAABx4jMA\n",
       "AAAAAHHiMwAAAAAAceIzAAAAAABx85u7TfeGsvMBm/l8uuueULabbLsnlO1ODt0TynbTSfeEuul4\n",
       "9+C743if82F50T2h7OzyUfeEssVkvOfz6xffdk8oO+7edU8omw94bRx2d90Tyq5vbronlN3cjvc5\n",
       "7w/H7gllpxfjvQcPx/G+Wx0n452Rbt9ed08oOxvwPfhkPe+eULa9W3RPKHu1Ge877PYw3ubjgO/B\n",
       "u7fjPTduX77tnlC2OYx35l9dnHVPKBmvIAEAAAAA8N4TnwEAAAAAiBOfAQAAAACIE58BAAAAAIgT\n",
       "nwEAAAAAiBOfAQAAAACIE58BAAAAAIgTnwEAAAAAiBOfAYD/ZddOd+Q4zzMMT3dX92xchhQXaLXl\n",
       "BY4MxcmPIEHO/0/s/AsSGEYsG7EWSyLFnTM9Pb3kGF7iAV5+wHUdwYNCzVdV9zQAAADEic8AAAAA\n",
       "AMSJzwAAAAAAxInPAAAAAADEic8AAAAAAMSJzwAAAAAAxInPAAAAAADEic8AAAAAAMSJzwAAAAAA\n",
       "xInPAAAAAADEic8AAAAAAMSJzwAAAAAAxInPAAAAAADEic8AAAAAAMSJzwAAAAAAxInPAAAAAADE\n",
       "ic8AAAAAAMSJzwAAAAAAxInPAAAAAADEic8AAAAAAMSJzwAAAAAAxInPAAAAAADEic8AAAAAAMSJ\n",
       "zwAAAAAAxInPAAAAAADEic8AAAAAAMSJzwAAAAAAxInPAAAAAADEic8AAAAAAMSJzwAAAAAAxInP\n",
       "AAAAAADEic8AAAAAAMSJzwAAAAAAxInPAAAAAADEic8AAAAAAMSJzwAAAAAAxE2bq/H682EzdU8o\n",
       "W8/fdE8oux5w82y26J5Qdra46J5QtlyedyOFL68AACAASURBVE8oOwz4v7ar3XX3hLLdgJuXi/Hu\n",
       "jZvNVfeEsuv1eM+U1Wq8943Z0aF7Qtn68rJ7Qtnbt+NtXszGuzdOz066J5TNxnukHF1fb7onlO1u\n",
       "dt0Tyla78Tafzcf7trp7PN6z+3q/7Z5QNuDtfLQb7zF4dDTgdd5e3XRPKHv+4ln3hLLVm9fdE0oG\n",
       "fD0CAAAAAOB9Jz4DAAAAABAnPgMAAAAAECc+AwAAAAAQJz4DAAAAABAnPgMAAAAAECc+AwAAAAAQ\n",
       "Jz4DAAAAABAnPgMAAAAAECc+AwAAAAAQJz4DAAAAABAnPgMAAAAAECc+AwAAAAAQJz4DAAAAABAn\n",
       "PgMAAAAAECc+AwAAAAAQJz4DAAAAABAnPgMAAAAAECc+AwAAAAAQJz4DAAAAABAnPgMAAAAAECc+\n",
       "AwAAAAAQJz4DAAAAABAnPgMAAAAAECc+AwAAAAAQJz4DAAAAABAnPgMAAAAAECc+AwAAAAAQJz4D\n",
       "AAAAABAnPgMAAAAAECc+AwAAAAAQJz4DAAAAABAnPgMAAAAAECc+AwAAAAAQJz4DAAAAABAnPgMA\n",
       "AAAAECc+AwAAAAAQJz4DAAAAABAnPgMAAAAAECc+AwAAAAAQJz4DAAAAABAnPgMAAAAAECc+AwAA\n",
       "AAAQJz4DAAAAABA3ndx53L2hbD8/755Qdljsuie8g033gLrDgNd5Nt7mxWLqnlC2mI67J5Rdrdfd\n",
       "E8pevfype0LZ9ezQPaFs/fZV94S6w7Z7QdnhaN89oexwNN79fLQb7zk434+3+bC76Z5QdvXmZfeE\n",
       "stmse0Hden3VPaHssB3vfN5sxzs3zm9ddE8oO+ke8A5O5+MdHDeH8X7HeL0b7x1pdhhv8zRgK5jm\n",
       "423evBnr2T3eiQEAAAAAwHtPfAYAAAAAIE58BgAAAAAgTnwGAAAAACBOfAYAAAAAIE58BgAAAAAg\n",
       "TnwGAAAAACBOfAYAAAAAIE58BgAAAAAgTnwGAAAAACBOfAYAAAAAIE58BgAAAAAgTnwGAAAAACBO\n",
       "fAYAAAAAIE58BgAAAAAgTnwGAAAAACBOfAYAAAAAIE58BgAAAAAgTnwGAAAAACBOfAYAAAAAIE58\n",
       "BgAAAAAgTnwGAAAAACBOfAYAAAAAIE58BgAAAAAgTnwGAAAAACBOfAYAAAAAIE58BgAAAAAgTnwG\n",
       "AAAAACBOfAYAAAAAIE58BgAAAAAgTnwGAAAAACBOfAYAAAAAIE58BgAAAAAgTnwGAAAAACBOfAYA\n",
       "AAAAIE58BgAAAAAgTnwGAAAAACBOfAYAAAAAIE58BgAAAAAgTnwGAAAAACBOfAYAAAAAIE58BgAA\n",
       "AAAgTnwGAAAAACBOfAYAAAAAIG765LPPujeUzZfL7gllu9lJ94Sy9W68zbvd2+4JZYfdrHtC2Wa7\n",
       "6Z5QNi0O3RPK5gOeG7PZ1D2hbLcd79zYbi67J9TdXHcvKLu+uuqeUHa1XndPKJvNxjufT4/Hexdd\n",
       "DfiTk/1mvHPjcNh3Tyjbb8Y7N24uxzufd5tt94Sy+WzRPaFstx3v22pxveueUHYyG+85uD8a737e\n",
       "DvhMGfB142g1rbonlM2Oxjo3RrwvAAAAAAB4z4nPAAAAAADEic8AAAAAAMSJzwAAAAAAxInPAAAA\n",
       "AADEic8AAAAAAMSJzwAAAAAAxInPAAAAAADEic8AAAAAAMSJzwAAAAAAxInPAAAAAADEic8AAAAA\n",
       "AMSJzwAAAAAAxInPAAAAAADEic8AAAAAAMSJzwAAAAAAxInPAAAAAADEic8AAAAAAMSJzwAAAAAA\n",
       "xInPAAAAAADEic8AAAAAAMSJzwAAAAAAxInPAAAAAADEic8AAAAAAMSJzwAAAAAAxInPAAAAAADE\n",
       "ic8AAAAAAMSJzwAAAAAAxInPAAAAAADEic8AAAAAAMSJzwAAAAAAxInPAAAAAADEic8AAAAAAMSJ\n",
       "zwAAAAAAxInPAAAAAADEic8AAAAAAMSJzwAAAAAAxInPAAAAAADEic8AAAAAAMSJzwAAAAAAxInP\n",
       "AAAAAADEic8AAAAAAMSJzwAAAAAAxInPAAAAAADETfcvLro3lM26B7yDzXbqnlC22iy7J5Rt9yfd\n",
       "E8p2u3X3hLLr9U33hLLN/Lp7Qtl8edo9oez2vcfdE+puXnYvKLu5ftU9oezqefeCus1mvPN5t9t0\n",
       "Tyg7Ph3vfWM+G2/zeG+iR0ezw6F7Qtl4b0hHRzc3u+4JZdfr8c66/Wa8u+PV0YvuCWWX2wHPjf2i\n",
       "e0LZ8vi8e0LZ2TReK9h2D3gHV90D3sFyGu+9bnE8Vhn1y2cAAAAAAOLEZwAAAAAA4sRnAAAAAADi\n",
       "xGcAAAAAAOLEZwAAAAAA4sRnAAAAAADixGcAAAAAAOLEZwAAAAAA4sRnAAAAAADixGcAAAAAAOLE\n",
       "ZwAAAAAA4sRnAAAAAADixGcAAAAAAOLEZwAAAAAA4sRnAAAAAADixGcAAAAAAOLEZwAAAAAA4sRn\n",
       "AAAAAADixGcAAAAAAOLEZwAAAAAA4sRnAAAAAADixGcAAAAAAOLEZwAAAAAA4sRnAAAAAADixGcA\n",
       "AAAAAOLEZwAAAAAA4sRnAAAAAADixGcAAAAAAOLEZwAAAAAA4sRnAAAAAADixGcAAAAAAOLEZwAA\n",
       "AAAA4sRnAAAAAADixGcAAAAAAOLEZwAAAAAA4sRnAAAAAADixGcAAAAAAOLEZwAAAAAA4sRnAAAA\n",
       "AADixGcAAAAAAOLEZwAAAAAA4sRnAAAAAADixGcAAAAAAOLEZwAAAAAA4qab3b57Q9lyMeueUDY7\n",
       "dC+om+/Gu87z7bJ7QtnhMN7NsTod7zqfX9zpnlA2W03dE8p2iwHvjZOH3RPK5gOeG5vL6+4JZcd3\n",
       "fuieUHby6mX3hLLlarxzY3W86p5QdnJ81j2hbHlyq3tC2fxkvOv8wzffdU8o++aP/909oexmd9k9\n",
       "oWxz+aZ7Qtmb9XjvSPv5eM/Bs9mie0LZdDRe31iMl+uODkfjjZ4G7Bsng/UNv3wGAAAAACBOfAYA\n",
       "AAAAIE58BgAAAAAgTnwGAAAAACBOfAYAAAAAIE58BgAAAAAgTnwGAAAAACBOfAYAAAAAIE58BgAA\n",
       "AAAgTnwGAAAAACBOfAYAAAAAIE58BgAAAAAgTnwGAAAAACBOfAYAAAAAIE58BgAAAAAgTnwGAAAA\n",
       "ACBOfAYAAAAAIE58BgAAAAAgTnwGAAAAACBOfAYAAAAAIE58BgAAAAAgTnwGAAAAACBOfAYAAAAA\n",
       "IE58BgAAAAAgTnwGAAAAACBOfAYAAAAAIE58BgAAAAAgTnwGAAAAACBOfAYAAAAAIE58BgAAAAAg\n",
       "TnwGAAAAACBOfAYAAAAAIE58BgAAAAAgTnwGAAAAACBOfAYAAAAAIE58BgAAAAAgTnwGAAAAACBO\n",
       "fAYAAAAAIE58BgAAAAAgTnwGAAAAACBOfAYAAAAAIE58BgAAAAAgTnwGAAAAACBOfAYAAAAAIG6a\n",
       "T8vuDXWHXfeCst1+vM3b3b57Qtl2d+ieULYf7zIfHU2L7gV181n3grKrt2+6J5S9fPWye0Ld+Xn3\n",
       "grLl8k73hLLZ+cPuCWXHH3zSPaHsYrbqnlA2DXg+n94e72/w5Pa97gll0+l413mzG++d/+nr33dP\n",
       "KFvf/Ff3hLL9bLzffe22431bjfg9uJgPuPlw3T2hbJqP9w27XRx3Tyi7Xp50TyjbnZ92Tyg7u3e3\n",
       "e0LJeE9AAAAAAADee+IzAAAAAABx4jMAAAAAAHHiMwAAAAAAceIzAAAAAABx4jMAAAAAAHHiMwAA\n",
       "AAAAceIzAAAAAABx4jMAAAAAAHHiMwAAAAAAceIzAAAAAABx4jMAAAAAAHHiMwAAAAAAceIzAAAA\n",
       "AABx4jMAAAAAAHHiMwAAAAAAceIzAAAAAABx4jMAAAAAAHHiMwAAAAAAceIzAAAAAABx4jMAAAAA\n",
       "AHHiMwAAAAAAceIzAAAAAABx4jMAAAAAAHHiMwAAAAAAceIzAAAAAABx4jMAAAAAAHHiMwAAAAAA\n",
       "ceIzAAAAAABx4jMAAAAAAHHiMwAAAAAAceIzAAAAAABx4jMAAAAAAHHiMwAAAAAAceIzAAAAAABx\n",
       "4jMAAAAAAHHiMwAAAAAAceIzAAAAAABx4jMAAAAAAHHiMwAAAAAAceIzAAAAAABx4jMAAAAAAHHi\n",
       "MwAAAAAAceIzAAAAAABx0+L4pHtD2WJ30z2hbNpvuyeULQ7dC+oO8/H+nzLfdC94B/td94Kym5eX\n",
       "3RPKnnz9bfeEste/edY9oWx7fdU9oWy1WHRPKLvcjHduTLcedE8ou7jzsHtC2bQa7130+PS8e0LZ\n",
       "8dmt7gllh9l473XrH8d7dj97+rR7QtnVerxn9/HxeOfGbD7eB+H9i9PuCWVnp6vuCWUni333hLL5\n",
       "NHVPKJv2490b19vxNm+W450b+/VY31bjvdEBAAAAAPDeE58BAAAAAIgTnwEAAAAAiBOfAQAAAACI\n",
       "E58BAAAAAIgTnwEAAAAAiBOfAQAAAACIE58BAAAAAIgTnwEAAAAAiBOfAQAAAACIE58BAAAAAIgT\n",
       "nwEAAAAAiBOfAQAAAACIE58BAAAAAIgTnwEAAAAAiBOfAQAAAACIE58BAAAAAIgTnwEAAAAAiBOf\n",
       "AQAAAACIE58BAAAAAIgTnwEAAAAAiBOfAQAAAACIE58BAAAAAIgTnwEAAAAAiBOfAQAAAACIE58B\n",
       "AAAAAIgTnwEAAAAAiBOfAQAAAACIE58BAAAAAIgTnwEAAAAAiBOfAQAAAACIE58BAAAAAIgTnwEA\n",
       "AAAAiBOfAQAAAACIE58BAAAAAIgTnwEAAAAAiBOfAQAAAACIE58BAAAAAIgTnwEAAAAAiBOfAQAA\n",
       "AACIE58BAAAAAIgTnwEAAAAAiBOfAQAAAACIE58BAAAAAIibjpbH3RvKdvPxmvlsNuueUHa8XHVP\n",
       "KDs+uemeULcZ8G/w+qp7QtnNZrx74+rteNd5MZ+6J5S9fvO6e0LZdn3ZPaHs+u2b7gl1Az67T05v\n",
       "dU8om1Zn3RPK5suT7glliwGv87Radk8ou33nontC2d37D7snlC3O73RPKNseDt0Tyi7u3++eUPbz\n",
       "X37ePaHs9u3z7gll++vx3kVfPH/ZPaHsxbPxrvN2M95Zt9t0L3gH+7G+U8aruAAAAAAAvPfEZwAA\n",
       "AAAA4sRnAAAAAADixGcAAAAAAOLEZwAAAAAA4sRnAAAAAADixGcAAAAAAOLEZwAAAAAA4sRnAAAA\n",
       "AADixGcAAAAAAOLEZwAAAAAA4sRnAAAAAADixGcAAAAAAOLEZwAAAAAA4sRnAAAAAADixGcAAAAA\n",
       "AOLEZwAAAAAA4sRnAAAAAADixGcAAAAAAOLEZwAAAAAA4sRnAAAAAADixGcAAAAAAOLEZwAAAAAA\n",
       "4sRnAAAAAADixGcAAAAAAOLEZwAAAAAA4sRnAAAAAADixGcAAAAAAOLEZwAAAAAA4sRnAAAAAADi\n",
       "xGcAAAAAAOLEZwAAAAAA4sRnAAAAAADixGcAAAAAAOLEZwAAAAAA4sRnAAAAAADixGcAAAAAAOLE\n",
       "ZwAAAAAA4sRnAAAAAADixGcAAAAAAOLEZwAAAAAA4sRnAAAAAADixGcAAAAAAOLEZwAAAAAA4qbV\n",
       "6rh7Q9luu+ieULYfsPOvplX3hLLFYdc9oWy2uumeUHY4PumeUDY7dC+o+/CjT7snlN2/uN89oezr\n",
       "b/7WPaHsz3/63+4JZfvdtntC2fmd290Tyu7u9t0Tys7Pxrs3FufdC+pm8/FGz1fjvYuubt3rnlD2\n",
       "6Fdfdk8oe/L0SfeEss3rn7onlH38i191Tyj77B//pXtC2aOPP+meUHa2mronlH391V+7J5Q9+8N/\n",
       "dk+o+/a77gVlJwN20dPzW90TSsYrogAAAAAAvPfEZwAAAAAA4sRnAAAAAADixGcAAAAAAOLEZwAA\n",
       "AAAA4sRnAAAAAADixGcAAAAAAOLEZwAAAAAA4sRnAAAAAADixGcAAAAAAOLEZwAAAAAA4sRnAAAA\n",
       "AADixGcAAAAAAOLEZwAAAAAA4sRnAAAAAADixGcAAAAAAOLEZwAAAAAA4sRnAAAAAADixGcAAAAA\n",
       "AOLEZwAAAAAA4sRnAAAAAADixGcAAAAAAOLEZwAAAAAA4sRnAAAAAADixGcAAAAAAOLEZwAAAAAA\n",
       "4sRnAAAAAADixGcAAAAAAOLEZwAAAAAA4sRnAAAAAADixGcAAAAAAOLEZwAAAAAA4sRnAAAAAADi\n",
       "xGcAAAAAAOLEZwAAAAAA4sRnAAAAAADixGcAAAAAAOLEZwAAAAAA4sRnAAAAAADixGcAAAAAAOLE\n",
       "ZwAAAAAA4sRnAAAAAADixGcAAAAAAOLEZwAAAAAA4qbl0b57Q9k023VPKFtMi+4JZYfZsntC2WE/\n",
       "3r0xm413b8znU/eEstVivOv8+MOPuieUnZ6ed08oe/PqTfeEsh+++6F7Qtlmc909oezW3dvdE8q2\n",
       "N5vuCWXXZ2fdE97BrHtA2e0PHnZPKDscuhfUrW/G+7baLU+6J5Tdfvxp94Syw8Xd7gllZ4/Gu87b\n",
       "swfdE8qW9z/unlB2cf9e94Sy9f64e0LZxV/+r3tC2fT0x+4JZfPjVfeEsuU0VpPxy2cAAAAAAOLE\n",
       "ZwAAAAAA4sRnAAAAAADixGcAAAAAAOLEZwAAAAAA4sRnAAAAAADixGcAAAAAAOLEZwAAAAAA4sRn\n",
       "AAAAAADixGcAAAAAAOLEZwAAAAAA4sRnAAAAAADixGcAAAAAAOLEZwAAAAAA4sRnAAAAAADixGcA\n",
       "AAAAAOLEZwAAAAAA4sRnAAAAAADixGcAAAAAAOLEZwAAAAAA4sRnAAAAAADixGcAAAAAAOLEZwAA\n",
       "AAAA4sRnAAAAAADixGcAAAAAAOLEZwAAAAAA4sRnAAAAAADixGcAAAAAAOLEZwAAAAAA4sRnAAAA\n",
       "AADixGcAAAAAAOLEZwAAAAAA4sRnAAAAAADixGcAAAAAAOLEZwAAAAAA4sRnAAAAAADixGcAAAAA\n",
       "AOLEZwAAAAAA4sRnAAAAAADixGcAAAAAAOLEZwAAAAAA4sRnAAAAAADixGcAAAAAAOLEZwAAAAAA\n",
       "4qbZ7qZ7Q9lu/bZ7Qtl+wM6/nU66J5QdZuNd59mQmxfdE8pOzm51Tyi7++BB94Sy6+22e0LZ199+\n",
       "1z2h7PnLV90Tyt6+fNE9oezZs5+6J5SNuPnTzz7rnlD24MNPuyeUTdNx94Sy9eW6e0LZ5avX3RPK\n",
       "9gM+u2/dud09oWy7He/banM03jv/q5fjPQd//P6se0LZbr/rnlC3WnUvKHv80UfdE8oe/fj37gll\n",
       "N0fL7gllo73XjVe9AAAAAAB474nPAAAAAADEic8AAAAAAMSJzwAAAAAAxInPAAAAAADEic8AAAAA\n",
       "AMSJzwAAAAAAxInPAAAAAADEic8AAAAAAMSJzwAAAAAAxInPAAAAAADEic8AAAAAAMSJzwAAAAAA\n",
       "xInPAAAAAADEic8AAAAAAMSJzwAAAAAAxInPAAAAAADEic8AAAAAAMSJzwAAAAAAxInPAAAAAADE\n",
       "ic8AAAAAAMSJzwAAAAAAxInPAAAAAADEic8AAAAAAMSJzwAAAAAAxInPAAAAAADEic8AAAAAAMSJ\n",
       "zwAAAAAAxInPAAAAAADEic8AAAAAAMSJzwAAAAAAxInPAAAAAADEic8AAAAAAMSJzwAAAAAAxInP\n",
       "AAAAAADEic8AAAAAAMSJzwAAAAAAxInPAAAAAADEic8AAAAAAMSJzwAAAAAAxInPAAAAAADEic8A\n",
       "AAAAAMSJzwAAAAAAxInPAAAAAADETfvF1L2hbH5+r3tC3W7fvaBsP+Dm3XbXPaHu0D2g7vjktHtC\n",
       "2cOPP+6eUPbRJ590Tyh7/ux594Sy73/4sXtC2avNtntC2dVuvMPu8Oaqe0LZ4uSse0LZo8fjnc8f\n",
       "fvyz7gll07TsnlB2uBzwb3A23ll36/at7gl1hwfdC8rW63X3hLL9eLfz0eWb190Tyr775m/dE8qe\n",
       "v3jWPaHs8YPxzo1Pfv5594Syt5fjnXXf/vCke0LZdjbWb4nHWgsAAAAAwBDEZwAAAAAA4sRnAAAA\n",
       "AADixGcAAAAAAOLEZwAAAAAA4sRnAAAAAADixGcAAAAAAOLEZwAAAAAA4sRnAAAAAADixGcAAAAA\n",
       "AOLEZwAAAAAA4sRnAAAAAADixGcAAAAAAOLEZwAAAAAA4sRnAAAAAADixGcAAAAAAOLEZwAAAAAA\n",
       "4sRnAAAAAADixGcAAAAAAOLEZwAAAAAA4sRnAAAAAADixGcAAAAAAOLEZwAAAAAA4sRnAAAAAADi\n",
       "xGcAAAAAAOLEZwAAAAAA4sRnAAAAAADixGcAAAAAAOLEZwAAAAAA4sRnAAAAAADixGcAAAAAAOLE\n",
       "ZwAAAAAA4sRnAAAAAADixGcAAAAAAOLEZwAAAAAA4sRnAAAAAADixGcAAAAAAOLEZwAAAAAA4sRn\n",
       "AAAAAADixGcAAAAAAOLEZwAAAAAA4sRnAAAAAADixGcAAAAAAOLEZwAAAAAA4qbFYtG9oewwm7on\n",
       "lC2Odt0TyqbdtntC2YC3xtHtO3e6J5T95pe/6J5Q9rsvvuieUHa6WnVPKPvDf/y+e0LZj8+ed08o\n",
       "OyyW3RPKVrfvdk8oW85m3RPKvvjyn7onlP3yN7/tnlC2WB13Tyh7+uxZ94SyZz/91D2hbHO97p5Q\n",
       "9vTZi+4JZT8N+OyeluN9qJyenHZPKNvvDt0Typ4/edo9oWz91V+6J5Q9vXeve0LZl19+2T2h7Ivf\n",
       "/XP3hLLXv/9D94Sy75+P9Rz0y2cAAAAAAOLEZwAAAAAA4sRnAAAAAADixGcAAAAAAOLEZwAAAAAA\n",
       "4sRnAAAAAADixGcAAAAAAOLEZwAAAAAA4sRnAAAAAADixGcAAAAAAOLEZwAAAAAA4sRnAAAAAADi\n",
       "xGcAAAAAAOLEZwAAAAAA4sRnAAAAAADixGcAAAAAAOLEZwAAAAAA4sRnAAAAAADixGcAAAAAAOLE\n",
       "ZwAAAAAA4sRnAAAAAADixGcAAAAAAOLEZwAAAAAA4sRnAAAAAADixGcAAAAAAOLEZwAAAAAA4sRn\n",
       "AAAAAADixGcAAAAAAOLEZwAAAAAA4sRnAAAAAADixGcAAAAAAOLEZwAAAAAA4sRnAAAAAADixGcA\n",
       "AAAAAOLEZwAAAAAA4sRnAAAAAADixGcAAAAAAOLEZwAAAAAA4sRnAAAAAADixGcAAAAAAOLEZwAA\n",
       "AAAA4sRnAAAAAADixGcAAAAAAOLEZwAAAAAA4qb9bOreULZYjLd5ORuv86+Wq+4JZY8ePeieUPbb\n",
       "f/hV94SyX//ss+4JZav5eH+Df/rzV90Tyv7nT3/snlB2WIx3b5ydnHdPKFutxnt2//rzn3dPKPv3\n",
       "f/vX7gllHzwc79n93d+/755Q9tVf/9I9oezJk6fdE8pevX7TPaHsxcuX3RPKtofuBXWr4/G+rVbL\n",
       "6+4JZbMB3/n325vuCWU3A55168u33RPKLj74oHtC2cc/+7x7Qtlhddo9oeywuuqeUDLeyQwAAAAA\n",
       "wHtPfAYAAAAAIE58BgAAAAAgTnwGAAAAACBOfAYAAAAAIE58BgAAAAAgTnwGAAAAACBOfAYAAAAA\n",
       "IE58BgAAAAAgTnwGAAAAACBOfAYAAAAAIE58BgAAAAAgTnwGAAAAACBOfAYAAAAAIE58BgAAAAAg\n",
       "TnwGAAAAACBOfAYAAAAAIE58BgAAAAAgTnwGAAAAACBOfAYAAAAAIE58BgAAAAAgTnwGAAAAACBO\n",
       "fAYAAAD+v117222jDMMwGtvjOKUb2kYEEGdIiLZSxRH3fx3Q0hNASQktpFGJs7GHa/iqV/r6S2td\n",
       "wStr/M/MowGAOPEZAAAAAIA48RkAAAAAgDjxGQAAAACAOPEZAAAAAIA48RkAAAAAgDjxGQAAAACA\n",
       "OPEZAAAAAIA48RkAAAAAgDjxGQAAAACAOPEZAAAAAIA48RkAAAAAgDjxGQAAAACAOPEZAAAAAIA4\n",
       "8RkAAAAAgDjxGQAAAACAOPEZAAAAAIA48RkAAAAAgDjxGQAAAACAOPEZAAAAAIA48RkAAAAAgDjx\n",
       "GQAAAACAuGkxbbo3lC3W6+4JZavuAZ/gcD3e6m+/+bp7Qtl3x191Tyhb3N12Tyg7e/+ue0LZb29e\n",
       "d08om1fjnRvHJyfdE8q+fPCwe0LZTy+fd08oe/n8WfeEsuOnT7onlP15eto9oezVq1+7J5T98vpN\n",
       "94Sy3b57wSdYjncf3Nx/0D2hbLMc8BuqxXibd/PcPaFsvx/v4NjN450b8+aoe0LZgyf3uyeUffHw\n",
       "XveEspvb6+4JdQNez9t56p5QMt4dEAAAAACAz574DAAAAABAnPgMAAAAAECc+AwAAAAAQJz4DAAA\n",
       "AABAnPgMAAAAAECc+AwAAAAAQJz4DAAAAABAnPgMAAAAAECc+AwAAAAAQJz4DAAAAABAnPgMAAAA\n",
       "AECc+AwAAAAAQJz4DAAAAABAnPgMAAAAAECc+AwAAAAAQJz4DAAAAABAnPgMAAAAAECc+AwAAAAA\n",
       "QJz4DAAAAABAnPgMAAAAAECc+AwAAAAAQJz4DAAAAABAnPgMAAAAAECc+AwAAAAAQJz4DAAAAABA\n",
       "nPgMAAAAAECc+AwAAAAAQJz4DAAAAABAnPgMAAAAAECc+AwAAAAAQJz4DAAAAABAnPgMAAAAAECc\n",
       "+AwAAAAAQJz4DAAAAABAnPgMAAAAAECc+AwAAAAAQJz4DAAAAABAnPgMAAAAAECc+AwAAAAAQJz4\n",
       "DAAAAABAnPgMAAAAAECc+AwAAAAAQJz4DAAAAABA3LSZ1t0byhZHR90TytarqXtC2fJg7p5Qdvb2\n",
       "vHtC2dXFRfeEsmk53rXx8epj94Sy84vL7gllj56edE8oW83jXc8/v/ixe0LZsx++755Qdvz4cfeE\n",
       "spvbffeEsvO//umeUPbh8qp7Qtnm6H73hLrlontB3WK8b3t283jnxrQe7x12u+teUHd9e9c9oWze\n",
       "jbd5P4+3eV6O9x+cl4fdE8quttvulrgXIwAAA31JREFUCWU327PuCWU3/33onlA22hvseE9HAAAA\n",
       "AAB89sRnAAAAAADixGcAAAAAAOLEZwAAAAAA4sRnAAAAAADixGcAAAAAAOLEZwAAAAAA4sRnAAAA\n",
       "AADixGcAAAAAAOLEZwAAAAAA4sRnAAAAAADixGcAAAAAAOLEZwAAAAAA4sRnAAAAAADixGcAAAAA\n",
       "AOLEZwAAAAAA4sRnAAAAAADixGcAAAAAAOLEZwAAAAAA4sRnAAAAAADixGcAAAAAAOLEZwAAAAAA\n",
       "4sRnAAAAAADixGcAAAAAAOLEZwAAAAAA4sRnAAAAAADixGcAAAAAAOLEZwAAAAAA4sRnAAAAAADi\n",
       "xGcAAAAAAOLEZwAAAAAA4sRnAAAAAADixGcAAAAAAOLEZwAAAAAA4sRnAAAAAADixGcAAAAAAOLE\n",
       "ZwAAAAAA4sRnAAAAAADixGcAAAAAAOLEZwAAAAAA4sRnAAAAAADixGcAAAAAAOLEZwAAAAAA4sRn\n",
       "AAAAAADipunwsHtD2XrAzdPB3D2hbJrH27zY3XVPKPv38rp7Qtndftc9oWx7N+Dmg3X3hLLF4dQ9\n",
       "oWx9sO+eUHa1He/cOD07755Q9u7iY/eEsg9X2+4JZb+/He/amFeb7gllj54cd08o28/jnc/b6/HO\n",
       "57sBN9/uxntP2c3jffc1LxbdE8qWq/F+52m/6p5QdrMY75n/j78vuyeUvX0/3uaDAd+t9gOedbv1\n",
       "ve4JJeOdzAAAAAAAfPbEZwAAAAAA4sRnAAAAAADixGcAAAAAAOLEZwAAAAAA4sRnAAAAAADixGcA\n",
       "AAAAAOLEZwAAAAAA4sRnAAAAAADixGcAAAAAAOLEZwAAAAAA4sRnAAAAAADixGcAAAAAAOLEZwAA\n",
       "AAAA4sRnAAAAAADixGcAAAAAAOLEZwAAAAAA4sRnAAAAAADixGcAAAAAAOLEZwAAAAAA4sRnAAAA\n",
       "AADixGcAAAAAAOLEZwAAAAAA4sRnAAAAAADixGcAAAAAAOLEZwAAAAAA4sRnAAAAAADixGcAAAAA\n",
       "AOLEZwAAAAAA4sRnAAAAAADixGcAAAAAAOLEZwAAAAAA4sRnAAAAAADixGcAAAAAAOLEZwAAAAAA\n",
       "4sRnAAAAAADixGcAAAAAAOLEZwAAAAAA4sRnAAAAAADixGcAAAAAAOLEZwAAAAAA4sRnAAAAAADi\n",
       "xGcAAAAAAOL+B5q/h6NSBobwAAAAAElFTkSuQmCC\n",
       "\" transform=\"translate(527, 47)\"/>\n",
       "</g>\n",
       "</svg>\n"
      ]
     },
     "metadata": {},
     "output_type": "display_data"
    }
   ],
   "source": [
    "using Plots\n",
    "image(x) = colorview(RGB, permutedims(x, (3, 2, 1)))\n",
    "plot(image(train_x[:,:,:,rand(1:end)]))"
   ]
  },
  {
   "cell_type": "markdown",
   "metadata": {},
   "source": [
    "The images are simply 32 X 32 matrices of numbers in 3 channels (R,G,B). We can now\n",
    "arrange them in batches of say, 1000 and keep a validation set to track our progress.\n",
    "This process is called minibatch learning, which is a popular method of training\n",
    "large neural networks. Rather that sending the entire dataset at once, we break it\n",
    "down into smaller chunks (called minibatches) that are typically chosen at random,\n",
    "and train only on them. It is shown to help with escaping\n",
    "[saddle points](https://en.wikipedia.org/wiki/Saddle_point)."
   ]
  },
  {
   "cell_type": "markdown",
   "metadata": {},
   "source": [
    "The first 49k images (in batches of 1000) will be our training set, and the rest is\n",
    "for validation. `partition` handily breaks down the set we give it in consecutive parts\n",
    "(1000 in this case). \n"
   ]
  },
  {
   "cell_type": "code",
   "execution_count": 35,
   "metadata": {},
   "outputs": [
    {
     "data": {
      "text/plain": [
       "10×1000 OneHotMatrix(::Vector{UInt32}) with eltype Bool:\n",
       " ⋅  ⋅  ⋅  ⋅  1  ⋅  1  ⋅  ⋅  ⋅  ⋅  ⋅  ⋅  …  ⋅  ⋅  ⋅  ⋅  1  ⋅  1  ⋅  ⋅  ⋅  ⋅  ⋅\n",
       " ⋅  ⋅  ⋅  ⋅  ⋅  ⋅  ⋅  ⋅  ⋅  ⋅  ⋅  ⋅  ⋅     ⋅  1  ⋅  ⋅  ⋅  1  ⋅  ⋅  ⋅  ⋅  1  1\n",
       " ⋅  ⋅  ⋅  ⋅  ⋅  ⋅  ⋅  ⋅  1  ⋅  ⋅  ⋅  ⋅     ⋅  ⋅  ⋅  1  ⋅  ⋅  ⋅  1  ⋅  ⋅  ⋅  ⋅\n",
       " ⋅  ⋅  ⋅  ⋅  ⋅  ⋅  ⋅  ⋅  ⋅  1  ⋅  ⋅  ⋅     ⋅  ⋅  ⋅  ⋅  ⋅  ⋅  ⋅  ⋅  ⋅  ⋅  ⋅  ⋅\n",
       " ⋅  ⋅  1  ⋅  ⋅  ⋅  ⋅  ⋅  ⋅  ⋅  ⋅  ⋅  ⋅     ⋅  ⋅  1  ⋅  ⋅  ⋅  ⋅  ⋅  ⋅  ⋅  ⋅  ⋅\n",
       " ⋅  ⋅  ⋅  ⋅  ⋅  1  ⋅  ⋅  ⋅  ⋅  ⋅  ⋅  ⋅  …  1  ⋅  ⋅  ⋅  ⋅  ⋅  ⋅  ⋅  ⋅  ⋅  ⋅  ⋅\n",
       " ⋅  ⋅  ⋅  ⋅  ⋅  ⋅  ⋅  ⋅  ⋅  ⋅  ⋅  ⋅  ⋅     ⋅  ⋅  ⋅  ⋅  ⋅  ⋅  ⋅  ⋅  1  ⋅  ⋅  ⋅\n",
       " ⋅  ⋅  ⋅  ⋅  ⋅  ⋅  ⋅  ⋅  ⋅  ⋅  1  ⋅  ⋅     ⋅  ⋅  ⋅  ⋅  ⋅  ⋅  ⋅  ⋅  ⋅  ⋅  ⋅  ⋅\n",
       " 1  ⋅  ⋅  ⋅  ⋅  ⋅  ⋅  1  ⋅  ⋅  ⋅  1  ⋅     ⋅  ⋅  ⋅  ⋅  ⋅  ⋅  ⋅  ⋅  ⋅  ⋅  ⋅  ⋅\n",
       " ⋅  1  ⋅  1  ⋅  ⋅  ⋅  ⋅  ⋅  ⋅  ⋅  ⋅  1     ⋅  ⋅  ⋅  ⋅  ⋅  ⋅  ⋅  ⋅  ⋅  1  ⋅  ⋅"
      ]
     },
     "metadata": {},
     "output_type": "display_data"
    }
   ],
   "source": [
    "train = ([(train_x[:,:,:,i], labels[:,i]) for i in partition(1:49000, 1000)])\n",
    "valset = 49001:50000\n",
    "valX = train_x[:,:,:,valset]\n",
    "valY = labels[:, valset]"
   ]
  },
  {
   "cell_type": "markdown",
   "metadata": {},
   "source": [
    "## Defining the Classifier\n",
    "Now we can define our Convolutional Neural Network (CNN).\n",
    "\n",
    "A convolutional neural network is one which defines a kernel and slides it across a matrix\n",
    "to create an intermediate representation to extract features from. It creates higher order\n",
    "features as it goes into deeper layers, making it suitable for images, where the structure of\n",
    "the subject is what will help us determine which class it belongs to."
   ]
  },
  {
   "cell_type": "code",
   "execution_count": 36,
   "metadata": {},
   "outputs": [
    {
     "data": {
      "text/plain": [
       "Chain(\n",
       "  Conv((5, 5), 3 => 16, relu),          \u001b[90m# 1_216 parameters\u001b[39m\n",
       "  MaxPool((2, 2)),\n",
       "  Conv((5, 5), 16 => 8, relu),          \u001b[90m# 3_208 parameters\u001b[39m\n",
       "  MaxPool((2, 2)),\n",
       "  var\"#19#20\"(),\n",
       "  Dense(200 => 120),                    \u001b[90m# 24_120 parameters\u001b[39m\n",
       "  Dense(120 => 84),                     \u001b[90m# 10_164 parameters\u001b[39m\n",
       "  Dense(84 => 10),                      \u001b[90m# 850 parameters\u001b[39m\n",
       "  NNlib.softmax,\n",
       ") \u001b[90m                  # Total: 10 arrays, \u001b[39m39_558 parameters, 155.852 KiB."
      ]
     },
     "metadata": {},
     "output_type": "display_data"
    }
   ],
   "source": [
    "m = Chain(\n",
    "  Conv((5,5), 3=>16, relu),\n",
    "  MaxPool((2,2)),\n",
    "  Conv((5,5), 16=>8, relu),\n",
    "  MaxPool((2,2)),\n",
    "  x -> reshape(x, :, size(x, 4)),\n",
    "  Dense(200, 120),\n",
    "  Dense(120, 84),\n",
    "  Dense(84, 10),\n",
    "  softmax)\n"
   ]
  },
  {
   "cell_type": "markdown",
   "metadata": {},
   "source": [
    "We will use a crossentropy loss and the Momentum optimiser here. Crossentropy will be a\n",
    "good option when it comes to working with multiple independent classes. Momentum smooths out\n",
    "the noisy gradients and helps towards a smooth convergence. Gradually lowering the \n",
    "learning rate along with momentum helps to maintain a bit of adaptivity in our optimisation,\n",
    "preventing us from overshooting our desired destination."
   ]
  },
  {
   "cell_type": "code",
   "execution_count": 37,
   "metadata": {},
   "outputs": [
    {
     "data": {
      "text/plain": [
       "Momentum(0.01, 0.9, IdDict{Any, Any}())"
      ]
     },
     "metadata": {},
     "output_type": "display_data"
    }
   ],
   "source": [
    "using Flux: crossentropy, Momentum\n",
    "\n",
    "loss(x, y) = sum(crossentropy(m(x), y))\n",
    "opt = Momentum(0.01)"
   ]
  },
  {
   "cell_type": "markdown",
   "metadata": {},
   "source": [
    "We can start writing our train loop where we will keep track of some basic accuracy\n",
    "numbers about our model. We can define an `accuracy` function for it like so."
   ]
  },
  {
   "cell_type": "code",
   "execution_count": 38,
   "metadata": {},
   "outputs": [
    {
     "data": {
      "text/plain": [
       "accuracy (generic function with 1 method)"
      ]
     },
     "metadata": {},
     "output_type": "display_data"
    }
   ],
   "source": [
    "accuracy(x, y) = mean(onecold(m(x), 0:9) .== onecold(y, 0:9))"
   ]
  },
  {
   "cell_type": "markdown",
   "metadata": {},
   "source": [
    "## Training\n",
    "Training is where we do a bunch of the interesting operations we defined earlier,\n",
    "and see what our net is capable of. We will loop over the dataset 10 times and\n",
    "feed the inputs to the neural network and optimise."
   ]
  },
  {
   "cell_type": "code",
   "execution_count": 39,
   "metadata": {},
   "outputs": [
    {
     "name": "stdout",
     "output_type": "stream",
     "text": [
      "accuracy(valX, valY) = 0.259\n"
     ]
    }
   ],
   "source": [
    "epochs = 10\n",
    "\n",
    "for epoch = 1:epochs\n",
    "  for d in train\n",
    "    gs = gradient(params(m)) do\n",
    "      l = loss(d...)\n",
    "    end\n",
    "    update!(opt, params(m), gs)\n",
    "  end\n",
    "  @show accuracy(valX, valY)\n",
    "end"
   ]
  },
  {
   "cell_type": "markdown",
   "metadata": {},
   "source": [
    "Seeing our training routine unfold gives us an idea of how the network learnt the\n",
    "\n",
    "This is not bad for a small hand-written network, trained for a limited time."
   ]
  },
  {
   "cell_type": "markdown",
   "metadata": {},
   "source": [
    "# Training on a GPU\n",
    "The `gpu` functions you see sprinkled through this bit of the code tell Flux to move\n",
    "these entities to an available GPU, and subsequently train on it. No extra faffing\n",
    "about required! The same bit of code would work on any hardware with some small\n",
    "annotations like you saw here."
   ]
  },
  {
   "cell_type": "markdown",
   "metadata": {},
   "source": [
    "## Testing the Network\n",
    "We have trained the network for 10 passes over the training dataset. But we need to\n",
    "check if the network has learnt anything at all.\n",
    "\n",
    "We will check this by predicting the class label that the neural network outputs, and\n",
    "checking it against the ground-truth. If the prediction is correct, we add the sample\n",
    "to the list of correct predictions. This will be done on a yet unseen section of data.\n",
    "\n",
    "Okay, first step. Let us perform the exact same preprocessing on this set, as we did\n",
    "on our training set."
   ]
  },
  {
   "cell_type": "code",
   "execution_count": null,
   "metadata": {},
   "outputs": [],
   "source": [
    "test_x, test_y = CIFAR10(:test)[:]\n",
    "test_labels = onehotbatch(test_y, 0:9)\n",
    "\n",
    "test = [(test_x[:,:,:,i], test_labels[:,i]) for i in partition(1:10000, 1000)]"
   ]
  },
  {
   "cell_type": "markdown",
   "metadata": {},
   "source": [
    "Next, display an image from the test set."
   ]
  },
  {
   "cell_type": "code",
   "execution_count": null,
   "metadata": {},
   "outputs": [],
   "source": [
    "plot(image(test_x[:,:,:,rand(1:end)]))"
   ]
  },
  {
   "cell_type": "markdown",
   "metadata": {},
   "source": [
    "The outputs are energies for the 10 classes. Higher the energy for a class, the more the\n",
    "network thinks that the image is of the particular class. Every column corresponds to the\n",
    "output of one image, with the 10 floats in the column being the energies.\n",
    "\n",
    "Let's see how the model fared.\n"
   ]
  },
  {
   "cell_type": "code",
   "execution_count": null,
   "metadata": {},
   "outputs": [],
   "source": [
    "ids = rand(1:10000, 5)\n",
    "rand_test = test_x[:,:,:,ids] |> gpu\n",
    "rand_truth = test_y[ids]\n",
    "m(rand_test)"
   ]
  },
  {
   "cell_type": "markdown",
   "metadata": {},
   "source": [
    "This looks similar to how we would expect the results to be. At this point, it's a good\n",
    "idea to see how our net actually performs on new data, that we have prepared."
   ]
  },
  {
   "cell_type": "code",
   "execution_count": null,
   "metadata": {},
   "outputs": [],
   "source": [
    "accuracy(test[1]...)"
   ]
  },
  {
   "cell_type": "markdown",
   "metadata": {},
   "source": [
    "This is much better than random chance set at 10% (since we only have 10 classes), and\n",
    "not bad at all for a small hand written network like ours.\n",
    "\n",
    "Let's take a look at how the net performed on all the classes performed individually."
   ]
  },
  {
   "cell_type": "code",
   "execution_count": null,
   "metadata": {},
   "outputs": [],
   "source": [
    "class_correct = zeros(10)\n",
    "class_total = zeros(10)\n",
    "for i in 1:10\n",
    "  preds = m(test[i][1])\n",
    "  lab = test[i][2]\n",
    "  for j = 1:1000\n",
    "    pred_class = findmax(preds[:, j])[2]\n",
    "    actual_class = findmax(lab[:, j])[2]\n",
    "    if pred_class == actual_class\n",
    "      class_correct[pred_class] += 1\n",
    "    end\n",
    "    class_total[actual_class] += 1\n",
    "  end\n",
    "end\n",
    "\n",
    "class_correct ./ class_total"
   ]
  },
  {
   "cell_type": "markdown",
   "metadata": {},
   "source": [
    "The spread seems pretty good, with certain classes performing significantly better than the others.\n",
    "Why should that be?"
   ]
  }
 ],
 "metadata": {
  "kernelspec": {
   "display_name": "Julia 1.10.3",
   "language": "julia",
   "name": "julia-1.10"
  },
  "language_info": {
   "file_extension": ".jl",
   "mimetype": "application/julia",
   "name": "julia",
   "version": "1.10.3"
  }
 },
 "nbformat": 4,
 "nbformat_minor": 2
}
